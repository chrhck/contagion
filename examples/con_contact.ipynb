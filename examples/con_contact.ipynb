{
 "cells": [
  {
   "cell_type": "code",
   "execution_count": null,
   "metadata": {},
   "outputs": [],
   "source": [
    "# con_contact\n",
    "# Authors: Christian Haack, Stephan Meighen-Berger\n",
    "# Example of how to check the effects of contact tracing"
   ]
  },
  {
   "cell_type": "code",
   "execution_count": 1,
   "metadata": {},
   "outputs": [],
   "source": [
    "# General imports\n",
    "import numpy as np\n",
    "import matplotlib.pyplot as plt\n",
    "import sys"
   ]
  },
  {
   "cell_type": "code",
   "execution_count": 2,
   "metadata": {},
   "outputs": [],
   "source": [
    "# Adding path to module\n",
    "sys.path.append(\"../\")\n",
    "# picture path\n",
    "PICS = '../pics/'"
   ]
  },
  {
   "cell_type": "code",
   "execution_count": 3,
   "metadata": {},
   "outputs": [],
   "source": [
    "# Module imports\n",
    "from contagion import Contagion, config"
   ]
  },
  {
   "cell_type": "code",
   "execution_count": null,
   "metadata": {},
   "outputs": [],
   "source": [
    "# The fractions of interest\n",
    "tracking_fractions = [0.1,0.2,0.4,0.6]\n",
    "# Some options\n",
    "config[\"debug_level\"] = 0\n",
    "config[\"population size\"] = 5000\n",
    "config[\"average social circle\"] = 5\n",
    "config[\"infected\"] = 10\n",
    "infections = []\n",
    "infectious = []\n",
    "susceptible = []\n",
    "for tracked_fraction in tracking_fractions:\n",
    "    # Setting additional stuff\n",
    "    config['measures'] = 'contact tracing'\n",
    "    config['tracked'] = tracked_fraction\n",
    "    # Creating a fourth_day object\n",
    "    contagion = Contagion()\n",
    "    # Running the simulations\n",
    "    contagion.sim()\n",
    "    # Storing results\n",
    "    infections.append(contagion.statistics['new infections'])\n",
    "    infectious.append(contagion.statistics['infectious'])"
   ]
  },
  {
   "cell_type": "code",
   "execution_count": null,
   "metadata": {},
   "outputs": [],
   "source": [
    "# Plotting standards\n",
    "std_size = 10.\n",
    "fontsize = 20.\n",
    "lw=3.\n",
    "h_length=1."
   ]
  },
  {
   "cell_type": "code",
   "execution_count": null,
   "metadata": {},
   "outputs": [],
   "source": [
    "# Infections per time step\n",
    "figure, (ax1, ax2, ax3) = plt.subplots(3, 1 ,figsize=(std_size, std_size * 6. / 8.))\n",
    "colors = [\n",
    "    '#7b3294',\n",
    "    '#a1dab4',\n",
    "    '#41b6c4',\n",
    "    '#225ea8']\n",
    "high_x = 200\n",
    "#  New infections\n",
    "for i, tracked_fraction in enumerate(tracking_fractions):\n",
    "    ax1.plot(contagion.t, infections[i], color=colors[i],\n",
    "            lw=lw, label='Tracked: %.1f Percent' %(tracked_fraction*100.))\n",
    "ax1.set_xlim(1e0, high_x)\n",
    "ax1.set_ylim(0., 600)\n",
    "ax1.set_xscale('linear')\n",
    "ax1.set_yscale('linear')\n",
    "# ax1.set_xlabel(r't [Days]', fontsize=fontsize)\n",
    "ax1.set_ylabel(r'New infections', fontsize=fontsize)\n",
    "ax1.tick_params(axis = 'both', which = 'major', labelsize=fontsize, direction='in')\n",
    "ax1.tick_params(axis = 'both', which = 'minor', labelsize=fontsize, direction='in')\n",
    "h, l = ax1.get_legend_handles_labels()\n",
    "lgd1 = ax1.legend(h,l, loc=9, bbox_to_anchor=(0.5, +1.6),\n",
    "                 ncol=2, fontsize=fontsize, handlelength=h_length,\n",
    "                 fancybox=True, frameon=False)\n",
    "ax1.add_artist(lgd1)\n",
    "ax1.grid(True)\n",
    "# Infection total\n",
    "for i, tracked_fraction in enumerate(tracking_fractions):\n",
    "    ax2.plot(contagion.t, infectious[i], color=colors[i],\n",
    "            lw=lw)\n",
    "ax2.set_xlim(1e0, high_x)\n",
    "ax2.set_ylim(1e0, 2500)\n",
    "ax2.grid(True)\n",
    "ax2.set_xscale('linear')\n",
    "ax2.set_yscale('linear')\n",
    "ax2.set_xlabel(r't [Days]', fontsize=fontsize)\n",
    "ax2.set_ylabel(r'Infected', fontsize=fontsize)\n",
    "ax2.tick_params(axis = 'both', which = 'major', labelsize=fontsize, direction='in')\n",
    "ax2.tick_params(axis = 'both', which = 'minor', labelsize=fontsize, direction='in')\n",
    "# Healthy\n",
    "for i, tracked_fraction in enumerate(tracking_fractions):\n",
    "    ax3.plot(contagion.t,\n",
    "             config['population size'] - np.cumsum(infectious[i]),\n",
    "             lw=lw, color=colors[i],)\n",
    "ax3.set_xlim(1., high_x)\n",
    "ax3.set_ylim(0., 11000)\n",
    "ax3.set_xscale('linear')\n",
    "ax3.set_yscale('linear')\n",
    "ax3.set_xlabel(r't [Days]', fontsize=fontsize)\n",
    "ax3.set_ylabel(r'Susceptible', fontsize=fontsize)\n",
    "ax3.tick_params(axis = 'both', which = 'major', labelsize=fontsize, direction='in')\n",
    "ax3.tick_params(axis = 'both', which = 'minor', labelsize=fontsize, direction='in')\n",
    "ax3.grid(True)\n",
    "plt.show()"
   ]
  },
  {
   "cell_type": "code",
   "execution_count": null,
   "metadata": {},
   "outputs": [],
   "source": [
    "figure.savefig(PICS + \"Contagion_Contact_Tracing.png\",\n",
    "               bbox_inches='tight')"
   ]
  },
  {
   "cell_type": "code",
   "execution_count": null,
   "metadata": {},
   "outputs": [],
   "source": []
  }
 ],
 "metadata": {
  "kernelspec": {
   "display_name": "Python 3",
   "language": "python",
   "name": "python3"
  },
  "language_info": {
   "codemirror_mode": {
    "name": "ipython",
    "version": 3
   },
   "file_extension": ".py",
   "mimetype": "text/x-python",
   "name": "python",
   "nbconvert_exporter": "python",
   "pygments_lexer": "ipython3",
   "version": "3.7.6"
  }
 },
 "nbformat": 4,
 "nbformat_minor": 2
}
