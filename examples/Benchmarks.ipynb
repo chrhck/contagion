{
 "cells": [
  {
   "cell_type": "code",
   "execution_count": 9,
   "metadata": {},
   "outputs": [],
   "source": [
    "# General imports\n",
    "import numpy as np\n",
    "import pandas as pd\n",
    "import matplotlib.pyplot as plt\n",
    "import sys\n",
    "import yaml\n",
    "from tqdm import tqdm\n",
    "import seaborn as sns\n",
    "import cProfile"
   ]
  },
  {
   "cell_type": "code",
   "execution_count": 2,
   "metadata": {},
   "outputs": [],
   "source": [
    "# Adding path to module\n",
    "sys.path.append(\"../\")\n",
    "# picture path\n",
    "PICS = \"../pics/\"\n",
    "par_sets = \"./par\""
   ]
  },
  {
   "cell_type": "code",
   "execution_count": 3,
   "metadata": {},
   "outputs": [],
   "source": [
    "# Module imports\n",
    "from contagion import Contagion, config\n",
    "from contagion.config import _baseconfig"
   ]
  },
  {
   "cell_type": "code",
   "execution_count": 4,
   "metadata": {},
   "outputs": [],
   "source": [
    "#my_config = yaml.safe_load(open(\"fitted_config.yaml\"))\n",
    "my_config = yaml.safe_load(open(\"par_set_4.yaml\"))\n",
    "#print(my_config)\n",
    "\n",
    "this_config = dict(_baseconfig)\n",
    "this_config.update(my_config)"
   ]
  },
  {
   "cell_type": "code",
   "execution_count": 5,
   "metadata": {},
   "outputs": [],
   "source": [
    "# Benchmark 1\n",
    "this_config[\"measures\"][\"contact tracing\"] = True\n",
    "this_config[\"measures\"][\"second order\"] = False\n",
    "this_config[\"measures\"][\"tracked fraction\"] = 0.\n",
    "this_config[\"measures\"][\"backtrack length\"] = 0.\n",
    "this_config[\"measures\"][\"track uninfected\"] = False\n",
    "\n",
    "this_config[\"measures\"][\"quarantine\"] = True\n",
    "this_config[\"measures\"][\"report symptomatic\"] = True\n",
    "this_config[\"measures\"][\"quarantine duration\"] = 14.\n",
    "\n",
    "this_config[\"measures\"][\"testing\"] = False\n",
    "this_config[\"measures\"][\"time until test\"] = 0.\n",
    "this_config[\"measures\"][\"time until result\"] = 0."
   ]
  },
  {
   "cell_type": "code",
   "execution_count": 6,
   "metadata": {},
   "outputs": [],
   "source": [
    "# Benchmark 2\n",
    "this_config[\"measures\"][\"contact tracing\"] = True\n",
    "this_config[\"measures\"][\"second order\"] = False\n",
    "this_config[\"measures\"][\"tracked fraction\"] = 0.1\n",
    "this_config[\"measures\"][\"backtrack length\"] = 0.\n",
    "this_config[\"measures\"][\"track uninfected\"] = False\n",
    "\n",
    "this_config[\"measures\"][\"quarantine\"] = True\n",
    "this_config[\"measures\"][\"report symptomatic\"] = True\n",
    "this_config[\"measures\"][\"quarantine duration\"] = 14.\n",
    "\n",
    "this_config[\"measures\"][\"testing\"] = False\n",
    "this_config[\"measures\"][\"time until test\"] = 0.\n",
    "this_config[\"measures\"][\"time until result\"] = 0."
   ]
  },
  {
   "cell_type": "code",
   "execution_count": 7,
   "metadata": {},
   "outputs": [],
   "source": [
    "# Benchmark 3\n",
    "this_config[\"measures\"][\"contact tracing\"] = True\n",
    "this_config[\"measures\"][\"second order\"] = False\n",
    "this_config[\"measures\"][\"tracked fraction\"] = 0.35\n",
    "this_config[\"measures\"][\"backtrack length\"] = 0.\n",
    "this_config[\"measures\"][\"track uninfected\"] = False\n",
    "\n",
    "this_config[\"measures\"][\"quarantine\"] = True\n",
    "this_config[\"measures\"][\"report symptomatic\"] = True\n",
    "this_config[\"measures\"][\"quarantine duration\"] = 14.\n",
    "\n",
    "this_config[\"measures\"][\"testing\"] = False\n",
    "this_config[\"measures\"][\"time until test\"] = 0.\n",
    "this_config[\"measures\"][\"time until result\"] = 0.\n",
    "\n",
    "this_config[\"scenario\"][\"sim_length\"] = 200"
   ]
  },
  {
   "cell_type": "code",
   "execution_count": 8,
   "metadata": {},
   "outputs": [],
   "source": [
    "# Benchmark 4\n",
    "this_config[\"measures\"][\"contact tracing\"] = True\n",
    "this_config[\"measures\"][\"second order\"] = False\n",
    "this_config[\"measures\"][\"tracked fraction\"] = 0.35\n",
    "this_config[\"measures\"][\"backtrack length\"] = 14.\n",
    "this_config[\"measures\"][\"track uninfected\"] = False\n",
    "\n",
    "this_config[\"measures\"][\"quarantine\"] = True\n",
    "this_config[\"measures\"][\"report symptomatic\"] = True\n",
    "this_config[\"measures\"][\"quarantine duration\"] = 14.\n",
    "\n",
    "this_config[\"measures\"][\"testing\"] = False\n",
    "this_config[\"measures\"][\"time until test\"] = 0.\n",
    "this_config[\"measures\"][\"time until result\"] = 0.\n",
    "\n",
    "this_config[\"scenario\"][\"sim_length\"] = 200"
   ]
  },
  {
   "cell_type": "code",
   "execution_count": 5,
   "metadata": {},
   "outputs": [],
   "source": [
    "# Testimg\n",
    "this_config[\"measures\"][\"contact tracing\"] = False\n",
    "this_config[\"measures\"][\"second order\"] = False\n",
    "this_config[\"measures\"][\"tracked fraction\"] = 1\n",
    "this_config[\"measures\"][\"backtrack length\"] = 14.\n",
    "this_config[\"measures\"][\"track uninfected\"] = False\n",
    "\n",
    "this_config[\"measures\"][\"quarantine\"] = True\n",
    "this_config[\"measures\"][\"report symptomatic\"] = True\n",
    "this_config[\"measures\"][\"quarantine duration\"] = 14.\n",
    "\n",
    "this_config[\"measures\"][\"testing\"] = True\n",
    "this_config[\"measures\"][\"time until test\"] = 1\n",
    "this_config[\"measures\"][\"time until result\"] = 4\n",
    "\n",
    "this_config[\"scenario\"][\"sim_length\"] = 200"
   ]
  },
  {
   "cell_type": "code",
   "execution_count": 6,
   "metadata": {},
   "outputs": [
    {
     "name": "stderr",
     "output_type": "stream",
     "text": [
      "100%|██████████████████████████████████████████| 10/10 [00:28<00:00,  2.86s/it]\n"
     ]
    }
   ],
   "source": [
    "stats = []\n",
    "for i in tqdm(range(0, 10)):\n",
    "    this_config[\"general\"][\"random state seed\"] = i\n",
    "    contagion = Contagion(userconfig=this_config)\n",
    "    contagion.sim()\n",
    "    stat = pd.DataFrame(contagion.statistics)\n",
    "    stats.append(stat)"
   ]
  },
  {
   "cell_type": "code",
   "execution_count": 8,
   "metadata": {},
   "outputs": [
    {
     "data": {
      "image/png": "[encoded data removed]",
      "text/plain": [
       "<Figure size 432x288 with 1 Axes>"
      ]
     },
     "metadata": {
      "needs_background": "light"
     },
     "output_type": "display_data"
    }
   ],
   "source": [
    "for res in stats:\n",
    "    plt.plot(res[\"is_infected\"] + res[\"is_recovered\"], \"r\")\n",
    "    plt.plot(res[\"is_tested\"], \"b\")\n",
    "    plt.plot(res[\"is_tested_positive\"], \"g\")\n",
    "    plt.plot(res[\"will_test_negative\"], \"y\")"
   ]
  },
  {
   "cell_type": "code",
   "execution_count": 13,
   "metadata": {},
   "outputs": [
    {
     "data": {
      "text/plain": [
       "0.46300735781502145"
      ]
     },
     "execution_count": 13,
     "metadata": {},
     "output_type": "execute_result"
    }
   ],
   "source": [
    "import random\n",
    "random.uniform(0, 1)"
   ]
  },
  {
   "cell_type": "code",
   "execution_count": 10,
   "metadata": {},
   "outputs": [],
   "source": [
    "profile = cProfile.Profile()\n",
    "profile.enable()\n",
    "contagion.sim()\n",
    "profile.disable()\n",
    "profile.dump_stats(\"profile.prof\")"
   ]
  },
  {
   "cell_type": "code",
   "execution_count": 7,
   "metadata": {},
   "outputs": [],
   "source": [
    "stats_concat = pd.concat((s for s in stats))"
   ]
  },
  {
   "cell_type": "code",
   "execution_count": 8,
   "metadata": {},
   "outputs": [],
   "source": [
    "by_row_index = stats_concat.groupby(stats_concat.index)\n",
    "stat_means = by_row_index.mean()\n",
    "stat_var = by_row_index.std()"
   ]
  },
  {
   "cell_type": "code",
   "execution_count": 9,
   "metadata": {},
   "outputs": [],
   "source": [
    "stat_means.to_pickle(\"means_benchmar4_par4_randSeed.pkl\")\n",
    "stat_var.to_pickle(\"var_benchmark4_par4_randSeed.pkl\")"
   ]
  },
  {
   "cell_type": "code",
   "execution_count": null,
   "metadata": {},
   "outputs": [],
   "source": [
    "fig, ax = plt.subplots(3, 1, sharex=True, figsize=(10, 10))\n",
    "\n",
    "colors = sns.color_palette(\"colorblind\", 3)\n",
    "\n",
    "ax[0].plot(stat_means[\"is_infected\"], label=\"Infected\", color=colors[0])\n",
    "ax[0].fill_between(\n",
    "    range(0, len(stat_means[\"is_infected\"]), 1),\n",
    "    stat_means[\"is_infected\"] - stat_var[\"is_infected\"] / 2.0,\n",
    "    stat_means[\"is_infected\"] + stat_var[\"is_infected\"] / 2.0,\n",
    "    color=colors[0],\n",
    "    alpha=0.5,\n",
    ")\n",
    "ax[0].plot(stat_means[\"is_recovered\"], label=\"Recovered\", color=colors[1])\n",
    "ax[0].fill_between(\n",
    "    range(0, len(stat_means[\"is_recovered\"]), 1),\n",
    "    stat_means[\"is_recovered\"] - stat_var[\"is_recovered\"] / 2.0,\n",
    "    stat_means[\"is_recovered\"] + stat_var[\"is_recovered\"] / 2.0,\n",
    "    color=colors[1],\n",
    "    alpha=0.5,\n",
    ")\n",
    "ax[0].grid(ls=\"--\")\n",
    "ax[0].legend()\n",
    "ax[0].set_xlim([0.0, 150.0])\n",
    "\n",
    "ax[1].plot(stat_means[\"is_latent\"], label=\"Latent\", color=colors[0])\n",
    "ax[1].fill_between(\n",
    "    range(0, len(stat_means[\"is_latent\"]), 1),\n",
    "    stat_means[\"is_latent\"] - stat_var[\"is_latent\"] / 2.0,\n",
    "    stat_means[\"is_latent\"] + stat_var[\"is_latent\"] / 2.0,\n",
    "    color=colors[0],\n",
    "    alpha=0.5,\n",
    ")\n",
    "ax[1].plot(stat_means[\"is_infectious\"], label=\"Infectious\", color=colors[1])\n",
    "ax[1].fill_between(\n",
    "    range(0, len(stat_means[\"is_infectious\"]), 1),\n",
    "    stat_means[\"is_infectious\"] - stat_var[\"is_infectious\"] / 2.0,\n",
    "    stat_means[\"is_infectious\"] + stat_var[\"is_infectious\"] / 2.0,\n",
    "    color=colors[1],\n",
    "    alpha=0.5,\n",
    ")\n",
    "ax[1].plot(stat_means[\"is_symptomatic\"], label=\"Symptomatic\", color=colors[2])\n",
    "ax[1].fill_between(\n",
    "    range(0, len(stat_means[\"is_symptomatic\"]), 1),\n",
    "    stat_means[\"is_symptomatic\"] - stat_var[\"is_symptomatic\"] / 2.0,\n",
    "    stat_means[\"is_symptomatic\"] + stat_var[\"is_symptomatic\"] / 2.0,\n",
    "    color=colors[2],\n",
    "    alpha=0.5,\n",
    ")\n",
    "ax[1].grid(ls=\"--\")\n",
    "ax[1].legend()\n",
    "\n",
    "ax[2].plot(stat_means[\"is_quarantined\"], label=\"Quarantined\", color=colors[0])\n",
    "ax[2].fill_between(\n",
    "    range(0, len(stat_means[\"is_quarantined\"]), 1),\n",
    "    stat_means[\"is_quarantined\"] - stat_var[\"is_quarantined\"] / 2.0,\n",
    "    stat_means[\"is_quarantined\"] + stat_var[\"is_quarantined\"] / 2.0,\n",
    "    color=colors[0],\n",
    "    alpha=0.5,\n",
    ")\n",
    "# ax[2].plot(stat_means[\"is_tested\"], label=\"Tested\")\n",
    "# ax[2].plot(stat_means[\"will_be_tested\"], label=\"Waiting for test\")\n",
    "ax[2].grid(ls=\"--\")\n",
    "ax[2].legend()"
   ]
  },
  {
   "cell_type": "code",
   "execution_count": null,
   "metadata": {},
   "outputs": [],
   "source": [
    "#benchmark 1 data\n",
    "data = np.loadtxt(\"cpp_model.csv\", delimiter=\",\")\n",
    "data = {\"is_recovered\": data[:, 1], \"is_infectious\": data[:, 0], \"is_latent\": data[:, 2]}"
   ]
  },
  {
   "cell_type": "code",
   "execution_count": null,
   "metadata": {},
   "outputs": [],
   "source": [
    "#benchmark 1 plot\n",
    "fig,ax = plt.subplots(figsize=(6,4))\n",
    "colors = sns.color_palette(\"colorblind\", 3)\n",
    "ax.plot(stat_means[\"is_recovered\"]+stat_means[\"is_recovering\"], color=colors[0], lw=2, label=\"Py - Recovered\")\n",
    "ax.fill_between(\n",
    "    range(0, len(stat_means[\"is_recovered\"]), 1),\n",
    "    (stat_means[\"is_recovered\"]+stat_means[\"is_recovering\"]) - np.sqrt(stat_var[\"is_recovered\"]**2 + stat_var[\"is_recovering\"]**2)/2.,\n",
    "    (stat_means[\"is_recovered\"]+stat_means[\"is_recovering\"]) + np.sqrt(stat_var[\"is_recovered\"]**2 + stat_var[\"is_recovering\"]**2)/2.,\n",
    "    color=colors[0],\n",
    "    alpha=0.3\n",
    ")\n",
    "ax.plot(stat_means[\"is_infectious\"], color=colors[1], lw=2, label=\"Py - Infectious\")\n",
    "ax.fill_between(\n",
    "    range(0, len(stat_means[\"is_infectious\"]), 1),\n",
    "    stat_means[\"is_infectious\"] - stat_var[\"is_infectious\"]/2.,\n",
    "    stat_means[\"is_infectious\"] + stat_var[\"is_infectious\"]/2.,\n",
    "    color=colors[1],\n",
    "    alpha=0.3\n",
    ")\n",
    "ax.plot(stat_means[\"is_latent\"], color=colors[2], lw=2, label=\"Py - Latent\")\n",
    "ax.fill_between(\n",
    "    range(0, len(stat_means[\"is_latent\"]), 1),\n",
    "    stat_means[\"is_latent\"] - stat_var[\"is_latent\"]/2.,\n",
    "    stat_means[\"is_latent\"] + stat_var[\"is_latent\"]/2.,\n",
    "    color=colors[2],\n",
    "    alpha=0.3\n",
    ")\n",
    "\n",
    "ax.plot(data[\"is_recovered\"], color=colors[0], ls='--', label=\"Cpp - Recovered\")\n",
    "ax.plot(data[\"is_infectious\"], color=colors[1], ls='--', label=\"Cpp - Infectious\")\n",
    "ax.plot(data[\"is_latent\"], color=colors[2], ls='--', label=\"Cpp - Latent\")\n",
    "\n",
    "ax.set_xlabel(\"Day\")\n",
    "ax.set_ylabel(\"\")\n",
    "plt.legend()"
   ]
  },
  {
   "cell_type": "code",
   "execution_count": null,
   "metadata": {},
   "outputs": [],
   "source": [
    "fig.savefig(PICS+\"/benchmarks/Benchmark_1.pdf\")"
   ]
  },
  {
   "cell_type": "code",
   "execution_count": null,
   "metadata": {},
   "outputs": [],
   "source": [
    "#benchmark 2 data\n",
    "data_2 = np.loadtxt(\"benchmark_2_cpp.csv\", delimiter=\",\", skiprows=1)\n",
    "data_2 = {\"is_recovered\": data_2[:, 3], \"is_infectious\": data_2[:, 2], \"is_latent\": data_2[:, 1]}"
   ]
  },
  {
   "cell_type": "code",
   "execution_count": null,
   "metadata": {},
   "outputs": [],
   "source": [
    "#benchmark 2 plot\n",
    "fig,ax = plt.subplots(figsize=(6,4))\n",
    "colors = sns.color_palette(\"colorblind\", 3)\n",
    "ax.plot(stat_means[\"is_recovered\"]+stat_means[\"is_recovering\"], color=colors[0], lw=2, label=\"Py - Recovered\")\n",
    "ax.fill_between(\n",
    "    range(0, len(stat_means[\"is_recovered\"]), 1),\n",
    "    stat_means[\"is_recovered\"]+stat_means[\"is_recovering\"] - np.sqrt(stat_var[\"is_recovered\"]**2 + stat_var[\"is_recovering\"]**2)/2.,\n",
    "    stat_means[\"is_recovered\"]+stat_means[\"is_recovering\"] + np.sqrt(stat_var[\"is_recovered\"]**2 + stat_var[\"is_recovering\"]**2)/2.,\n",
    "    color=colors[0],\n",
    "    alpha=0.3\n",
    ")\n",
    "ax.plot(stat_means[\"is_infectious\"], color=colors[1], lw=2, label=\"Py - Infectious\")\n",
    "ax.fill_between(\n",
    "    range(0, len(stat_means[\"is_infectious\"]), 1),\n",
    "    stat_means[\"is_infectious\"] - stat_var[\"is_infectious\"]/2.,\n",
    "    stat_means[\"is_infectious\"] + stat_var[\"is_infectious\"]/2.,\n",
    "    color=colors[1],\n",
    "    alpha=0.3\n",
    ")\n",
    "ax.plot(stat_means[\"is_latent\"], color=colors[2], lw=2, label=\"Py - Latent\")\n",
    "ax.fill_between(\n",
    "    range(0, len(stat_means[\"is_latent\"]), 1),\n",
    "    stat_means[\"is_latent\"] - stat_var[\"is_latent\"]/2.,\n",
    "    stat_means[\"is_latent\"] + stat_var[\"is_latent\"]/2.,\n",
    "    color=colors[2],\n",
    "    alpha=0.3\n",
    ")\n",
    "\n",
    "ax.plot(data_2[\"is_recovered\"], color=colors[0], ls='--', label=\"Cpp - Recovered\")\n",
    "ax.plot(data_2[\"is_infectious\"], color=colors[1], ls='--', label=\"Cpp - Infectious\")\n",
    "ax.plot(data_2[\"is_latent\"], color=colors[2], ls='--', label=\"Cpp - Latent\")\n",
    "\n",
    "ax.set_xlabel(\"Day\")\n",
    "ax.set_ylabel(\"\")\n",
    "plt.legend()"
   ]
  },
  {
   "cell_type": "code",
   "execution_count": null,
   "metadata": {},
   "outputs": [],
   "source": [
    "fig.savefig(PICS+\"/benchmarks/Benchmark_2.pdf\")"
   ]
  },
  {
   "cell_type": "code",
   "execution_count": null,
   "metadata": {},
   "outputs": [],
   "source": [
    "#benchmark 3 data\n",
    "data_3 = np.loadtxt(\"benchmark_3_cpp.csv\", delimiter=\",\", skiprows=1)\n",
    "data_3 = {\"is_recovered\": data_3[:, 3], \"is_infectious\": data_3[:, 2], \"is_latent\": data_3[:, 1]}"
   ]
  },
  {
   "cell_type": "code",
   "execution_count": null,
   "metadata": {},
   "outputs": [],
   "source": [
    "#benchmark 3 plot\n",
    "fig,ax = plt.subplots(figsize=(6,4))\n",
    "colors = sns.color_palette(\"colorblind\", 3)\n",
    "ax.plot(stat_means[\"is_recovered\"]+stat_means[\"is_recovering\"], color=colors[0], lw=2, label=\"Py - Recovered\")\n",
    "ax.fill_between(\n",
    "    range(0, len(stat_means[\"is_recovered\"]), 1),\n",
    "    stat_means[\"is_recovered\"]+stat_means[\"is_recovering\"] - np.sqrt(stat_var[\"is_recovered\"]**2 + stat_var[\"is_recovering\"]**2)/2.,\n",
    "    stat_means[\"is_recovered\"]+stat_means[\"is_recovering\"] + np.sqrt(stat_var[\"is_recovered\"]**2 + stat_var[\"is_recovering\"]**2)/2.,\n",
    "    color=colors[0],\n",
    "    alpha=0.3\n",
    ")\n",
    "ax.plot(stat_means[\"is_infectious\"], color=colors[1], lw=2, label=\"Py - Infectious\")\n",
    "ax.fill_between(\n",
    "    range(0, len(stat_means[\"is_infectious\"]), 1),\n",
    "    stat_means[\"is_infectious\"] - stat_var[\"is_infectious\"]/2.,\n",
    "    stat_means[\"is_infectious\"] + stat_var[\"is_infectious\"]/2.,\n",
    "    color=colors[1],\n",
    "    alpha=0.3\n",
    ")\n",
    "ax.plot(stat_means[\"is_latent\"], color=colors[2], lw=2, label=\"Py - Latent\")\n",
    "ax.fill_between(\n",
    "    range(0, len(stat_means[\"is_latent\"]), 1),\n",
    "    stat_means[\"is_latent\"] - stat_var[\"is_latent\"]/2.,\n",
    "    stat_means[\"is_latent\"] + stat_var[\"is_latent\"]/2.,\n",
    "    color=colors[2],\n",
    "    alpha=0.3\n",
    ")\n",
    "\n",
    "ax.plot(data_3[\"is_recovered\"], color=colors[0], ls='--', label=\"Cpp - Recovered\")\n",
    "ax.plot(data_3[\"is_infectious\"], color=colors[1], ls='--', label=\"Cpp - Infectious\")\n",
    "ax.plot(data_3[\"is_latent\"], color=colors[2], ls='--', label=\"Cpp - Latent\")\n",
    "\n",
    "ax.set_xlabel(\"Day\")\n",
    "ax.set_ylabel(\"\")\n",
    "plt.legend()"
   ]
  },
  {
   "cell_type": "code",
   "execution_count": null,
   "metadata": {},
   "outputs": [],
   "source": [
    "fig.savefig(PICS+\"/benchmarks/Benchmark_3.pdf\")"
   ]
  },
  {
   "cell_type": "code",
   "execution_count": null,
   "metadata": {},
   "outputs": [],
   "source": [
    "#benchmark 4 data\n",
    "data_4 = np.loadtxt(\"benchmark_4_cpp.csv\", delimiter=\",\", skiprows=1)\n",
    "data_4 = {\"is_recovered\": data_4[:, 3], \"is_infectious\": data_4[:, 2], \"is_latent\": data_4[:, 1]}"
   ]
  },
  {
   "cell_type": "code",
   "execution_count": null,
   "metadata": {},
   "outputs": [],
   "source": [
    "#benchmark 4 plot\n",
    "fig,ax = plt.subplots(figsize=(6,4))\n",
    "colors = sns.color_palette(\"colorblind\", 3)\n",
    "ax.plot(stat_means[\"is_recovered\"]+stat_means[\"is_recovering\"], color=colors[0], lw=2, label=\"Py - Recovered\")\n",
    "ax.fill_between(\n",
    "    range(0, len(stat_means[\"is_recovered\"]), 1),\n",
    "    stat_means[\"is_recovered\"]+stat_means[\"is_recovering\"] - np.sqrt(stat_var[\"is_recovered\"]**2 + stat_var[\"is_recovering\"]**2)/2.,\n",
    "    stat_means[\"is_recovered\"]+stat_means[\"is_recovering\"] + np.sqrt(stat_var[\"is_recovered\"]**2 + stat_var[\"is_recovering\"]**2)/2.,\n",
    "    color=colors[0],\n",
    "    alpha=0.3\n",
    ")\n",
    "ax.plot(stat_means[\"is_infectious\"], color=colors[1], lw=2, label=\"Py - Infectious\")\n",
    "ax.fill_between(\n",
    "    range(0, len(stat_means[\"is_infectious\"]), 1),\n",
    "    stat_means[\"is_infectious\"] - stat_var[\"is_infectious\"]/2.,\n",
    "    stat_means[\"is_infectious\"] + stat_var[\"is_infectious\"]/2.,\n",
    "    color=colors[1],\n",
    "    alpha=0.3\n",
    ")\n",
    "ax.plot(stat_means[\"is_latent\"], color=colors[2], lw=2, label=\"Py - Latent\")\n",
    "ax.fill_between(\n",
    "    range(0, len(stat_means[\"is_latent\"]), 1),\n",
    "    stat_means[\"is_latent\"] - stat_var[\"is_latent\"]/2.,\n",
    "    stat_means[\"is_latent\"] + stat_var[\"is_latent\"]/2.,\n",
    "    color=colors[2],\n",
    "    alpha=0.3\n",
    ")\n",
    "\n",
    "ax.plot(data_4[\"is_recovered\"], color=colors[0], ls='--', label=\"Cpp - Recovered\")\n",
    "ax.plot(data_4[\"is_infectious\"], color=colors[1], ls='--', label=\"Cpp - Infectious\")\n",
    "ax.plot(data_4[\"is_latent\"], color=colors[2], ls='--', label=\"Cpp - Latent\")\n",
    "\n",
    "ax.set_xlim([0.,150])\n",
    "ax.set_xlabel(\"Day\")\n",
    "ax.set_ylabel(\"\")\n",
    "plt.legend()"
   ]
  },
  {
   "cell_type": "code",
   "execution_count": null,
   "metadata": {},
   "outputs": [],
   "source": [
    "fig.savefig(PICS+\"/benchmarks/Benchmark_4.pdf\")"
   ]
  },
  {
   "cell_type": "code",
   "execution_count": null,
   "metadata": {},
   "outputs": [],
   "source": []
  }
 ],
 "metadata": {
  "kernelspec": {
   "display_name": "Python 3",
   "language": "python",
   "name": "python3"
  },
  "language_info": {
   "codemirror_mode": {
    "name": "ipython",
    "version": 3
   },
   "file_extension": ".py",
   "mimetype": "text/x-python",
   "name": "python",
   "nbconvert_exporter": "python",
   "pygments_lexer": "ipython3",
   "version": "3.8.1"
  }
 },
 "nbformat": 4,
 "nbformat_minor": 4
}
