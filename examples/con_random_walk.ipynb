{
 "cells": [
  {
   "cell_type": "code",
   "execution_count": 1,
   "metadata": {},
   "outputs": [
    {
     "data": {
      "text/plain": [
       "'\\nName: con_random_walk.ipynb\\nAuthors: Stephan Meighen-Berger\\nExample of the random walk simulations that can be done\\n'"
      ]
     },
     "execution_count": 1,
     "metadata": {},
     "output_type": "execute_result"
    }
   ],
   "source": [
    "\"\"\"\n",
    "Name: con_random_walk.ipynb\n",
    "Authors: Stephan Meighen-Berger\n",
    "Example of the random walk simulations that can be done\n",
    "\"\"\""
   ]
  },
  {
   "cell_type": "code",
   "execution_count": 2,
   "metadata": {},
   "outputs": [],
   "source": [
    "# General imports\n",
    "import numpy as np\n",
    "import matplotlib.pyplot as plt\n",
    "import sys\n",
    "from scipy.signal import savgol_filter\n",
    "from tqdm import tqdm"
   ]
  },
  {
   "cell_type": "code",
   "execution_count": 3,
   "metadata": {},
   "outputs": [],
   "source": [
    "# Latex text rendering\n",
    "from matplotlib import rc\n",
    "rc('font',**{'family':'sans-serif','sans-serif':['Helvetica']})\n",
    "rc('text', usetex=True)"
   ]
  },
  {
   "cell_type": "code",
   "execution_count": 4,
   "metadata": {},
   "outputs": [],
   "source": [
    "# Adding path to module\n",
    "sys.path.append(\"../core/\")"
   ]
  },
  {
   "cell_type": "code",
   "execution_count": 5,
   "metadata": {},
   "outputs": [],
   "source": [
    "# Module imports\n",
    "from contagion import CONTAGION\n",
    "from con_config import config"
   ]
  },
  {
   "cell_type": "code",
   "execution_count": 6,
   "metadata": {},
   "outputs": [
    {
     "name": "stderr",
     "output_type": "stream",
     "text": [
      "INFO: ---------------------------------------------------\n",
      "INFO: ---------------------------------------------------\n",
      "INFO: Welcome to contagion!\n",
      "INFO: This package will help you model the spread of infections\n",
      "INFO: Simulation type is set to random walk\n",
      "INFO: ---------------------------------------------------\n",
      "INFO: ---------------------------------------------------\n",
      "INFO: Creating the world\n",
      "INFO: Finished world building\n",
      "INFO: ---------------------------------------------------\n",
      "INFO: ---------------------------------------------------\n",
      "INFO: Setting the simulation framework\n",
      "INFO: Simulation framework set. Please type:\n",
      "INFO: self.sim(parameters) to run the simulation\n",
      "INFO: ---------------------------------------------------\n",
      "INFO: ---------------------------------------------------\n"
     ]
    }
   ],
   "source": [
    "# Creating a fourth_day object\n",
    "pop = 200\n",
    "infected=2\n",
    "contagion = CONTAGION(pop, infected, config=config)"
   ]
  },
  {
   "cell_type": "code",
   "execution_count": 7,
   "metadata": {},
   "outputs": [],
   "source": [
    "# Launching solver\n",
    "seconds = 500"
   ]
  },
  {
   "cell_type": "code",
   "execution_count": 8,
   "metadata": {},
   "outputs": [],
   "source": [
    "# Plotting standards\n",
    "std_size = 10.\n",
    "fontsize = 20.\n",
    "lw=3.\n",
    "h_length=1.5"
   ]
  },
  {
   "cell_type": "code",
   "execution_count": 9,
   "metadata": {},
   "outputs": [
    {
     "name": "stderr",
     "output_type": "stream",
     "text": [
      "../core\\con_random_walk.py:296: RuntimeWarning: invalid value encountered in double_scalars\n",
      "  (np.linalg.norm(new_vec) * np.linalg.norm(current_vec))\n",
      "INFO: Finished calculation\n",
      "INFO: ---------------------------------------------------\n",
      "INFO: ---------------------------------------------------\n",
      "INFO: Finished calculation\n",
      "INFO: ---------------------------------------------------\n",
      "INFO: ---------------------------------------------------\n",
      "INFO: Finished calculation\n",
      "INFO: ---------------------------------------------------\n",
      "INFO: ---------------------------------------------------\n"
     ]
    }
   ],
   "source": [
    "# Storing the solutions\n",
    "res_store = []\n",
    "mean_vel = [1., 1.5, 2.]\n",
    "for i in range(3):\n",
    "    res_store.append(contagion.sim(mean_vel[i], 2., seconds=seconds, vel_var=1., dist_var=1.))"
   ]
  },
  {
   "cell_type": "code",
   "execution_count": 10,
   "metadata": {},
   "outputs": [],
   "source": [
    "# Binning function\n",
    "def binning(array, s_bin=10):\n",
    "    return np.array([\n",
    "        np.sum(array[i*s_bin:(i+1)*s_bin])\n",
    "        for i in range(int(len(array)/s_bin))\n",
    "    ])"
   ]
  },
  {
   "cell_type": "code",
   "execution_count": 11,
   "metadata": {},
   "outputs": [],
   "source": [
    "# Binning\n",
    "bin_size = 10\n",
    "res_binned = np.array([\n",
    "    binning(np.sum(res_store[i], axis=1), s_bin=bin_size)\n",
    "    for i in range(len(res_store))\n",
    "])"
   ]
  },
  {
   "cell_type": "code",
   "execution_count": 12,
   "metadata": {},
   "outputs": [],
   "source": [
    "# Smoothing the results\n",
    "res_smoothed = np.array([\n",
    "    savgol_filter(res_binned[i], 31, 3)\n",
    "    for i in range(len(res_binned))\n",
    "])"
   ]
  },
  {
   "cell_type": "code",
   "execution_count": 13,
   "metadata": {},
   "outputs": [
    {
     "name": "stderr",
     "output_type": "stream",
     "text": [
      "WARNING:matplotlib.font_manager:findfont: Font family ['sans-serif'] not found. Falling back to DejaVu Sans.\n"
     ]
    },
    {
     "data": {
      "image/png": "[encoded data removed]",
      "text/plain": [
       "<Figure size 720x540 with 1 Axes>"
      ]
     },
     "metadata": {
      "needs_background": "light"
     },
     "output_type": "display_data"
    }
   ],
   "source": [
    "# Infections per time step\n",
    "figure, ax = plt.subplots(figsize=(std_size, std_size * 6. / 8.))\n",
    "colors = ['#fdcc8a',\n",
    "          '#fc8d59',\n",
    "          '#d7301f']\n",
    "for i, _ in enumerate(mean_vel):\n",
    "    ax.errorbar(\n",
    "        contagion.t[::bin_size], \n",
    "        res_binned[i],\n",
    "        yerr=np.sqrt(res_binned[i]),\n",
    "        fmt='o',\n",
    "        markersize=lw, color=colors[i],\n",
    "        alpha=0.5,\n",
    "        label=r'$v_{social} = %.1f$' %mean_vel[i]\n",
    "    )\n",
    "    ax.plot(\n",
    "        contagion.t[::bin_size], \n",
    "        res_smoothed[i], \n",
    "        lw=lw, color=colors[i],\n",
    "    )\n",
    "ax.set_xlim(1e0, 500)\n",
    "ax.set_ylim(0., 20)\n",
    "ax.set_xscale('linear')\n",
    "ax.set_yscale('linear')\n",
    "ax.set_xlabel(r'$t$', fontsize=fontsize)\n",
    "ax.set_ylabel(r'$Infections$', fontsize=fontsize)\n",
    "ax.tick_params(axis = 'both', which = 'major', labelsize=fontsize, direction='in')\n",
    "ax.tick_params(axis = 'both', which = 'minor', labelsize=fontsize, direction='in')\n",
    "plt.grid(True)\n",
    "h, l = ax.get_legend_handles_labels()\n",
    "lgd1 = ax.legend(h,l, loc=9, bbox_to_anchor=(0.8, +1.),\n",
    "                 ncol=1, fontsize=fontsize, handlelength=h_length,\n",
    "                 fancybox=True, frameon=True)\n",
    "ax.add_artist(lgd1)\n",
    "plt.show()"
   ]
  },
  {
   "cell_type": "code",
   "execution_count": 14,
   "metadata": {},
   "outputs": [],
   "source": [
    "# figure.savefig(\"C:\\\\Users\\\\steph\\\\OneDrive\\\\University TUM\\\\PhD\\\\Plots\\\\Biolumi\\\\MC_Social_Rate_pop_6000_infected_5.png\",\n",
    "#                bbox_inches='tight')"
   ]
  },
  {
   "cell_type": "code",
   "execution_count": 15,
   "metadata": {},
   "outputs": [
    {
     "data": {
      "text/plain": [
       "'\\n# Animation stack\\n# This requires \"save population\" in config to be set to true\\nfontsize = 15.\\nimport matplotlib.colors as colors\\n# The frames are created in a loop\\ncmap = plt.cm.viridis\\nnorm = colors.Normalize(vmin=0., vmax=1.)\\nfor i, _ in tqdm(enumerate(fd.t)):\\n    figure = plt.figure(figsize=(std_size, std_size * 6. / 8.))\\n    ax = figure.add_subplot(111)\\n    ax.scatter(fd.mc_run.distribution[i][:,0], fd.mc_run.distribution[i][:,1],\\n               color=cmap(norm(fd.mc_run.distribution[i][:,-1])),\\n               s=50.\\n               )\\n    ax.title=ax.set_title(\\'Population t = %.f\\' %fd.t[i], fontsize=fontsize)\\n    ax.set_xlim(-fd.world.bounding_box/2, fd.world.bounding_box/2)\\n    ax.set_ylim(-fd.world.bounding_box/2, fd.world.bounding_box/2)\\n    ax.set_xlabel(r\\'$X$\\', fontsize=fontsize)\\n    ax.set_ylabel(r\\'$Y$\\', fontsize=fontsize)\\n    ax.tick_params(axis = \\'both\\', which = \\'major\\', labelsize=fontsize)\\n    ax.tick_params(axis = \\'both\\', which = \\'minor\\', labelsize=fontsize)\\n    figure.savefig(\\'C:\\\\Users\\\\steph\\\\OneDrive\\\\University TUM\\\\PhD\\\\Plots\\\\Biolumi\\\\Frames\\\\frame_%d.png\\' %i)\\n    plt.close(figure)\\nimport imageio\\nimages = []\\nfilenames = np.array([\\n    \\'C:\\\\Users\\\\steph\\\\OneDrive\\\\University TUM\\\\PhD\\\\Plots\\\\Biolumi\\\\Frames\\\\frame_%d.png\\' %i\\n    for i in range(len(fd.t))\\n])\\nfor filename in filenames:\\n    images.append(imageio.imread(filename))\\nimageio.mimsave(\\'C:\\\\Users\\\\steph\\\\OneDrive\\\\University TUM\\\\PhD\\\\Plots\\\\Biolumi\\\\Social_Distancing.gif\\',\\n                images, duration=0.1)\\n'"
      ]
     },
     "execution_count": 15,
     "metadata": {},
     "output_type": "execute_result"
    }
   ],
   "source": [
    "# Animation to show the spread.\n",
    "\"\"\"\n",
    "# Animation stack\n",
    "# This requires \"save population\" in config to be set to true\n",
    "fontsize = 15.\n",
    "import matplotlib.colors as colors\n",
    "# The frames are created in a loop\n",
    "cmap = plt.cm.viridis\n",
    "norm = colors.Normalize(vmin=0., vmax=1.)\n",
    "for i, _ in tqdm(enumerate(fd.t)):\n",
    "    figure = plt.figure(figsize=(std_size, std_size * 6. / 8.))\n",
    "    ax = figure.add_subplot(111)\n",
    "    ax.scatter(fd.mc_run.distribution[i][:,0], fd.mc_run.distribution[i][:,1],\n",
    "               color=cmap(norm(fd.mc_run.distribution[i][:,-1])),\n",
    "               s=50.\n",
    "               )\n",
    "    ax.title=ax.set_title('Population t = %.f' %fd.t[i], fontsize=fontsize)\n",
    "    ax.set_xlim(-fd.world.bounding_box/2, fd.world.bounding_box/2)\n",
    "    ax.set_ylim(-fd.world.bounding_box/2, fd.world.bounding_box/2)\n",
    "    ax.set_xlabel(r'$X$', fontsize=fontsize)\n",
    "    ax.set_ylabel(r'$Y$', fontsize=fontsize)\n",
    "    ax.tick_params(axis = 'both', which = 'major', labelsize=fontsize)\n",
    "    ax.tick_params(axis = 'both', which = 'minor', labelsize=fontsize)\n",
    "    figure.savefig('C:\\\\Users\\\\steph\\\\OneDrive\\\\University TUM\\\\PhD\\\\Plots\\\\Biolumi\\\\Frames\\\\frame_%d.png' %i)\n",
    "    plt.close(figure)\n",
    "import imageio\n",
    "images = []\n",
    "filenames = np.array([\n",
    "    'C:\\\\Users\\\\steph\\\\OneDrive\\\\University TUM\\\\PhD\\\\Plots\\\\Biolumi\\\\Frames\\\\frame_%d.png' %i\n",
    "    for i in range(len(fd.t))\n",
    "])\n",
    "for filename in filenames:\n",
    "    images.append(imageio.imread(filename))\n",
    "imageio.mimsave('C:\\\\Users\\\\steph\\\\OneDrive\\\\University TUM\\\\PhD\\\\Plots\\\\Biolumi\\\\Social_Distancing.gif',\n",
    "                images, duration=0.1)\n",
    "\"\"\""
   ]
  },
  {
   "cell_type": "code",
   "execution_count": 20,
   "metadata": {},
   "outputs": [
    {
     "data": {
      "text/plain": [
       "0.0"
      ]
     },
     "execution_count": 20,
     "metadata": {},
     "output_type": "execute_result"
    }
   ],
   "source": [
    "np.round(0.2)"
   ]
  },
  {
   "cell_type": "code",
   "execution_count": 23,
   "metadata": {},
   "outputs": [
    {
     "data": {
      "text/plain": [
       "0.0"
      ]
     },
     "execution_count": 23,
     "metadata": {},
     "output_type": "execute_result"
    }
   ],
   "source": [
    "np.round(0.5)"
   ]
  },
  {
   "cell_type": "code",
   "execution_count": null,
   "metadata": {},
   "outputs": [],
   "source": []
  }
 ],
 "metadata": {
  "kernelspec": {
   "display_name": "Python 3",
   "language": "python",
   "name": "python3"
  },
  "language_info": {
   "codemirror_mode": {
    "name": "ipython",
    "version": 3
   },
   "file_extension": ".py",
   "mimetype": "text/x-python",
   "name": "python",
   "nbconvert_exporter": "python",
   "pygments_lexer": "ipython3",
   "version": "3.7.4"
  }
 },
 "nbformat": 4,
 "nbformat_minor": 2
}
