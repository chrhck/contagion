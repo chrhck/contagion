{
 "cells": [
  {
   "cell_type": "code",
   "execution_count": 1,
   "metadata": {},
   "outputs": [],
   "source": [
    "\"\"\"\n",
    "Name: con_realistic_example.ipynb\n",
    "Authors: Stephan Meighen-Berger\n",
    "Example of the realistic simulations that can be done\n",
    "\"\"\"\n",
    "%load_ext autoreload\n",
    "%autoreload 2"
   ]
  },
  {
   "cell_type": "code",
   "execution_count": 2,
   "metadata": {},
   "outputs": [],
   "source": [
    "# General imports\n",
    "import numpy as np\n",
    "import matplotlib.pyplot as plt\n",
    "import sys\n",
    "from scipy.signal import savgol_filter\n",
    "from tqdm import tqdm\n",
    "import pandas as pd\n",
    "import seaborn as sns"
   ]
  },
  {
   "cell_type": "code",
   "execution_count": 3,
   "metadata": {},
   "outputs": [],
   "source": [
    "# Latex text rendering\n",
    "from matplotlib import rc\n",
    "rc('font',**{'family':'sans-serif','sans-serif':['Helvetica']})\n",
    "rc('text', usetex=True)"
   ]
  },
  {
   "cell_type": "code",
   "execution_count": 4,
   "metadata": {},
   "outputs": [],
   "source": [
    "# Adding path to module\n",
    "sys.path.append(\"../\")"
   ]
  },
  {
   "cell_type": "code",
   "execution_count": 5,
   "metadata": {},
   "outputs": [],
   "source": [
    "# picture path\n",
    "PICS = '../pics/'"
   ]
  },
  {
   "cell_type": "code",
   "execution_count": 6,
   "metadata": {},
   "outputs": [],
   "source": [
    "# Module imports\n",
    "from contagion import Contagion, config\n",
    "config[\"average social circle\"] = 40"
   ]
  },
  {
   "cell_type": "code",
   "execution_count": 42,
   "metadata": {},
   "outputs": [
    {
     "data": {
      "text/plain": [
       "{'debug level': 30,\n",
       " 'log file handler': '../run/contagion.log',\n",
       " 'config location': '../run/config.txt',\n",
       " 'population size': 10000,\n",
       " 'simulation length': 200,\n",
       " 'infected': 10,\n",
       " 'pdf move': 'gauss',\n",
       " 'random state': RandomState(MT19937) at 0x1D5CD1F8C40,\n",
       " 'average social circle': 40,\n",
       " 'variance social circle': 5,\n",
       " 'social circle pdf': 'gauss',\n",
       " 'mean social circle interactions': 0.2,\n",
       " 'variance social circle interactions': 2,\n",
       " 'social circle interactions pdf': 'gauss',\n",
       " 'infection probability pdf': 'intensity',\n",
       " 'infection duration mean': 20,\n",
       " 'infection duration variance': 5,\n",
       " 'infection duration pdf': 'gauss',\n",
       " 'infectious duration mean': 3,\n",
       " 'infectious duration variance': 5,\n",
       " 'infectious duration pdf': 'gauss',\n",
       " 'incubation duration mean': 5,\n",
       " 'incubation duration variance': 2,\n",
       " 'incubation duration pdf': 'gauss',\n",
       " 'hospitalization probability pdf': 'beta',\n",
       " 'hospitalization probability mean': 0.2,\n",
       " 'hospitalization probability sd': 0.1,\n",
       " 'hospitalization duration pdf': 'gauss',\n",
       " 'hospitalization duration mean': 28,\n",
       " 'hospitalization duration sd': 10,\n",
       " 'time until hospitalization pdf': 'gauss',\n",
       " 'time until hospitalization mean': 5,\n",
       " 'time until hospitalization sd': 2,\n",
       " 'time incubation death pdf': 'gauss',\n",
       " 'time incubation death mean': 32,\n",
       " 'time incubation death sd': 5,\n",
       " 'recovery time pdf': 'gauss',\n",
       " 'recovery time mean': 11,\n",
       " 'recovery time sd': 5,\n",
       " 'mortality prob pdf': 'beta',\n",
       " 'mortality rate mean': 0.1,\n",
       " 'mortality rate sd': 0.1,\n",
       " 'measures': 'none',\n",
       " 'tracked': 0.2,\n",
       " 'interaction intensity': 'uniform',\n",
       " 'incubation period': 1,\n",
       " 'immunity duration': -1,\n",
       " 'dimensions': 2,\n",
       " 'geometry': 'box',\n",
       " 'box size': 100.0,\n",
       " 'sphere diameter': 100.0,\n",
       " 'custom geometry': 'example_tetrahedron.pkl',\n",
       " 'bounding box': 110.0,\n",
       " 'time step': 1.0,\n",
       " 'angle change': [90, 270],\n",
       " 'sphere samples': 50}"
      ]
     },
     "execution_count": 42,
     "metadata": {},
     "output_type": "execute_result"
    }
   ],
   "source": [
    "config"
   ]
  },
  {
   "cell_type": "code",
   "execution_count": 24,
   "metadata": {},
   "outputs": [],
   "source": [
    "# Creating a contagion object\n",
    "contagion = Contagion()"
   ]
  },
  {
   "cell_type": "code",
   "execution_count": 38,
   "metadata": {},
   "outputs": [],
   "source": [
    "# Storing the solutions\n",
    "contagion.sim()"
   ]
  },
  {
   "cell_type": "code",
   "execution_count": 39,
   "metadata": {},
   "outputs": [],
   "source": [
    "stats = pd.DataFrame(contagion.statistics)"
   ]
  },
  {
   "cell_type": "code",
   "execution_count": 35,
   "metadata": {},
   "outputs": [
    {
     "data": {
      "text/html": [
       "<div>\n",
       "<style scoped>\n",
       "    .dataframe tbody tr th:only-of-type {\n",
       "        vertical-align: middle;\n",
       "    }\n",
       "\n",
       "    .dataframe tbody tr th {\n",
       "        vertical-align: top;\n",
       "    }\n",
       "\n",
       "    .dataframe thead th {\n",
       "        text-align: right;\n",
       "    }\n",
       "</style>\n",
       "<table border=\"1\" class=\"dataframe\">\n",
       "  <thead>\n",
       "    <tr style=\"text-align: right;\">\n",
       "      <th></th>\n",
       "      <th>contacts</th>\n",
       "      <th>removed</th>\n",
       "      <th>incubation</th>\n",
       "      <th>infectious</th>\n",
       "      <th>infected</th>\n",
       "      <th>new infections</th>\n",
       "      <th>newly infectious</th>\n",
       "      <th>newly removed</th>\n",
       "      <th>will be hospitalized</th>\n",
       "      <th>will die</th>\n",
       "      <th>new deaths</th>\n",
       "      <th>total_deaths</th>\n",
       "    </tr>\n",
       "  </thead>\n",
       "  <tbody>\n",
       "    <tr>\n",
       "      <th>0</th>\n",
       "      <td>25</td>\n",
       "      <td>1</td>\n",
       "      <td>10</td>\n",
       "      <td>9</td>\n",
       "      <td>19</td>\n",
       "      <td>10</td>\n",
       "      <td>0</td>\n",
       "      <td>1</td>\n",
       "      <td>5</td>\n",
       "      <td>0</td>\n",
       "      <td>0</td>\n",
       "      <td>0</td>\n",
       "    </tr>\n",
       "    <tr>\n",
       "      <th>1</th>\n",
       "      <td>23</td>\n",
       "      <td>1</td>\n",
       "      <td>25</td>\n",
       "      <td>9</td>\n",
       "      <td>34</td>\n",
       "      <td>15</td>\n",
       "      <td>0</td>\n",
       "      <td>0</td>\n",
       "      <td>3</td>\n",
       "      <td>0</td>\n",
       "      <td>0</td>\n",
       "      <td>0</td>\n",
       "    </tr>\n",
       "    <tr>\n",
       "      <th>2</th>\n",
       "      <td>22</td>\n",
       "      <td>1</td>\n",
       "      <td>37</td>\n",
       "      <td>9</td>\n",
       "      <td>46</td>\n",
       "      <td>12</td>\n",
       "      <td>0</td>\n",
       "      <td>0</td>\n",
       "      <td>2</td>\n",
       "      <td>0</td>\n",
       "      <td>0</td>\n",
       "      <td>0</td>\n",
       "    </tr>\n",
       "    <tr>\n",
       "      <th>3</th>\n",
       "      <td>28</td>\n",
       "      <td>2</td>\n",
       "      <td>46</td>\n",
       "      <td>11</td>\n",
       "      <td>57</td>\n",
       "      <td>12</td>\n",
       "      <td>3</td>\n",
       "      <td>1</td>\n",
       "      <td>1</td>\n",
       "      <td>0</td>\n",
       "      <td>0</td>\n",
       "      <td>0</td>\n",
       "    </tr>\n",
       "    <tr>\n",
       "      <th>4</th>\n",
       "      <td>34</td>\n",
       "      <td>2</td>\n",
       "      <td>59</td>\n",
       "      <td>14</td>\n",
       "      <td>73</td>\n",
       "      <td>16</td>\n",
       "      <td>3</td>\n",
       "      <td>0</td>\n",
       "      <td>4</td>\n",
       "      <td>0</td>\n",
       "      <td>0</td>\n",
       "      <td>0</td>\n",
       "    </tr>\n",
       "    <tr>\n",
       "      <th>...</th>\n",
       "      <td>...</td>\n",
       "      <td>...</td>\n",
       "      <td>...</td>\n",
       "      <td>...</td>\n",
       "      <td>...</td>\n",
       "      <td>...</td>\n",
       "      <td>...</td>\n",
       "      <td>...</td>\n",
       "      <td>...</td>\n",
       "      <td>...</td>\n",
       "      <td>...</td>\n",
       "      <td>...</td>\n",
       "    </tr>\n",
       "    <tr>\n",
       "      <th>195</th>\n",
       "      <td>0</td>\n",
       "      <td>9945</td>\n",
       "      <td>0</td>\n",
       "      <td>0</td>\n",
       "      <td>0</td>\n",
       "      <td>0</td>\n",
       "      <td>0</td>\n",
       "      <td>0</td>\n",
       "      <td>0</td>\n",
       "      <td>0</td>\n",
       "      <td>0</td>\n",
       "      <td>186</td>\n",
       "    </tr>\n",
       "    <tr>\n",
       "      <th>196</th>\n",
       "      <td>0</td>\n",
       "      <td>9945</td>\n",
       "      <td>0</td>\n",
       "      <td>0</td>\n",
       "      <td>0</td>\n",
       "      <td>0</td>\n",
       "      <td>0</td>\n",
       "      <td>0</td>\n",
       "      <td>0</td>\n",
       "      <td>0</td>\n",
       "      <td>0</td>\n",
       "      <td>186</td>\n",
       "    </tr>\n",
       "    <tr>\n",
       "      <th>197</th>\n",
       "      <td>0</td>\n",
       "      <td>9945</td>\n",
       "      <td>0</td>\n",
       "      <td>0</td>\n",
       "      <td>0</td>\n",
       "      <td>0</td>\n",
       "      <td>0</td>\n",
       "      <td>0</td>\n",
       "      <td>0</td>\n",
       "      <td>0</td>\n",
       "      <td>0</td>\n",
       "      <td>186</td>\n",
       "    </tr>\n",
       "    <tr>\n",
       "      <th>198</th>\n",
       "      <td>0</td>\n",
       "      <td>9945</td>\n",
       "      <td>0</td>\n",
       "      <td>0</td>\n",
       "      <td>0</td>\n",
       "      <td>0</td>\n",
       "      <td>0</td>\n",
       "      <td>0</td>\n",
       "      <td>0</td>\n",
       "      <td>0</td>\n",
       "      <td>0</td>\n",
       "      <td>186</td>\n",
       "    </tr>\n",
       "    <tr>\n",
       "      <th>199</th>\n",
       "      <td>0</td>\n",
       "      <td>9945</td>\n",
       "      <td>0</td>\n",
       "      <td>0</td>\n",
       "      <td>0</td>\n",
       "      <td>0</td>\n",
       "      <td>0</td>\n",
       "      <td>0</td>\n",
       "      <td>0</td>\n",
       "      <td>0</td>\n",
       "      <td>0</td>\n",
       "      <td>186</td>\n",
       "    </tr>\n",
       "  </tbody>\n",
       "</table>\n",
       "<p>200 rows × 12 columns</p>\n",
       "</div>"
      ],
      "text/plain": [
       "     contacts  removed  incubation  infectious  infected  new infections  \\\n",
       "0          25        1          10           9        19              10   \n",
       "1          23        1          25           9        34              15   \n",
       "2          22        1          37           9        46              12   \n",
       "3          28        2          46          11        57              12   \n",
       "4          34        2          59          14        73              16   \n",
       "..        ...      ...         ...         ...       ...             ...   \n",
       "195         0     9945           0           0         0               0   \n",
       "196         0     9945           0           0         0               0   \n",
       "197         0     9945           0           0         0               0   \n",
       "198         0     9945           0           0         0               0   \n",
       "199         0     9945           0           0         0               0   \n",
       "\n",
       "     newly infectious  newly removed  will be hospitalized  will die  \\\n",
       "0                   0              1                     5         0   \n",
       "1                   0              0                     3         0   \n",
       "2                   0              0                     2         0   \n",
       "3                   3              1                     1         0   \n",
       "4                   3              0                     4         0   \n",
       "..                ...            ...                   ...       ...   \n",
       "195                 0              0                     0         0   \n",
       "196                 0              0                     0         0   \n",
       "197                 0              0                     0         0   \n",
       "198                 0              0                     0         0   \n",
       "199                 0              0                     0         0   \n",
       "\n",
       "     new deaths  total_deaths  \n",
       "0             0             0  \n",
       "1             0             0  \n",
       "2             0             0  \n",
       "3             0             0  \n",
       "4             0             0  \n",
       "..          ...           ...  \n",
       "195           0           186  \n",
       "196           0           186  \n",
       "197           0           186  \n",
       "198           0           186  \n",
       "199           0           186  \n",
       "\n",
       "[200 rows x 12 columns]"
      ]
     },
     "execution_count": 35,
     "metadata": {},
     "output_type": "execute_result"
    }
   ],
   "source": []
  },
  {
   "cell_type": "code",
   "execution_count": 44,
   "metadata": {},
   "outputs": [],
   "source": [
    "# Plotting standards\n",
    "std_size = 10.\n",
    "fontsize = 15.\n",
    "lw=3.\n",
    "h_length=1."
   ]
  },
  {
   "cell_type": "code",
   "execution_count": 45,
   "metadata": {
    "keep_output": true
   },
   "outputs": [
    {
     "name": "stdout",
     "output_type": "stream",
     "text": [
      "WARNING: findfont: Font family ['sans-serif'] not found. Falling back to DejaVu Sans.\n"
     ]
    },
    {
     "data": {
      "image/png": "[encoded data removed]",
      "text/plain": [
       "<Figure size 720x540 with 1 Axes>"
      ]
     },
     "metadata": {
      "needs_background": "light"
     },
     "output_type": "display_data"
    }
   ],
   "source": [
    "# Infections per time step\n",
    "figure, ax = plt.subplots(figsize=(std_size, std_size * 6. / 8.))\n",
    "colors = ['#fdcc8a',\n",
    "          '#fc8d59',\n",
    "          '#d7301f']\n",
    "ax.plot(contagion.t, stats['infectious'],\n",
    "        lw=lw, label='Infectious', color='r')\n",
    "ax.plot(contagion.t, stats['incubation'],\n",
    "        lw=lw, label='Incubation', color='b')\n",
    "ax.plot(contagion.t, stats['new infections'],\n",
    "        lw=lw, label='New infections', color=colors[1])\n",
    "ax.plot(contagion.t, stats['infected'],\n",
    "        lw=lw, label='Infected', color=\"k\")\n",
    "ax.plot(contagion.t, stats['total_deaths'],\n",
    "        lw=lw, label='Total Deaths', color=\"m\")\n",
    "ax.plot(contagion.t, stats['will be hospitalized'],\n",
    "        lw=lw, label='Will Be Hospitalized', color=\"c\")\n",
    "ax.plot(contagion.t, stats['removed'],\n",
    "        lw=lw, label='Removed', color='g')\n",
    "ax.set_xlim(1e0, 100)\n",
    "ax.set_ylim(0., config['population size'] * 1.01)\n",
    "ax.set_xscale('linear')\n",
    "ax.set_yscale('linear')\n",
    "ax.set_xlabel(r't [Days]', fontsize=fontsize)\n",
    "ax.set_ylabel(r'Count', fontsize=fontsize)\n",
    "ax.tick_params(axis = 'both', which = 'major', labelsize=fontsize, direction='in')\n",
    "ax.tick_params(axis = 'both', which = 'minor', labelsize=fontsize, direction='in')\n",
    "h, l = ax.get_legend_handles_labels()\n",
    "lgd1 = ax.legend(h,l, loc=9, bbox_to_anchor=(0.5, +1.2),\n",
    "                 ncol=3, fontsize=fontsize, handlelength=h_length,\n",
    "                 fancybox=True, frameon=False)\n",
    "ax.add_artist(lgd1)\n",
    "plt.grid(True)\n",
    "plt.semilogy()\n",
    "plt.ylim(1, 1E4)\n",
    "plt.show()\n",
    "\n"
   ]
  },
  {
   "cell_type": "code",
   "execution_count": 46,
   "metadata": {},
   "outputs": [],
   "source": [
    "figure.savefig(PICS + \"Contagion_Example.png\",\n",
    "               bbox_inches='tight')"
   ]
  },
  {
   "cell_type": "code",
   "execution_count": 72,
   "metadata": {},
   "outputs": [],
   "source": [
    "from contagion.pdfs import Beta"
   ]
  },
  {
   "cell_type": "code",
   "execution_count": 87,
   "metadata": {},
   "outputs": [
    {
     "data": {
      "text/plain": [
       "<matplotlib.axes._subplots.AxesSubplot at 0x234b98e3340>"
      ]
     },
     "execution_count": 87,
     "metadata": {},
     "output_type": "execute_result"
    },
    {
     "data": {
      "image/png": "[encoded data removed]",
      "text/plain": [
       "<Figure size 432x288 with 1 Axes>"
      ]
     },
     "metadata": {
      "needs_background": "light"
     },
     "output_type": "display_data"
    }
   ],
   "source": [
    "rvs = Beta(0.05, 0.01).rvs(1000)\n",
    "sns.distplot(rvs)"
   ]
  },
  {
   "cell_type": "code",
   "execution_count": 88,
   "metadata": {},
   "outputs": [
    {
     "data": {
      "text/plain": [
       "0.010409190030506681"
      ]
     },
     "execution_count": 88,
     "metadata": {},
     "output_type": "execute_result"
    }
   ],
   "source": [
    "np.mean(rvs)\n",
    "np.std(rvs)"
   ]
  },
  {
   "cell_type": "code",
   "execution_count": null,
   "metadata": {},
   "outputs": [],
   "source": []
  }
 ],
 "metadata": {
  "kernelspec": {
   "display_name": "Python 3",
   "language": "python",
   "name": "python3"
  },
  "language_info": {
   "codemirror_mode": {
    "name": "ipython",
    "version": 3
   },
   "file_extension": ".py",
   "mimetype": "text/x-python",
   "name": "python",
   "nbconvert_exporter": "python",
   "pygments_lexer": "ipython3",
   "version": "3.8.1"
  }
 },
 "nbformat": 4,
 "nbformat_minor": 4
}
