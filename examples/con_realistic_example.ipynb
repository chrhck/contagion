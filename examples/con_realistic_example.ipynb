{
 "cells": [
  {
   "cell_type": "code",
   "execution_count": 1,
   "metadata": {},
   "outputs": [
    {
     "data": {
      "text/plain": [
       "'\\nName: con_realistic_example.ipynb\\nAuthors: Stephan Meighen-Berger\\nExample of the realistic simulations that can be done\\n'"
      ]
     },
     "execution_count": 1,
     "metadata": {},
     "output_type": "execute_result"
    }
   ],
   "source": [
    "\"\"\"\n",
    "Name: con_realistic_example.ipynb\n",
    "Authors: Stephan Meighen-Berger\n",
    "Example of the realistic simulations that can be done\n",
    "\"\"\""
   ]
  },
  {
   "cell_type": "code",
   "execution_count": 2,
   "metadata": {},
   "outputs": [],
   "source": [
    "# General imports\n",
    "import numpy as np\n",
    "import matplotlib.pyplot as plt\n",
    "import sys\n",
    "from scipy.signal import savgol_filter\n",
    "from tqdm import tqdm"
   ]
  },
  {
   "cell_type": "code",
   "execution_count": 3,
   "metadata": {},
   "outputs": [],
   "source": [
    "# Latex text rendering\n",
    "from matplotlib import rc\n",
    "rc('font',**{'family':'sans-serif','sans-serif':['Helvetica']})\n",
    "rc('text', usetex=True)"
   ]
  },
  {
   "cell_type": "code",
   "execution_count": 4,
   "metadata": {},
   "outputs": [],
   "source": [
    "# Adding path to module\n",
    "sys.path.append(\"../core/\")"
   ]
  },
  {
   "cell_type": "code",
   "execution_count": 5,
   "metadata": {},
   "outputs": [],
   "source": [
    "# Module imports\n",
    "from contagion import CONTAGION\n",
    "from con_config import config"
   ]
  },
  {
   "cell_type": "code",
   "execution_count": 6,
   "metadata": {},
   "outputs": [],
   "source": [
    "# Creating a contagion object\n",
    "infected=10\n",
    "contagion = CONTAGION(infected, config=config)"
   ]
  },
  {
   "cell_type": "code",
   "execution_count": null,
   "metadata": {},
   "outputs": [],
   "source": [
    "# Storing the solutions\n",
    "results = contagion.sim()"
   ]
  },
  {
   "cell_type": "code",
   "execution_count": null,
   "metadata": {},
   "outputs": [],
   "source": [
    "# Plotting standards\n",
    "std_size = 10.\n",
    "fontsize = 20.\n",
    "lw=3.\n",
    "h_length=1."
   ]
  },
  {
   "cell_type": "code",
   "execution_count": null,
   "metadata": {},
   "outputs": [],
   "source": [
    "# Infections per time step\n",
    "figure, ax = plt.subplots(figsize=(std_size, std_size * 6. / 8.))\n",
    "colors = ['#fdcc8a',\n",
    "          '#fc8d59',\n",
    "          '#d7301f']\n",
    "ax.plot(contagion.t, contagion.mc_run.infections,\n",
    "        lw=lw, label='Infectious', color='r')\n",
    "ax.plot(contagion.t, contagion.mc_run.new_infections,\n",
    "        lw=lw, label='New infections', color=colors[1])\n",
    "ax.plot(contagion.t, contagion.mc_run.immune,\n",
    "        lw=lw, label='Recovered', color='g')\n",
    "ax.plot(contagion.t, config['population size'] - np.cumsum(contagion.mc_run.new_infections),\n",
    "        lw=lw, label='Susceptible', color='b')\n",
    "ax.set_xlim(1e0, 50)\n",
    "ax.set_ylim(0., config['population size'] * 1.01)\n",
    "ax.set_xscale('linear')\n",
    "ax.set_yscale('linear')\n",
    "ax.set_xlabel(r't [Days]', fontsize=fontsize)\n",
    "ax.set_ylabel(r'Count', fontsize=fontsize)\n",
    "ax.tick_params(axis = 'both', which = 'major', labelsize=fontsize, direction='in')\n",
    "ax.tick_params(axis = 'both', which = 'minor', labelsize=fontsize, direction='in')\n",
    "h, l = ax.get_legend_handles_labels()\n",
    "lgd1 = ax.legend(h,l, loc=9, bbox_to_anchor=(0.5, +1.1),\n",
    "                 ncol=4, fontsize=fontsize, handlelength=h_length,\n",
    "                 fancybox=True, frameon=False)\n",
    "ax.add_artist(lgd1)\n",
    "plt.grid(True)\n",
    "plt.show()"
   ]
  },
  {
   "cell_type": "code",
   "execution_count": null,
   "metadata": {},
   "outputs": [],
   "source": [
    "figure.savefig(\"C:\\\\Users\\\\steph\\\\OneDrive\\\\University TUM\\\\PhD\\\\Plots\\\\Corona\\\\Contagion_Example.png\",\n",
    "               bbox_inches='tight')"
   ]
  },
  {
   "cell_type": "code",
   "execution_count": null,
   "metadata": {},
   "outputs": [],
   "source": []
  }
 ],
 "metadata": {
  "kernelspec": {
   "display_name": "Python 2",
   "language": "python",
   "name": "python2"
  },
  "language_info": {
   "codemirror_mode": {
    "name": "ipython",
    "version": 2
   },
   "file_extension": ".py",
   "mimetype": "text/x-python",
   "name": "python",
   "nbconvert_exporter": "python",
   "pygments_lexer": "ipython2",
   "version": "2.7.16"
  }
 },
 "nbformat": 4,
 "nbformat_minor": 2
}
