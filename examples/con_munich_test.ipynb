{
 "cells": [
  {
   "cell_type": "code",
   "execution_count": 1,
   "metadata": {},
   "outputs": [],
   "source": [
    "\"\"\"\n",
    "Name: con_munich_test.ipynb\n",
    "Authors: Stephan Meighen-Berger\n",
    "Checking parameters for munich, still needs work\n",
    "\"\"\"\n",
    "%load_ext autoreload\n",
    "%autoreload 2"
   ]
  },
  {
   "cell_type": "code",
   "execution_count": 2,
   "metadata": {},
   "outputs": [],
   "source": [
    " # General imports\n",
    "import numpy as np\n",
    "import matplotlib.pyplot as plt\n",
    "import sys\n",
    "from scipy.signal import savgol_filter\n",
    "from tqdm import tqdm\n",
    "import pandas as pd\n",
    "from scipy.interpolate import UnivariateSpline\n",
    "from scipy.optimize import minimize_scalar"
   ]
  },
  {
   "cell_type": "code",
   "execution_count": 3,
   "metadata": {},
   "outputs": [],
   "source": [
    "# Adding path to module\n",
    "sys.path.append(\"../\")"
   ]
  },
  {
   "cell_type": "code",
   "execution_count": 4,
   "metadata": {},
   "outputs": [],
   "source": [
    "# picture path\n",
    "PICS = '../pics/'"
   ]
  },
  {
   "cell_type": "code",
   "execution_count": 5,
   "metadata": {},
   "outputs": [],
   "source": [
    "# Munich data\n",
    "pop_munich = 1.456 * 1e6\n",
    "time_steps = [7., 9., 10., 11., 12., 13.,\n",
    "              14., 15., 16., 17., 18., 19.,\n",
    "              20., 21., 23., 24., 25., 26., 27.]\n",
    "data_points = [44., 60., 68., 88., 110.,\n",
    "               149., 201., 242., 260., 359., 509.,\n",
    "               676., 878., 1042., 1316., 1381.,\n",
    "               1576., 1687., 1845.\n",
    "              ]"
   ]
  },
  {
   "cell_type": "code",
   "execution_count": 6,
   "metadata": {},
   "outputs": [],
   "source": [
    "# Module imports\n",
    "from contagion import Contagion, config\n",
    "# Simulation time\n",
    "config[\"simulation length\"] = 30\n",
    "# Population\n",
    "config['re-use population'] = True\n",
    "config[\"average social circle\"] = 40\n",
    "config[\"population size\"] = int(pop_munich)\n",
    "config['mean social circle interactions'] = 0.2\n",
    "# Distributions\n",
    "config['infection duration pdf'] = 'gamma'\n",
    "config['infectious duration pdf'] = 'gamma'\n",
    "config['incubation duration pdf'] = 'gamma'\n",
    "config['hospitalization duration pdf'] = 'gamma'\n",
    "config['time until hospitalization pdf'] = 'gamma'\n",
    "config['time incubation death pdf'] = 'gamma'\n",
    "config['recovery time pdf'] = 'gamma'\n",
    "config['population storage'] = \"../populations/munich.pkl\"\n",
    "# Random state\n",
    "config[\"random state\"] = np.random.RandomState(1337)"
   ]
  },
  {
   "cell_type": "code",
   "execution_count": 7,
   "metadata": {},
   "outputs": [],
   "source": [
    "def min_func(i0):\n",
    "    # The starting infection count\n",
    "    config[\"infected\"] = int(i0)\n",
    "    # Creating a contagion object\n",
    "    contagion = Contagion()\n",
    "     # Storing the solutions\n",
    "    contagion.sim()\n",
    "    stats = pd.DataFrame(contagion.statistics)\n",
    "    spl_mc = UnivariateSpline(contagion.t + 7., stats['is_infected'])\n",
    "    sim_res = spl_mc(time_steps) * data_points[0] / spl_mc(time_steps[0])\n",
    "    to_min = np.sum((sim_res - np.array(data_points))**2.)\n",
    "    print('Infected')\n",
    "    print(i0)\n",
    "    print('Value')\n",
    "    print(to_min)\n",
    "    return np.log10(to_min)"
   ]
  },
  {
   "cell_type": "code",
   "execution_count": 8,
   "metadata": {},
   "outputs": [],
   "source": [
    "# Curve fitting\n",
    "# min_object = minimize_scalar(min_func, 100., bounds=(100., 1e3), method='bounded')"
   ]
  },
  {
   "cell_type": "code",
   "execution_count": 9,
   "metadata": {},
   "outputs": [],
   "source": [
    "# min_object.x\n",
    "# 658"
   ]
  },
  {
   "cell_type": "code",
   "execution_count": 10,
   "metadata": {},
   "outputs": [],
   "source": [
    "# Run\n",
    "config[\"infected\"] = int(1)\n",
    "# Creating a contagion object\n",
    "contagion = Contagion()\n",
    " # Storing the solutions\n",
    "contagion.sim()\n",
    "stats = pd.DataFrame(contagion.statistics)\n",
    "spl_mc = UnivariateSpline(contagion.t + 7., stats['is_infected'])"
   ]
  },
  {
   "cell_type": "code",
   "execution_count": 11,
   "metadata": {},
   "outputs": [],
   "source": [
    "# Plotting standards\n",
    "std_size = 10.\n",
    "fontsize = 15.\n",
    "lw=3.\n",
    "h_length=1."
   ]
  },
  {
   "cell_type": "code",
   "execution_count": 23,
   "metadata": {},
   "outputs": [
    {
     "data": {
      "image/png": "[encoded data removed]",
      "text/plain": [
       "<Figure size 720x540 with 2 Axes>"
      ]
     },
     "metadata": {
      "needs_background": "light"
     },
     "output_type": "display_data"
    }
   ],
   "source": [
    " # Infections per time step\n",
    "figure, (ax1,ax2) = plt.subplots(2, 1, figsize=(std_size, std_size * 6. / 8.))\n",
    "colors = ['#fdcc8a',\n",
    "          '#fc8d59',\n",
    "          '#d7301f']\n",
    "ax1.plot(time_steps, spl_mc(time_steps),\n",
    "         lw=lw, label='Infected', color=\"k\")\n",
    "ax1.errorbar(time_steps, data_points, yerr=np.sqrt(data_points),\n",
    "             markersize=lw*2, ls='', marker='o', color='k', label='Munich')\n",
    "ax1.set_xlim(5, 30)\n",
    "ax1.set_ylim(1e0, 1e6)\n",
    "ax1.set_xscale('linear')\n",
    "ax1.set_yscale('log')\n",
    "ax2.set_ylabel(r'Count', fontsize=fontsize)\n",
    "ax1.tick_params(axis = 'both', which = 'major', labelsize=fontsize, direction='in')\n",
    "ax1.tick_params(axis = 'both', which = 'minor', labelsize=fontsize, direction='in')\n",
    "h, l = ax1.get_legend_handles_labels()\n",
    "lgd1 = ax1.legend(h,l, loc=9, bbox_to_anchor=(0.5, +1.2),\n",
    "                  ncol=3, fontsize=fontsize, handlelength=h_length,\n",
    "                  fancybox=True, frameon=False)\n",
    "ax1.add_artist(lgd1)\n",
    "ax1.grid(True)\n",
    "ax2.plot(time_steps, spl_mc(time_steps) / data_points,\n",
    "         lw=lw, label='Infected', color=\"k\")\n",
    "ax2.set_xlim(5, 30)\n",
    "ax2.set_ylim(0., 2.)\n",
    "ax2.set_xscale('linear')\n",
    "ax2.set_yscale('linear')\n",
    "ax2.set_xlabel(r't [Days]', fontsize=fontsize)\n",
    "ax2.set_ylabel(r'Deviation', fontsize=fontsize)\n",
    "ax2.tick_params(axis = 'both', which = 'major', labelsize=fontsize, direction='in')\n",
    "ax2.tick_params(axis = 'both', which = 'minor', labelsize=fontsize, direction='in')\n",
    "ax2.grid(True)\n",
    "plt.show()"
   ]
  },
  {
   "cell_type": "code",
   "execution_count": 13,
   "metadata": {},
   "outputs": [],
   "source": [
    "figure.savefig(PICS + \"Contagion_Munich_2.png\",\n",
    "               bbox_inches='tight')"
   ]
  },
  {
   "cell_type": "code",
   "execution_count": 25,
   "metadata": {},
   "outputs": [
    {
     "data": {
      "text/plain": [
       "array(29231.99394013)"
      ]
     },
     "execution_count": 25,
     "metadata": {},
     "output_type": "execute_result"
    }
   ],
   "source": [
    "spl_mc(20.)"
   ]
  },
  {
   "cell_type": "code",
   "execution_count": null,
   "metadata": {},
   "outputs": [],
   "source": []
  }
 ],
 "metadata": {
  "kernelspec": {
   "display_name": "Python 3",
   "language": "python",
   "name": "python3"
  },
  "language_info": {
   "codemirror_mode": {
    "name": "ipython",
    "version": 3
   },
   "file_extension": ".py",
   "mimetype": "text/x-python",
   "name": "python",
   "nbconvert_exporter": "python",
   "pygments_lexer": "ipython3",
   "version": "3.7.7"
  }
 },
 "nbformat": 4,
 "nbformat_minor": 2
}
