{
 "cells": [
  {
   "cell_type": "code",
   "execution_count": 1,
   "metadata": {},
   "outputs": [],
   "source": [
    "\"\"\"\n",
    "Name: con_example.ipynb\n",
    "Authors: Christian Haack, Stephan Meighen-Berger\n",
    "Example of the realistic simulations that can be done\n",
    "\"\"\"\n",
    "%load_ext autoreload\n",
    "%autoreload 2"
   ]
  },
  {
   "cell_type": "code",
   "execution_count": 1,
   "metadata": {},
   "outputs": [],
   "source": [
    " # General imports\n",
    "import numpy as np\n",
    "import matplotlib.pyplot as plt\n",
    "import sys\n",
    "import pandas as pd\n",
    "import yaml\n",
    "from copy import deepcopy\n",
    "from cProfile import Profile\n",
    "import networkx as nx\n",
    "# picture path\n",
    "PICS = '../pics/'\n",
    "# Module imports\n",
    "from contagion import Contagion, config\n",
    "from contagion.config import _baseconfig\n",
    "from distributed import client\n",
    "from itertools import product\n",
    "from distributed import Client, performance_report, progress\n",
    "\n"
   ]
  },
  {
   "cell_type": "code",
   "execution_count": 2,
   "metadata": {},
   "outputs": [],
   "source": [
    "my_config = yaml.safe_load(open(\"param_scan_config.yaml\"))"
   ]
  },
  {
   "cell_type": "code",
   "execution_count": 3,
   "metadata": {},
   "outputs": [],
   "source": [
    "class ParScan(object):\n",
    "    def __init__(self):\n",
    "        self._par_range = None\n",
    "        \n",
    "    def par_update(self, val):\n",
    "        pass\n",
    "            \n",
    "    def make_generator(self, configs):\n",
    "        for conf in configs:\n",
    "            for par in self._par_range:\n",
    "                yield self.par_update(par, conf)\n",
    "        \n",
    "\n",
    "class ScanMu(ParScan):\n",
    "    def __init__(self):\n",
    "        super().__init__()\n",
    "        self._par_range = [0.01, 0.05, 0.1, 0.2, 0.5, 0.7]\n",
    "        self.par_name = \"Mu\"\n",
    "        self.title = \"Fraction of external connections\"\n",
    "        \n",
    "    def par_update(self, par, conf):\n",
    "        conf = deepcopy(conf)        \n",
    "        conf[\"population\"][\"nx\"][\"kwargs\"][\"mu\"] = par\n",
    "        return conf\n",
    "    \n",
    "class ScanScenario(ParScan):\n",
    "    def __init__(self):\n",
    "        super().__init__()\n",
    "        \n",
    "        self.t_dur_initial = 28\n",
    "        t_starts = [7, 14, 28, 35]\n",
    "        \n",
    "        t_durs_soft = [30, 3*30, 6*30, 9*30, 12*30, 14*30]\n",
    "        hard_scalings = [1/1.78, 2/7.8]\n",
    "        soft_scalings = [2/7.8, 3/7.8, 5/7.8]\n",
    "        \n",
    "        self._par_range = product(\n",
    "            t_starts,\n",
    "            t_durs_soft,\n",
    "            hard_scalings,\n",
    "            soft_scalings)\n",
    "        self.par_name = \"TStart\"\n",
    "        self.title = \"Lockdown Start\"\n",
    "        \n",
    "    def par_update(self, par, conf):\n",
    "        t_start, t_dur_soft, hard_scaling, soft_scaling = par\n",
    "        conf = deepcopy(conf)        \n",
    "        conf[\"population\"][\"nx\"][\"kwargs\"][\"mu\"] = par\n",
    "        conf[\"scenario\"][\"class\"] = \"SocialDistancing\"\n",
    "        conf[\"scenario\"][\"t_steps\"] = [\n",
    "            t_start,\n",
    "            t_start + self.t_dur_initial,\n",
    "            t_start + self.t_dur_initial + t_dur_soft]\n",
    "        conf[\"scenario\"][\"contact_rate_scalings\"] = [hard_scaling, soft_scaling, 1]   \n",
    "        return conf"
   ]
  },
  {
   "cell_type": "code",
   "execution_count": 4,
   "metadata": {},
   "outputs": [],
   "source": [
    "scan = ScanScenario()\n",
    "gen = scan.make_generator([my_config])\n",
    "\n",
    "scan2 = ScanMu()\n",
    "gen2 = scan2.make_generator(gen)\n"
   ]
  },
  {
   "cell_type": "code",
   "execution_count": 5,
   "metadata": {},
   "outputs": [],
   "source": [
    "def submit_func(conf):\n",
    "    contagion = Contagion(conf)\n",
    "    if hasattr(contagion.pop, \"_graph\"):\n",
    "        g = deepcopy(contagion.pop._graph)\n",
    "    else:\n",
    "        g = None\n",
    "    contagion.sim()\n",
    "    stats = pd.DataFrame(contagion.statistics)\n",
    "    return (stats, g, contagion.trace_contacts)\n",
    "    "
   ]
  },
  {
   "cell_type": "code",
   "execution_count": 6,
   "metadata": {},
   "outputs": [
    {
     "data": {
      "text/html": [
       "<table style=\"border: 2px solid white;\">\n",
       "<tr>\n",
       "<td style=\"vertical-align: top; border: 0px solid white\">\n",
       "<h3 style=\"text-align: left;\">Client</h3>\n",
       "<ul style=\"text-align: left; list-style: none; margin: 0; padding: 0;\">\n",
       "  <li><b>Scheduler: </b>tcp://10.156.79.101:46243</li>\n",
       "  <li><b>Dashboard: </b><a href='http://10.156.79.101:8787/status' target='_blank'>http://10.156.79.101:8787/status</a></li>\n",
       "</ul>\n",
       "</td>\n",
       "<td style=\"vertical-align: top; border: 0px solid white\">\n",
       "<h3 style=\"text-align: left;\">Cluster</h3>\n",
       "<ul style=\"text-align: left; list-style:none; margin: 0; padding: 0;\">\n",
       "  <li><b>Workers: </b>0</li>\n",
       "  <li><b>Cores: </b>0</li>\n",
       "  <li><b>Memory: </b>0 B</li>\n",
       "</ul>\n",
       "</td>\n",
       "</tr>\n",
       "</table>"
      ],
      "text/plain": [
       "<Client: 'tcp://10.156.79.101:46243' processes=0 threads=0, memory=0 B>"
      ]
     },
     "execution_count": 6,
     "metadata": {},
     "output_type": "execute_result"
    }
   ],
   "source": [
    "client = Client(scheduler_file=\"scheduler.json\")\n",
    "client.restart()"
   ]
  },
  {
   "cell_type": "code",
   "execution_count": 7,
   "metadata": {},
   "outputs": [],
   "source": [
    "futures = []\n",
    "with performance_report(filename=\"dask-report.html\"):\n",
    "    for conf in gen2:\n",
    "        futures.append(client.submit(submit_func, conf))"
   ]
  },
  {
   "cell_type": "code",
   "execution_count": 8,
   "metadata": {},
   "outputs": [
    {
     "data": {
      "application/vnd.jupyter.widget-view+json": {
       "model_id": "f6f6ea65244c4566bd67f2d2bc84b5d3",
       "version_major": 2,
       "version_minor": 0
      },
      "text/plain": [
       "VBox()"
      ]
     },
     "metadata": {},
     "output_type": "display_data"
    }
   ],
   "source": [
    "progress(futures, notebook=True)"
   ]
  },
  {
   "cell_type": "code",
   "execution_count": 64,
   "metadata": {},
   "outputs": [
    {
     "data": {
      "text/plain": [
       "0"
      ]
     },
     "execution_count": 64,
     "metadata": {},
     "output_type": "execute_result"
    }
   ],
   "source": [
    "len(futures)"
   ]
  },
  {
   "cell_type": "code",
   "execution_count": 39,
   "metadata": {},
   "outputs": [
    {
     "name": "stderr",
     "output_type": "stream",
     "text": [
      "  File \"<ipython-input-22-da54d23c0432>\", line 2, in submit_func\n",
      "    contagion = Contagion(conf)\n",
      "  File \"/dss/dsshome1/lxc05/ge79juv2/software/scripts/contagion/contagion/contagion.py\", line 154, in __init__\n",
      "    self.pop = population_class()\n",
      "  File \"/dss/dsshome1/lxc05/ge79juv2/software/scripts/contagion/contagion/population.py\", line 1009, in __init__\n",
      "    self._graph = gen_func(\n",
      "  File \"/dss/dsshome1/lxc05/ge79juv2/software/scripts/contagion/contagion/population.py\", line 892, in lfr_ba\n",
      "    weights=node_degrees[candidates])[0]\n"
     ]
    }
   ],
   "source": [
    "traceback.print_tb(res.traceback(), )"
   ]
  },
  {
   "cell_type": "code",
   "execution_count": 33,
   "metadata": {},
   "outputs": [
    {
     "data": {
      "text/html": [
       "<table style=\"border: 2px solid white;\">\n",
       "<tr>\n",
       "<td style=\"vertical-align: top; border: 0px solid white\">\n",
       "<h3 style=\"text-align: left;\">Client</h3>\n",
       "<ul style=\"text-align: left; list-style: none; margin: 0; padding: 0;\">\n",
       "  <li><b>Scheduler: </b>tcp://10.156.79.101:43687</li>\n",
       "  <li><b>Dashboard: </b><a href='http://10.156.79.101:8787/status' target='_blank'>http://10.156.79.101:8787/status</a></li>\n",
       "</ul>\n",
       "</td>\n",
       "<td style=\"vertical-align: top; border: 0px solid white\">\n",
       "<h3 style=\"text-align: left;\">Cluster</h3>\n",
       "<ul style=\"text-align: left; list-style:none; margin: 0; padding: 0;\">\n",
       "  <li><b>Workers: </b>1</li>\n",
       "  <li><b>Cores: </b>1</li>\n",
       "  <li><b>Memory: </b>1.80 GB</li>\n",
       "</ul>\n",
       "</td>\n",
       "</tr>\n",
       "</table>"
      ],
      "text/plain": [
       "<Client: 'tcp://10.156.79.101:43687' processes=1 threads=1, memory=1.80 GB>"
      ]
     },
     "execution_count": 33,
     "metadata": {},
     "output_type": "execute_result"
    }
   ],
   "source": [
    "client"
   ]
  },
  {
   "cell_type": "code",
   "execution_count": null,
   "metadata": {},
   "outputs": [],
   "source": []
  }
 ],
 "metadata": {
  "kernelspec": {
   "display_name": "Python 3",
   "language": "python",
   "name": "python3"
  },
  "language_info": {
   "codemirror_mode": {
    "name": "ipython",
    "version": 3
   },
   "file_extension": ".py",
   "mimetype": "text/x-python",
   "name": "python",
   "nbconvert_exporter": "python",
   "pygments_lexer": "ipython3",
   "version": "3.8.2"
  }
 },
 "nbformat": 4,
 "nbformat_minor": 4
}
