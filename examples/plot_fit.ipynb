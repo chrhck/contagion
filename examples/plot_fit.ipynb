{
 "cells": [
  {
   "cell_type": "code",
   "execution_count": 17,
   "metadata": {},
   "outputs": [],
   "source": [
    "import logging\n",
    "import argparse\n",
    "import pyabc\n",
    "import numpy as np\n",
    "import os\n",
    "from contagion import Contagion\n",
    "from contagion.config import _baseconfig\n",
    "from dask.distributed import Client\n",
    "from summary_stats import make_sum_stats\n",
    "import yaml\n",
    "import matplotlib.pyplot as plt\n",
    "import seaborn as sns"
   ]
  },
  {
   "cell_type": "code",
   "execution_count": 2,
   "metadata": {},
   "outputs": [],
   "source": [
    "def weighted_quantile(values, quantiles, sample_weight=None, \n",
    "                      values_sorted=False, old_style=False):\n",
    "    \"\"\" Very close to numpy.percentile, but supports weights.\n",
    "    NOTE: quantiles should be in [0, 1]!\n",
    "    :param values: numpy.array with data\n",
    "    :param quantiles: array-like with many quantiles needed\n",
    "    :param sample_weight: array-like of the same length as `array`\n",
    "    :param values_sorted: bool, if True, then will avoid sorting of\n",
    "        initial array\n",
    "    :param old_style: if True, will correct output to be consistent\n",
    "        with numpy.percentile.\n",
    "    :return: numpy.array with computed quantiles.\n",
    "    \"\"\"\n",
    "    values = np.array(values)\n",
    "    quantiles = np.array(quantiles)\n",
    "    if sample_weight is None:\n",
    "        sample_weight = np.ones(len(values))\n",
    "    sample_weight = np.array(sample_weight)\n",
    "    assert np.all(quantiles >= 0) and np.all(quantiles <= 1), \\\n",
    "        'quantiles should be in [0, 1]'\n",
    "\n",
    "    if not values_sorted:\n",
    "        sorter = np.argsort(values)\n",
    "        values = values[sorter]\n",
    "        sample_weight = sample_weight[sorter]\n",
    "\n",
    "    weighted_quantiles = np.cumsum(sample_weight) - 0.5 * sample_weight\n",
    "    if old_style:\n",
    "        # To be convenient with numpy.percentile\n",
    "        weighted_quantiles -= weighted_quantiles[0]\n",
    "        weighted_quantiles /= weighted_quantiles[-1]\n",
    "    else:\n",
    "        weighted_quantiles /= np.sum(sample_weight)\n",
    "    return np.interp(quantiles, weighted_quantiles, values)"
   ]
  },
  {
   "cell_type": "code",
   "execution_count": 22,
   "metadata": {},
   "outputs": [],
   "source": [
    "data = np.loadtxt(\"cpp_model.csv\", delimiter=\",\")\n",
    "my_config = yaml.safe_load(open(\"benchmark_config.yaml\"))\n",
    "fields = [\"is_recovered\", \"is_infectious\", \"is_latent\"]\n",
    "#data = {field: np.asarray(contagion.statistics[field]) for field in fields}\n",
    "data = {\"is_recovered\": data[:, 1], \"is_infectious\": data[:, 0], \"is_latent\": data[:, 2]}\n",
    "\n",
    "\n",
    "def model(parameters):\n",
    "    this_config = dict(_baseconfig)\n",
    "    this_config.update(my_config)\n",
    "    this_config[\"general\"][\"debug level\"] = 50\n",
    "    this_config['population']['social circle pdf'][\"mean\"] = parameters[\"soc circ mean\"]\n",
    "    this_config['population']['social circle pdf'][\"sd\"] = np.sqrt(parameters[\"soc circ mean\"])\n",
    "    this_config['population']['social circle interactions pdf'][\"mean\"] = parameters[\"soc circ mean\"]\n",
    "    this_config['population']['social circle interactions pdf'][\"sd\"] = np.sqrt(parameters[\"soc circ mean\"])\n",
    "    this_config['infection'][\"latency duration pdf\"]['mean'] =  parameters[\"latency mean\"]\n",
    "    this_config['infection'][\"latency duration pdf\"]['sd'] =  np.sqrt(parameters[\"latency mean\"])\n",
    "    this_config['infection'][\"infectious duration pdf\"]['mean'] =  parameters[\"infectious dur mean\"]\n",
    "    this_config['infection'][\"infectious duration pdf\"]['sd'] =  np.sqrt(parameters[\"infectious dur mean\"])\n",
    "    this_config['infection'][\"incubation duration pdf\"]['mean'] =  parameters[\"incub dur mean\"]\n",
    "    this_config['infection'][\"incubation duration pdf\"]['sd'] =  np.sqrt(parameters[\"incub dur mean\"])\n",
    "    this_config['infection'][\"infection probability pdf\"]['max_val'] =  parameters[\"inf prob max\"]\n",
    "    this_config['infection'][\"recovery time pdf\"]['mean'] =  parameters[\"recovery dur mean\"]\n",
    "    this_config['infection'][\"recovery time pdf\"]['sd'] =  np.sqrt(parameters[\"recovery dur mean\"])\n",
    "\n",
    "    this_config[\"population\"][\"re-use population\"] = False\n",
    "    contagion = Contagion(userconfig=this_config)\n",
    "    contagion.sim()\n",
    "\n",
    "    return contagion.statistics, contagion.trace_infection"
   ]
  },
  {
   "cell_type": "code",
   "execution_count": 23,
   "metadata": {},
   "outputs": [
    {
     "name": "stdout",
     "output_type": "stream",
     "text": [
      "{'incub dur mean': 3.9701395171331932, 'inf prob max': 0.18696534807697512, 'infectious dur mean': 7.907938082166051, 'latency mean': 4.644042364180026, 'recovery dur mean': 4.318322180140225, 'soc circ mean': 6.583501399727261}\n"
     ]
    }
   ],
   "source": [
    "db_path = \"sqlite:///\" + os.path.join(os.environ[\"HOME\"], \"abc.db\")\n",
    "h_loaded = pyabc.History(db_path)\n",
    "\n",
    "df, w = h_loaded.get_distribution(m=0,)\n",
    "par_means = {col: weighted_quantile(df[col].values, [0.5], sample_weight=w ).item() for col in df.columns}\n",
    "print(par_means)\n",
    "\n"
   ]
  },
  {
   "cell_type": "code",
   "execution_count": null,
   "metadata": {},
   "outputs": [],
   "source": []
  },
  {
   "cell_type": "code",
   "execution_count": null,
   "metadata": {},
   "outputs": [],
   "source": [
    "colors = sns.color_palette(\"colorblind\", 3)\n",
    "for step in range(h_loaded.max_t-3, h_loaded.max_t+1):\n",
    "    df, w = h_loaded.get_distribution(m=0, t=step)\n",
    "    plt.figure()  \n",
    "    for i in range(10):\n",
    "        pars = df.sample(1, weights=w).to_dict(orient=\"list\")\n",
    "        pars = {key: val[0] for key, val in pars.items()}\n",
    "        #pars[\"recovery dur mean\"] = 0.01\n",
    "        sim_data, _ = model(pars)\n",
    "        for field, col in zip(fields, colors):\n",
    "            plt.plot(sim_data[field], color=col, alpha=0.3)\n",
    "    for field, col in zip(fields, colors):\n",
    "        plt.plot(data[field], color=col, ls=\"--\")\n",
    "        \n",
    "    \n",
    "    #par_means = {col: np.average(df[col].values, weights=w ).item() for col in df.columns}\n",
    "    #par_means = {col: weighted_quantile(df[col].values, [0.5], sample_weight=w ).item() for col in df.columns}\n",
    "    \n",
    "    # plt.plot(sim_data[\"is_quarantined\"], color=\"k\", ls=\"-\")\n",
    "    plt.xlim(0, 150)\n",
    "    "
   ]
  },
  {
   "cell_type": "code",
   "execution_count": 8,
   "metadata": {},
   "outputs": [
    {
     "name": "stderr",
     "output_type": "stream",
     "text": [
      "INFO:contagion:Welcome to contagion!\n",
      "INFO:contagion:This package will help you model the spread of infections\n",
      "INFO:contagion:Starting population construction\n",
      "DEBUG:contagion.population:The interaction intensity pdf\n",
      "INFO:contagion.population:Constructing social circles for the population\n",
      "DEBUG:contagion:Storing for later use\n",
      "INFO:contagion:Finished the population\n",
      "INFO:contagion:Starting the infection construction\n",
      "DEBUG:contagion.infection:The infection probability pdf\n",
      "DEBUG:contagion.infection:The infection duration pdf\n",
      "DEBUG:contagion.infection:The incubation duration pdf\n",
      "DEBUG:contagion.infection:The latency duration pdf\n",
      "DEBUG:contagion.infection:The recovery time pdf\n",
      "DEBUG:contagion.infection:Symptoms pdf\n",
      "DEBUG:contagion.infection:The hospitalization pdfs\n",
      "DEBUG:contagion.infection:The mortality pdfs\n",
      "INFO:contagion:Finished the infection construction\n",
      "INFO:contagion:Starting the measure construction\n",
      "INFO:contagion.measures:Using contact tracing\n",
      "DEBUG:contagion.measures:Number of people tracked is 10000\n",
      "INFO:contagion:Finished the measure construction\n",
      "INFO:contagion:Setting the simulation framework\n",
      "INFO:contagion:Simulation framework set. Please type:\n",
      "INFO:contagion:self.sim(parameters) to run the simulation\n",
      "DEBUG:contagion:Starting MC run\n",
      "DEBUG:contagion.mc_sim:Constructing the population array\n",
      "DEBUG:contagion.mc_sim:Constructing tracked people ids\n",
      "DEBUG:contagion.mc_sim:Setting up the state machine\n",
      "DEBUG:contagion.state_machine:Tracing the population\n",
      "DEBUG:contagion.mc_sim:Setting simulation scenario\n",
      "INFO:contagion.scenario:There will be 1000 simulation steps\n",
      "DEBUG:contagion.mc_sim:Finished the state machine\n",
      "DEBUG:contagion.mc_sim:Launching the simulation\n",
      "DEBUG:contagion.scenario:In step 0\n",
      "DEBUG:contagion.scenario:Last round of simulations took 0.008961 seconds\n",
      "DEBUG:contagion.scenario:In step 100\n",
      "DEBUG:contagion.scenario:Last round of simulations took 6.924983 seconds\n",
      "DEBUG:contagion.scenario:In step 200\n",
      "DEBUG:contagion.scenario:Last round of simulations took 0.746229 seconds\n",
      "DEBUG:contagion.scenario:In step 300\n",
      "DEBUG:contagion.scenario:Last round of simulations took 0.448401 seconds\n",
      "DEBUG:contagion.scenario:In step 400\n",
      "DEBUG:contagion.scenario:Last round of simulations took 0.447891 seconds\n",
      "DEBUG:contagion.scenario:In step 500\n",
      "DEBUG:contagion.scenario:Last round of simulations took 0.451569 seconds\n",
      "DEBUG:contagion.scenario:In step 600\n",
      "DEBUG:contagion.scenario:Last round of simulations took 0.447132 seconds\n",
      "DEBUG:contagion.scenario:In step 700\n",
      "DEBUG:contagion.scenario:Last round of simulations took 0.448177 seconds\n",
      "DEBUG:contagion.scenario:In step 800\n",
      "DEBUG:contagion.scenario:Last round of simulations took 0.449755 seconds\n",
      "DEBUG:contagion.scenario:In step 900\n",
      "DEBUG:contagion.scenario:Last round of simulations took 0.448691 seconds\n",
      "DEBUG:contagion.mc_sim:Finished the simulation\n",
      "INFO:contagion.mc_sim:MC simulation took 11.385306 seconds\n",
      "INFO:contagion:Finished calculation\n",
      "INFO:contagion:The results are stored in a dictionary self.statistics\n",
      "INFO:contagion:Structure of dictionray:\n",
      "INFO:contagion:dict_keys(['is_removed', 'is_latent', 'is_infectious', 'is_infected', 'is_hospitalized', 'is_recovered', 'is_dead', 'is_quarantined', 'is_symptomatic'])\n",
      "DEBUG:contagion:Dumping run settings into ../run/config.txt\n",
      "DEBUG:contagion:Finished dump\n"
     ]
    }
   ],
   "source": []
  },
  {
   "cell_type": "code",
   "execution_count": 19,
   "metadata": {},
   "outputs": [
    {
     "data": {
      "text/plain": [
       "(0.0, 150.0)"
      ]
     },
     "execution_count": 19,
     "metadata": {},
     "output_type": "execute_result"
    },
    {
     "data": {
      "image/png": "[encoded data removed]",
      "text/plain": [
       "<Figure size 432x288 with 1 Axes>"
      ]
     },
     "metadata": {
      "needs_background": "light"
     },
     "output_type": "display_data"
    }
   ],
   "source": [
    "\n",
    "for field in fields:\n",
    "    lines = plt.plot(sim_data[field])\n",
    "    col = lines[0].get_color()\n",
    "    plt.plot(data[field], color=col, ls=\"--\")\n",
    "plt.xlim(0, 150)"
   ]
  },
  {
   "cell_type": "code",
   "execution_count": null,
   "metadata": {},
   "outputs": [],
   "source": []
  }
 ],
 "metadata": {
  "kernelspec": {
   "display_name": "Python 3",
   "language": "python",
   "name": "python3"
  },
  "language_info": {
   "codemirror_mode": {
    "name": "ipython",
    "version": 3
   },
   "file_extension": ".py",
   "mimetype": "text/x-python",
   "name": "python",
   "nbconvert_exporter": "python",
   "pygments_lexer": "ipython3",
   "version": "3.8.2"
  }
 },
 "nbformat": 4,
 "nbformat_minor": 4
}
