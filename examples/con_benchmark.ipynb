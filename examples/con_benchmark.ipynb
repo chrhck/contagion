{
 "cells": [
  {
   "cell_type": "code",
   "execution_count": 1,
   "metadata": {},
   "outputs": [],
   "source": [
    "\"\"\"\n",
    "Name: con_benchmark.ipynb\n",
    "Authors: Stephan Meighen-Berger\n",
    "Constructs the benchmark plots to compare with the other models\n",
    "\"\"\"\n",
    "%load_ext autoreload\n",
    "%autoreload 2"
   ]
  },
  {
   "cell_type": "code",
   "execution_count": 2,
   "metadata": {},
   "outputs": [],
   "source": [
    " # General imports\n",
    "import numpy as np\n",
    "import matplotlib.pyplot as plt\n",
    "import sys\n",
    "import pandas as pd\n",
    "from tqdm import tqdm"
   ]
  },
  {
   "cell_type": "code",
   "execution_count": 3,
   "metadata": {},
   "outputs": [],
   "source": [
    "# Adding path to module\n",
    "sys.path.append(\"../\")"
   ]
  },
  {
   "cell_type": "code",
   "execution_count": 4,
   "metadata": {},
   "outputs": [],
   "source": [
    "# picture path\n",
    "PICS = '../pics/'"
   ]
  },
  {
   "cell_type": "code",
   "execution_count": 5,
   "metadata": {},
   "outputs": [],
   "source": [
    "# Module imports\n",
    "from contagion import Contagion, config"
   ]
  },
  {
   "cell_type": "code",
   "execution_count": 6,
   "metadata": {},
   "outputs": [],
   "source": [
    "# Options\n",
    "# General\n",
    "config['general']['trace spread'] = True\n",
    "# Population\n",
    "config['population']['population size'] = 9999\n",
    "config['population']['social circle pdf'][\"mean\"] = 40\n",
    "config['population']['social circle interactions pdf'][\"mean\"] = 5.2\n",
    "config[\"population\"]['population class'] = 'AccuratePopulation'\n",
    "# HomogeneousPopulation AccuratePopulation\n",
    "# Infection\n",
    "config['infection']['infected'] = 1\n",
    "config['infection']['infection probability pdf']['mean'] = 3.\n",
    "config['infection']['infection probability pdf']['sd'] = 2.42\n",
    "config['infection']['infection probability pdf']['max_val'] = 0.15\n",
    "config['infection'][\"latency duration pdf\"]['class'] = \"Gamma_Benchmark\"\n",
    "config['infection'][\"latency duration pdf\"]['shape'] = 3.93\n",
    "config['infection'][\"latency duration pdf\"]['loc'] = -4.\n",
    "config['infection'][\"latency duration pdf\"]['scale'] = 2.154\n",
    "config['infection'][\"incubation duration pdf\"]['mean'] = 3.0 # 7.46522\n",
    "config['infection'][\"incubation duration pdf\"]['sd'] = 0.01 # 4.270138625384426\n",
    "config['infection'][\"hospitalization probability pdf\"]['mean'] = 0.01\n",
    "config['infection']['will have symptoms prob pdf']['mean'] = 0.5\n",
    "config['infection']['will have symptoms prob pdf']['sd'] = 0.1\n",
    "# Quarantine\n",
    "config['measures']['type'] = 'contact_tracing'\n",
    "config['measures'][\"tracked fraction\"] = 1."
   ]
  },
  {
   "cell_type": "code",
   "execution_count": null,
   "metadata": {},
   "outputs": [
    {
     "name": "stderr",
     "output_type": "stream",
     "text": [
      " 40%|█████████████████████████████████▏                                                 | 4/10 [00:26<00:39,  6.50s/it]"
     ]
    }
   ],
   "source": [
    "stats_arr = []\n",
    "t_s_arr = []\n",
    "for seed in tqdm(range(10)):\n",
    "    config['general'][\"random state seed\"] = seed\n",
    "    # Creating a contagion object\n",
    "    contagion = Contagion()\n",
    "    # Storing the solutions\n",
    "    contagion.sim()\n",
    "    stats_arr.append(pd.DataFrame(contagion.statistics))\n",
    "    t_s_arr.append(contagion.trace_infection)"
   ]
  },
  {
   "cell_type": "code",
   "execution_count": null,
   "metadata": {},
   "outputs": [],
   "source": [
    "# Averaging\n",
    "stats = {}\n",
    "for key in stats_arr[0].keys():\n",
    "    stats[key] = np.average(np.array([\n",
    "        stats_arr[i][key]\n",
    "        for i in range(len(stats_arr))\n",
    "    ]), axis=0)"
   ]
  },
  {
   "cell_type": "code",
   "execution_count": null,
   "metadata": {},
   "outputs": [],
   "source": [
    "# R_eff_steph\n",
    "r_eff_arr_steph = []\n",
    "for t_s in t_s_arr:\n",
    "    try:\n",
    "        edges_inf = np.unique(np.array(np.squeeze(np.hstack([i for i in t_s])).tolist()), axis=0)\n",
    "        unique, counts = np.unique(edges_inf[:, 0], return_counts=True)\n",
    "        counter_dic = dict(zip(unique, counts))\n",
    "        day_to_day_infector = np.array([[i, np.unique(t_s[i][0][:, 0])] for i in range(len(t_s))])\n",
    "        tmp = np.nan_to_num(np.array([\n",
    "            np.average([counter_dic[day_inf[1][j]] if len(day_inf[1]) > 0 else 0 for j in range(len(day_inf[1]))])\n",
    "            for day_inf in day_to_day_infector\n",
    "        ]))\n",
    "        extension = config['scenario'][\"sim_length\"] - len(tmp)\n",
    "        tmp_ext = np.concatenate((tmp, np.zeros(extension)))\n",
    "        r_eff_arr_steph.append(tmp_ext)\n",
    "    except:\n",
    "        r_eff_arr_steph.append(np.zeros(config['scenario'][\"sim_length\"]))\n",
    "r_eff_steph = np.average(r_eff_arr_steph, axis=0)"
   ]
  },
  {
   "cell_type": "code",
   "execution_count": null,
   "metadata": {},
   "outputs": [],
   "source": [
    "def Unique(array, orderby='first'):\n",
    "    array = np.asarray(array)\n",
    "    order = array.argsort(kind='mergesort')\n",
    "    array = array[order]\n",
    "    diff = array[1:] != array[:-1]\n",
    "    if orderby == 'first':\n",
    "        diff = np.concatenate([[True], diff])\n",
    "    elif orderby == 'last':\n",
    "        diff = np.concatenate([diff, [True]])\n",
    "    else:\n",
    "        raise ValueError\n",
    "    uniq = array[diff]\n",
    "    index = order[diff]\n",
    "    return uniq[index.argsort()]"
   ]
  },
  {
   "cell_type": "code",
   "execution_count": null,
   "metadata": {},
   "outputs": [],
   "source": [
    "# R_eff_tina\n",
    "r_eff_arr_tina = []\n",
    "for id_t_s, t_s in enumerate(t_s_arr):\n",
    "    try:\n",
    "        lower_id = 0\n",
    "        edges_inf = np.unique(np.array(np.squeeze(np.hstack([i for i in t_s])).tolist()), axis=0)\n",
    "        unique, counts = np.unique(edges_inf[:, 0], return_counts=True)\n",
    "        counter_dic = dict(zip(unique, counts))\n",
    "        sorted_infectors = Unique(np.hstack(np.array([day[0, :,0] for day in t_s])))\n",
    "        r_eff_tina_tmp = []\n",
    "        for i in range(config['scenario'][\"sim_length\"]):\n",
    "            newly_recovered = np.diff(stats_arr[id_t_s]['is_recovered'])\n",
    "            newly_recovered = np.insert(newly_recovered, 0, 0)\n",
    "            today_recovered = newly_recovered[i]\n",
    "            upper_id = int(today_recovered + lower_id)\n",
    "            todays_recovered_infectors = sorted_infectors[lower_id:upper_id]\n",
    "            these_infected = np.sum(np.array([counter_dic[infec] for infec in todays_recovered_infectors]))\n",
    "            lower_id = upper_id\n",
    "            r_eff_tina_tmp.append(these_infected / len(todays_recovered_infectors))\n",
    "        r_eff_tina_tmp = np.nan_to_num(np.array(r_eff_tina_tmp))\n",
    "        r_eff_arr_tina.append(r_eff_tina_tmp)\n",
    "    except:\n",
    "        r_eff_arr_tina.append(np.zeros(config['scenario'][\"sim_length\"]))\n",
    "r_eff_tina = np.average(r_eff_arr_tina, axis=0)"
   ]
  },
  {
   "cell_type": "code",
   "execution_count": null,
   "metadata": {},
   "outputs": [],
   "source": [
    "# Fetching representative result\n",
    "maxima_id = np.array([np.argmax(stats_arr[i]['is_infected']) for i in range(len(stats_arr))])\n",
    "average_max_id = np.argmax(stats['is_infected'])\n",
    "nearest_id = (np.abs(maxima_id - average_max_id)).argmin()\n",
    "run_id = nearest_id"
   ]
  },
  {
   "cell_type": "code",
   "execution_count": null,
   "metadata": {},
   "outputs": [],
   "source": [
    "# Plotting standards\n",
    "std_size = 10.\n",
    "fontsize = 15.\n",
    "lw=3.\n",
    "h_length=1.\n",
    "figure, (ax1, ax2, ax3) = plt.subplots(3, 1, figsize=(std_size, std_size * 6. / 8.), sharex=True)\n",
    "colors = ['#fdcc8a',\n",
    "          '#fc8d59',\n",
    "          '#d7301f']\n",
    "# ---------------------------------------------------------------------------------\n",
    "# Infections per time step\n",
    "ax1.plot(contagion.t,\n",
    "         (config['population']['population size'] - stats_arr[run_id]['is_recovered'] -\n",
    "          stats_arr[run_id]['is_infected']) /\n",
    "         config['population']['population size'],\n",
    "         lw=lw, label='Susceptible', color='purple')\n",
    "ax1.plot(contagion.t, stats_arr[run_id]['is_quarantined'] / config['population']['population size'],\n",
    "         lw=lw, label='Inf(quarant.)', color='orange')\n",
    "ax1.plot(contagion.t, (stats_arr[run_id]['is_infectious']) / config['population']['population size'],\n",
    "         lw=lw, label='Inf(free)', color='b')\n",
    "ax1.plot(contagion.t, (stats_arr[run_id]['is_latent']) / config['population']['population size'],\n",
    "         lw=lw, label='Exposed', color=\"g\")\n",
    "ax1.plot(contagion.t, stats_arr[run_id]['is_recovered'] / config['population']['population size'],\n",
    "         lw=lw, label='Recovered', color='y')\n",
    "# ax1.set_xlim(0, 200)\n",
    "ax1.set_ylim(0., 1.)\n",
    "ax1.set_xscale('linear')\n",
    "ax1.set_yscale('linear')\n",
    "# ax1.set_xlabel(r't [Days]', fontsize=fontsize)\n",
    "ax1.set_ylabel(r'$Fraction$', fontsize=fontsize)\n",
    "ax1.tick_params(axis = 'both', which = 'major', labelsize=fontsize, direction='in')\n",
    "ax1.tick_params(axis = 'both', which = 'minor', labelsize=fontsize, direction='in')\n",
    "h, l = ax1.get_legend_handles_labels()\n",
    "lgd1 = ax1.legend(h,l, loc=9, bbox_to_anchor=(0.2, +1.1),\n",
    "                  ncol=1, fontsize=fontsize, handlelength=h_length,\n",
    "                  fancybox=True, frameon=True)\n",
    "ax1.add_artist(lgd1)\n",
    "ax1.grid(True)\n",
    "# ---------------------------------------------------------------------------------\n",
    "# The effective R value\n",
    "ax2.scatter(contagion.t, r_eff_arr_steph[run_id], s=lw * 5, label=r'$R_{eff}^{Steph}$')\n",
    "ax2.scatter(contagion.t, r_eff_arr_tina[run_id], s=lw * 5, label=r'$R_{eff}^{Tina}$')\n",
    "ax2.set_ylim(0., 3.)\n",
    "ax2.set_xscale('linear')\n",
    "ax2.set_yscale('linear')\n",
    "# ax1.set_xlabel(r't [Days]', fontsize=fontsize)\n",
    "ax2.set_ylabel(r'$R_{eff}$', fontsize=fontsize)\n",
    "ax2.tick_params(axis = 'both', which = 'major', labelsize=fontsize, direction='in')\n",
    "ax2.tick_params(axis = 'both', which = 'minor', labelsize=fontsize, direction='in')\n",
    "h, l = ax2.get_legend_handles_labels()\n",
    "lgd1 = ax2.legend(h,l, loc=9, bbox_to_anchor=(0.9, +0.8),\n",
    "                  ncol=1, fontsize=fontsize, handlelength=h_length,\n",
    "                  fancybox=True, frameon=True)\n",
    "ax2.add_artist(lgd1)\n",
    "ax2.grid(True)\n",
    "# ---------------------------------------------------------------------------------\n",
    "# The number of infected people\n",
    "ax3.plot(contagion.t, stats_arr[run_id]['is_infected'], lw=lw)\n",
    "ax3.set_xlim(0, 150)\n",
    "ax3.set_ylim(0., 7000)\n",
    "ax3.set_xscale('linear')\n",
    "ax3.set_yscale('linear')\n",
    "# ax1.set_xlabel(r't [Days]', fontsize=fontsize)\n",
    "ax3.set_ylabel(r'$Infected$', fontsize=fontsize)\n",
    "ax3.tick_params(axis = 'both', which = 'major', labelsize=fontsize, direction='in')\n",
    "ax3.tick_params(axis = 'both', which = 'minor', labelsize=fontsize, direction='in')\n",
    "ax3.grid(True)\n",
    "plt.show()"
   ]
  },
  {
   "cell_type": "code",
   "execution_count": null,
   "metadata": {},
   "outputs": [],
   "source": [
    "figure.savefig(PICS + \"Contagion_Benchmark.png\",\n",
    "               bbox_inches='tight')"
   ]
  },
  {
   "cell_type": "code",
   "execution_count": null,
   "metadata": {},
   "outputs": [],
   "source": [
    "# Plotting standards\n",
    "std_size = 10.\n",
    "fontsize = 15.\n",
    "lw=3.\n",
    "h_length=1.\n",
    "figure, (ax1) = plt.subplots(1, 1, figsize=(std_size, std_size * 6. / 8.), sharex=True)\n",
    "colors = ['#fdcc8a',\n",
    "          '#fc8d59',\n",
    "          '#d7301f']\n",
    "# ---------------------------------------------------------------------------------\n",
    "# Infections per time step\n",
    "ax1.scatter(contagion.t[:-1],\n",
    "            stats_arr[run_id]['is_infected'][:-1] / np.diff(stats_arr[run_id]['is_infected']),\n",
    "            lw=lw, label='Doubling Time', color='purple')\n",
    "ax1.set_xlim(0, 40)\n",
    "ax1.set_ylim(0., 7.5)\n",
    "ax1.set_xscale('linear')\n",
    "ax1.set_yscale('linear')\n",
    "# ax1.set_xlabel(r't [Days]', fontsize=fontsize)\n",
    "ax1.set_ylabel(r'$Doubling Time$', fontsize=fontsize)\n",
    "ax1.tick_params(axis = 'both', which = 'major', labelsize=fontsize, direction='in')\n",
    "ax1.tick_params(axis = 'both', which = 'minor', labelsize=fontsize, direction='in')\n",
    "# h, l = ax1.get_legend_handles_labels()\n",
    "# lgd1 = ax1.legend(h,l, loc=9, bbox_to_anchor=(0.8, +1.1),\n",
    "#                   ncol=1, fontsize=fontsize, handlelength=h_length,\n",
    "#                   fancybox=True, frameon=True)\n",
    "# ax1.add_artist(lgd1)\n",
    "ax1.grid(True)\n",
    "plt.show()"
   ]
  },
  {
   "cell_type": "code",
   "execution_count": null,
   "metadata": {},
   "outputs": [],
   "source": [
    "np.savetxt('Exposed.csv', stats_arr[run_id]['is_latent'])\n",
    "np.savetxt('Susceptible.csv', config['population']['population size'] - stats_arr[run_id]['is_recovered'] -\n",
    "          stats_arr[run_id]['is_infected'])\n",
    "np.savetxt('Infectious.csv', stats_arr[run_id]['is_infectious'])\n",
    "np.savetxt('Recovered.csv', stats_arr[run_id]['is_recovered'])"
   ]
  },
  {
   "cell_type": "code",
   "execution_count": null,
   "metadata": {},
   "outputs": [],
   "source": []
  }
 ],
 "metadata": {
  "kernelspec": {
   "display_name": "Python 3",
   "language": "python",
   "name": "python3"
  },
  "language_info": {
   "codemirror_mode": {
    "name": "ipython",
    "version": 3
   },
   "file_extension": ".py",
   "mimetype": "text/x-python",
   "name": "python",
   "nbconvert_exporter": "python",
   "pygments_lexer": "ipython3",
   "version": "3.7.7"
  }
 },
 "nbformat": 4,
 "nbformat_minor": 2
}
