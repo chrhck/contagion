{
 "cells": [
  {
   "cell_type": "code",
   "execution_count": 1,
   "metadata": {},
   "outputs": [],
   "source": [
    "\"\"\"\n",
    "Name: con_benchmark.ipynb\n",
    "Authors: Stephan Meighen-Berger\n",
    "Constructs the benchmark plots to compare with the other models\n",
    "\"\"\"\n",
    "%load_ext autoreload\n",
    "%autoreload 2"
   ]
  },
  {
   "cell_type": "code",
   "execution_count": 2,
   "metadata": {},
   "outputs": [],
   "source": [
    " # General imports\n",
    "import numpy as np\n",
    "import matplotlib.pyplot as plt\n",
    "import sys\n",
    "import pandas as pd"
   ]
  },
  {
   "cell_type": "code",
   "execution_count": 3,
   "metadata": {},
   "outputs": [],
   "source": [
    "# Adding path to module\n",
    "sys.path.append(\"../\")"
   ]
  },
  {
   "cell_type": "code",
   "execution_count": 4,
   "metadata": {},
   "outputs": [],
   "source": [
    "# picture path\n",
    "PICS = '../pics/'"
   ]
  },
  {
   "cell_type": "code",
   "execution_count": 5,
   "metadata": {},
   "outputs": [],
   "source": [
    "# Module imports\n",
    "from contagion import Contagion, config"
   ]
  },
  {
   "cell_type": "code",
   "execution_count": 6,
   "metadata": {},
   "outputs": [],
   "source": [
    "# Options\n",
    "config[\"average social circle\"] = 100\n",
    "config[\"variance social circle\"] = 1\n",
    "config['mean social circle interactions'] = 6\n",
    "config['infected'] = 1\n",
    "config[\"population size\"] = 100000\n",
    "config['infection probability mean'] = 3.\n",
    "config['infection probability variance'] = 2.42\n",
    "config['hospitalization probability mean'] = 0.5\n",
    "config['trace spread'] = True"
   ]
  },
  {
   "cell_type": "code",
   "execution_count": 7,
   "metadata": {},
   "outputs": [],
   "source": [
    " # Storing the solutions\n",
    "stats_run = []\n",
    "t_s_arr = []\n",
    "seeds = [1337, 1439, 1234, 1343, 3243, 902, 2143, 2334, 10, 8919]\n",
    "for seed in seeds:\n",
    "    config[\"random state\"] = np.random.RandomState(seed)\n",
    "    # Creating a contagion object\n",
    "    contagion = Contagion()\n",
    "    contagion.sim()\n",
    "    stats_run.append(pd.DataFrame(contagion.statistics))\n",
    "    t_s_arr.append(contagion.trace_infection)"
   ]
  },
  {
   "cell_type": "code",
   "execution_count": 8,
   "metadata": {},
   "outputs": [],
   "source": [
    "# Averaging stats\n",
    "stats = {\n",
    "    'is_recovered': np.average(np.array([stats_run[i]['is_recovered'] for i in range(len(seeds))]), axis=0),\n",
    "    'is_hospitalized': np.average(np.array([stats_run[i]['is_hospitalized'] for i in range(len(seeds))]), axis=0),\n",
    "    'is_incubation': np.average(np.array([stats_run[i]['is_incubation'] for i in range(len(seeds))]), axis=0),\n",
    "    'is_infectious': np.average(np.array([stats_run[i]['is_infectious'] for i in range(len(seeds))]), axis=0),\n",
    "    'is_latent': np.average(np.array([stats_run[i]['is_latent'] for i in range(len(seeds))]), axis=0),\n",
    "}\n",
    "stats = pd.DataFrame(contagion.statistics)\n",
    "t_s = contagion.trace_infection"
   ]
  },
  {
   "cell_type": "code",
   "execution_count": 9,
   "metadata": {},
   "outputs": [
    {
     "name": "stderr",
     "output_type": "stream",
     "text": [
      "C:\\Users\\steph\\Anaconda3\\lib\\site-packages\\numpy\\lib\\function_base.py:390: RuntimeWarning: Mean of empty slice.\n",
      "  avg = a.mean(axis)\n",
      "C:\\Users\\steph\\Anaconda3\\lib\\site-packages\\numpy\\core\\_methods.py:161: RuntimeWarning: invalid value encountered in double_scalars\n",
      "  ret = ret.dtype.type(ret / rcount)\n"
     ]
    }
   ],
   "source": [
    "# R_eff_steph\n",
    "r_eff_arr = []\n",
    "for t_s in t_s_arr:\n",
    "    edges_inf = np.unique(np.array(np.squeeze(np.hstack([i for i in t_s])).tolist()), axis=0)\n",
    "    unique, counts = np.unique(edges_inf[:, 0], return_counts=True)\n",
    "    counter_dic = dict(zip(unique, counts / 2))\n",
    "    day_to_day_infector = np.array([[i, np.unique(t_s[i][0][:, 0])] for i in range(config[\"simulation length\"])])\n",
    "    r_eff_arr.append(np.nan_to_num(np.array([\n",
    "        np.average([counter_dic[day_inf[1][j]] if len(day_inf[1]) > 0 else 0 for j in range(len(day_inf[1]))])\n",
    "        for day_inf in day_to_day_infector\n",
    "    ])))\n",
    "r_eff_steph = np.average(r_eff_arr, axis=0)"
   ]
  },
  {
   "cell_type": "code",
   "execution_count": 10,
   "metadata": {},
   "outputs": [],
   "source": [
    "newly_recovered = np.diff(stats['is_recovered'])\n",
    "newly_recovered = np.insert(newly_recovered, 0, 0)"
   ]
  },
  {
   "cell_type": "code",
   "execution_count": 11,
   "metadata": {},
   "outputs": [],
   "source": [
    "def unique_func(array, orderby='first'):\n",
    "    array = np.asarray(array)\n",
    "    order = array.argsort(kind='mergesort')\n",
    "    array = array[order]\n",
    "    diff = array[1:] != array[:-1]\n",
    "    if orderby == 'first':\n",
    "        diff = np.concatenate([[True], diff])\n",
    "    elif orderby == 'last':\n",
    "        diff = np.concatenate([diff, [True]])\n",
    "    else:\n",
    "        raise ValueError\n",
    "    uniq = array[diff]\n",
    "    index = order[diff]\n",
    "    return uniq[index.argsort()]"
   ]
  },
  {
   "cell_type": "code",
   "execution_count": 12,
   "metadata": {},
   "outputs": [],
   "source": [
    "# R_eff_tina\n",
    "# Need to fix this\n",
    "# r_eff_arr = []\n",
    "# for t_s in t_s_arr:\n",
    "#     edges_inf = np.unique(np.array(np.squeeze(np.hstack([i for i in t_s])).tolist()), axis=0)\n",
    "#     unique, counts = np.unique(edges_inf[:, 0], return_counts=True)\n",
    "#     counter_dic = dict(zip(unique, counts / 2))\n",
    "#     lower_id = 0\n",
    "#     sorted_infectors = unique_func(np.hstack(np.array([day[0, :,0] for day in t_s])))\n",
    "#     r_eff_loc = []\n",
    "#     for i in range(config['simulation length']):\n",
    "#         today_recovered = newly_recovered[i]\n",
    "#         upper_id = today_recovered + lower_id\n",
    "#         todays_recovered_infectors = sorted_infectors[lower_id:upper_id]\n",
    "#         these_infected = np.sum(np.array([counter_dic[infec] for infec in todays_recovered_infectors]))\n",
    "#         lower_id = upper_id\n",
    "#         r_eff_loc.append(np.nan_to_num(these_infected / len(todays_recovered_infectors)))\n",
    "#     r_eff_arr.append(r_eff_arr)\n",
    "# r_eff_tina = np.average(r_eff_arr, axis=1)"
   ]
  },
  {
   "cell_type": "code",
   "execution_count": 13,
   "metadata": {},
   "outputs": [
    {
     "data": {
      "image/png": "[encoded data removed]",
      "text/plain": [
       "<Figure size 720x540 with 3 Axes>"
      ]
     },
     "metadata": {
      "needs_background": "light"
     },
     "output_type": "display_data"
    }
   ],
   "source": [
    "# Plotting standards\n",
    "std_size = 10.\n",
    "fontsize = 15.\n",
    "lw=3.\n",
    "h_length=1.\n",
    "figure, (ax1, ax2, ax3) = plt.subplots(3, 1, figsize=(std_size, std_size * 6. / 8.), sharex=True)\n",
    "colors = ['#fdcc8a',\n",
    "          '#fc8d59',\n",
    "          '#d7301f']\n",
    "# ---------------------------------------------------------------------------------\n",
    "# Infections per time step\n",
    "ax1.plot(contagion.t, stats['is_hospitalized'] / config['population size'],\n",
    "         lw=lw, label='Inf(quarant.)', color='orange')\n",
    "ax1.plot(contagion.t, (stats['is_incubation'] + stats['is_infectious']) / config['population size'],\n",
    "         lw=lw, label='Inf(free)', color='b')\n",
    "ax1.plot(contagion.t, (stats['is_latent']) / config['population size'],\n",
    "         lw=lw, label='Exposed', color=\"g\")\n",
    "ax1.plot(contagion.t, stats['is_recovered'] / config['population size'],\n",
    "         lw=lw, label='Recovered', color='y')\n",
    "# ax1.set_xlim(0, 200)\n",
    "ax1.set_ylim(0., 1.)\n",
    "ax1.set_xscale('linear')\n",
    "ax1.set_yscale('linear')\n",
    "# ax1.set_xlabel(r't [Days]', fontsize=fontsize)\n",
    "ax1.set_ylabel(r'$Fraction$', fontsize=fontsize)\n",
    "ax1.tick_params(axis = 'both', which = 'major', labelsize=fontsize, direction='in')\n",
    "ax1.tick_params(axis = 'both', which = 'minor', labelsize=fontsize, direction='in')\n",
    "h, l = ax1.get_legend_handles_labels()\n",
    "lgd1 = ax1.legend(h,l, loc=9, bbox_to_anchor=(0.8, +1.1),\n",
    "                  ncol=1, fontsize=fontsize, handlelength=h_length,\n",
    "                  fancybox=True, frameon=True)\n",
    "ax1.add_artist(lgd1)\n",
    "ax1.grid(True)\n",
    "# ---------------------------------------------------------------------------------\n",
    "# The effective R value\n",
    "ax2.scatter(contagion.t, r_eff_steph, s=lw * 5, label=r'$R_{eff}^{Steph}$')\n",
    "# ax2.scatter(contagion.t, r_eff_tina, s=lw * 5, label=r'$R_{eff}^{Tina}$')\n",
    "ax2.set_xlim(0, config['simulation length'])\n",
    "ax2.set_ylim(0., 10.)\n",
    "ax2.set_xscale('linear')\n",
    "ax2.set_yscale('linear')\n",
    "# ax1.set_xlabel(r't [Days]', fontsize=fontsize)\n",
    "ax2.set_ylabel(r'$R_{eff}$', fontsize=fontsize)\n",
    "ax2.tick_params(axis = 'both', which = 'major', labelsize=fontsize, direction='in')\n",
    "ax2.tick_params(axis = 'both', which = 'minor', labelsize=fontsize, direction='in')\n",
    "h, l = ax2.get_legend_handles_labels()\n",
    "lgd1 = ax2.legend(h,l, loc=9, bbox_to_anchor=(0.9, +0.8),\n",
    "                  ncol=1, fontsize=fontsize, handlelength=h_length,\n",
    "                  fancybox=True, frameon=True)\n",
    "ax2.add_artist(lgd1)\n",
    "ax2.grid(True)\n",
    "# ---------------------------------------------------------------------------------\n",
    "# The number of infected people\n",
    "ax3.plot(contagion.t, stats['is_infected'], lw=lw)\n",
    "ax3.set_xlim(0, 150)\n",
    "ax3.set_ylim(0., 10000)\n",
    "ax3.set_xscale('linear')\n",
    "ax3.set_yscale('linear')\n",
    "# ax1.set_xlabel(r't [Days]', fontsize=fontsize)\n",
    "ax3.set_ylabel(r'$Infected$', fontsize=fontsize)\n",
    "ax3.tick_params(axis = 'both', which = 'major', labelsize=fontsize, direction='in')\n",
    "ax3.tick_params(axis = 'both', which = 'minor', labelsize=fontsize, direction='in')\n",
    "ax3.grid(True)\n",
    "plt.show()"
   ]
  },
  {
   "cell_type": "code",
   "execution_count": 14,
   "metadata": {},
   "outputs": [],
   "source": [
    "figure.savefig(PICS + \"Contagion_Benchmark.png\",\n",
    "               bbox_inches='tight')"
   ]
  },
  {
   "cell_type": "markdown",
   "metadata": {},
   "source": []
  }
 ],
 "metadata": {
  "kernelspec": {
   "display_name": "Python 3",
   "language": "python",
   "name": "python3"
  },
  "language_info": {
   "codemirror_mode": {
    "name": "ipython",
    "version": 3
   },
   "file_extension": ".py",
   "mimetype": "text/x-python",
   "name": "python",
   "nbconvert_exporter": "python",
   "pygments_lexer": "ipython3",
   "version": "3.7.7"
  }
 },
 "nbformat": 4,
 "nbformat_minor": 2
}
