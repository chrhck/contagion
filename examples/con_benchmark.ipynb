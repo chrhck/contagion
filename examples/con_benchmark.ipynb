{
 "cells": [
  {
   "cell_type": "code",
   "execution_count": 2,
   "metadata": {},
   "outputs": [],
   "source": [
    "\"\"\"\n",
    "Name: con_benchmark.ipynb\n",
    "Authors: Stephan Meighen-Berger\n",
    "Constructs the benchmark plots to compare with the other models\n",
    "\"\"\"\n",
    "%load_ext autoreload\n",
    "%autoreload 2"
   ]
  },
  {
   "cell_type": "code",
   "execution_count": 3,
   "metadata": {},
   "outputs": [],
   "source": [
    " # General imports\n",
    "import numpy as np\n",
    "import matplotlib.pyplot as plt\n",
    "import sys\n",
    "import pandas as pd\n",
    "from tqdm import tqdm"
   ]
  },
  {
   "cell_type": "code",
   "execution_count": 4,
   "metadata": {},
   "outputs": [],
   "source": [
    "# Adding path to module\n",
    "sys.path.append(\"../\")"
   ]
  },
  {
   "cell_type": "code",
   "execution_count": 5,
   "metadata": {},
   "outputs": [],
   "source": [
    "# picture path\n",
    "PICS = '../pics/'"
   ]
  },
  {
   "cell_type": "code",
   "execution_count": 8,
   "metadata": {},
   "outputs": [],
   "source": [
    "# Module imports\n",
    "from contagion import Contagion, config\n",
    "from contagion.config import _baseconfig"
   ]
  },
  {
   "cell_type": "code",
   "execution_count": 159,
   "metadata": {},
   "outputs": [
    {
     "data": {
      "text/plain": [
       "'\\nmy_config[\"population\"][\"population class\"] = \"NetworkXPopulation\"\\nmy_config[\"population\"][\"nx\"][\"func\"] = \"lfr_ba\"\\nmy_config[\"population\"][\"nx\"][\"kwargs\"] = {\\n                \"m\": 7,\\n                \"tau\": 1.2,\\n                \"mu\": 0.2,\\n                \"min_community\": 10,\\n                \"max_community\": 500,\\n                \"max_iters\": 2000,\\n                \"tolerance\": 0.1,\\n                \"pref_attach\": True\\n            }\\nmy_config[\"population\"][\"nx\"][\"inter freq pdf\"] = {\\n                \"class\": \"Gamma\",\\n                \"mean\": 7.8,\\n                \"sd\": 3\\n            }\\nmy_config[\"population\"][\"nx\"][\"intra freq pdf\"] = { \\n                \"class\": \"Gamma\",\\n                \"mean\": 7.8,\\n                \"sd\": 3\\n            }\\n'"
      ]
     },
     "execution_count": 159,
     "metadata": {},
     "output_type": "execute_result"
    }
   ],
   "source": [
    "parameters = {'incub dur mean': 7.967114078347557, 'infectious dur mean': 7.28023747240858, 'latency mean': 8.543286743436292, 'soc circ mean': 11.405477948345762}\n",
    "my_config = dict(_baseconfig)\n",
    "my_config[\"general\"][\"random state seed\"] = 3\n",
    "my_config[\"general\"][\"track graph history\"] = False\n",
    "my_config[\"general\"][\"debug level\"] = 50\n",
    "my_config['general']['trace spread'] = True\n",
    "\n",
    "my_config[\"population\"][\"store population\"] = True\n",
    "my_config[\"population\"][\"re-use population\"] = False\n",
    "my_config[\"scenario\"][\"sim_length\"] = 1000\n",
    "my_config['infection']['infected'] = 1\n",
    "my_config['infection'][\"hospitalization probability pdf\"]['mean'] = 0.0001\n",
    "my_config['infection'][\"hospitalization probability pdf\"]['sd'] = 0.00001\n",
    "my_config['infection']['will have symptoms prob pdf']['mean'] = 0.5\n",
    "my_config['infection']['will have symptoms prob pdf']['sd'] = 0.1\n",
    "my_config[\"population\"][\"random interactions pdf\"][\"mean\"] = 0.001\n",
    "my_config[\"population\"][\"random interactions pdf\"][\"sd\"] = 0.001\n",
    "my_config[\"population\"][\"random interactions intensity pdf\"][\"mean\"] = 0.0001\n",
    "my_config[\"population\"][\"random interactions intensity pdf\"][\"sd\"] = 0.0001\n",
    "my_config[\"population\"][\"population size\"] = 10000\n",
    "my_config[\"population\"]['population class'] = 'HomogeneousPopulation'\n",
    "my_config['measures']['type'] = 'contact_tracing'\n",
    "my_config['measures'][\"tracked fraction\"] = 1.\n",
    "\n",
    "my_config['population']['social circle pdf'][\"mean\"] = parameters[\"soc circ mean\"]\n",
    "my_config['population']['social circle pdf'][\"sd\"] = np.sqrt(parameters[\"soc circ mean\"])\n",
    "my_config['population']['social circle interactions pdf'][\"mean\"] = parameters[\"soc circ mean\"]\n",
    "my_config['population']['social circle interactions pdf'][\"sd\"] = np.sqrt(parameters[\"soc circ mean\"])\n",
    "my_config['infection'][\"latency duration pdf\"]['mean'] =  parameters[\"latency mean\"]\n",
    "my_config['infection'][\"latency duration pdf\"]['sd'] =  np.sqrt(parameters[\"latency mean\"])\n",
    "my_config['infection'][\"infectious duration pdf\"]['mean'] =  parameters[\"infectious dur mean\"]\n",
    "my_config['infection'][\"infectious duration pdf\"]['sd'] =  np.sqrt(parameters[\"infectious dur mean\"])\n",
    "my_config['infection'][\"incubation duration pdf\"]['mean'] =  parameters[\"incub dur mean\"]\n",
    "my_config['infection'][\"incubation duration pdf\"]['sd'] =  np.sqrt(parameters[\"incub dur mean\"])\n",
    "\"\"\"\n",
    "my_config[\"population\"][\"population class\"] = \"NetworkXPopulation\"\n",
    "my_config[\"population\"][\"nx\"][\"func\"] = \"lfr_ba\"\n",
    "my_config[\"population\"][\"nx\"][\"kwargs\"] = {\n",
    "                \"m\": 7,\n",
    "                \"tau\": 1.2,\n",
    "                \"mu\": 0.2,\n",
    "                \"min_community\": 10,\n",
    "                \"max_community\": 500,\n",
    "                \"max_iters\": 2000,\n",
    "                \"tolerance\": 0.1,\n",
    "                \"pref_attach\": True\n",
    "            }\n",
    "my_config[\"population\"][\"nx\"][\"inter freq pdf\"] = {\n",
    "                \"class\": \"Gamma\",\n",
    "                \"mean\": 7.8,\n",
    "                \"sd\": 3\n",
    "            }\n",
    "my_config[\"population\"][\"nx\"][\"intra freq pdf\"] = { \n",
    "                \"class\": \"Gamma\",\n",
    "                \"mean\": 7.8,\n",
    "                \"sd\": 3\n",
    "            }\n",
    "\"\"\"\n",
    "\n",
    "\n",
    "\n",
    "\n"
   ]
  },
  {
   "cell_type": "code",
   "execution_count": null,
   "metadata": {},
   "outputs": [
    {
     "name": "stderr",
     "output_type": "stream",
     "text": [
      "\n",
      "\n",
      "  0%|          | 0/10 [00:00<?, ?it/s]\u001b[A\u001b[A\n",
      "\n",
      " 10%|█         | 1/10 [00:07<01:08,  7.64s/it]\u001b[A\u001b[A\n",
      "\n",
      " 20%|██        | 2/10 [00:15<01:01,  7.66s/it]\u001b[A\u001b[A\n",
      "\n",
      " 30%|███       | 3/10 [00:23<00:54,  7.77s/it]\u001b[A\u001b[A\n",
      "\n",
      " 40%|████      | 4/10 [00:30<00:46,  7.72s/it]\u001b[A\u001b[A\n",
      "\n",
      " 50%|█████     | 5/10 [00:38<00:38,  7.73s/it]\u001b[A\u001b[A\n",
      "\n",
      " 60%|██████    | 6/10 [00:46<00:30,  7.73s/it]\u001b[A\u001b[A\n",
      "\n",
      " 70%|███████   | 7/10 [00:54<00:23,  7.69s/it]\u001b[A\u001b[A"
     ]
    }
   ],
   "source": [
    "stats_arr = []\n",
    "t_s_arr = []\n",
    "for seed in tqdm(range(10)):\n",
    "    config['general'][\"random state seed\"] = seed\n",
    "    # Creating a contagion object\n",
    "    contagion = Contagion(my_config)\n",
    "    # Storing the solutions\n",
    "    contagion.sim()\n",
    "    stats_arr.append(pd.DataFrame(contagion.statistics))\n",
    "    t_s_arr.append(contagion.trace_infection)"
   ]
  },
  {
   "cell_type": "code",
   "execution_count": null,
   "metadata": {},
   "outputs": [],
   "source": [
    "max_len = 0\n",
    "for s in stats_arr:\n",
    "    max_len = max(max_len, len(s))\n",
    "    \n",
    "padded = []\n",
    "for s in stats_arr:\n",
    "    last = s.iloc[-1]\n",
    "    padded.append(s.append([last]*(max_len - len(s))))"
   ]
  },
  {
   "cell_type": "code",
   "execution_count": null,
   "metadata": {},
   "outputs": [],
   "source": [
    "stats_arr = padded"
   ]
  },
  {
   "cell_type": "code",
   "execution_count": null,
   "metadata": {},
   "outputs": [],
   "source": [
    "# Averaging\n",
    "stats = {}\n",
    "for key in stats_arr[0].keys():\n",
    "    stats[key] = np.average(np.array([\n",
    "        stats_arr[i][key]\n",
    "        for i in range(len(stats_arr))\n",
    "    ]), axis=0)"
   ]
  },
  {
   "cell_type": "code",
   "execution_count": null,
   "metadata": {},
   "outputs": [],
   "source": [
    " t_s_arr[0][0]"
   ]
  },
  {
   "cell_type": "code",
   "execution_count": null,
   "metadata": {},
   "outputs": [],
   "source": [
    "hist = np.zeros(10000)"
   ]
  },
  {
   "cell_type": "code",
   "execution_count": null,
   "metadata": {},
   "outputs": [],
   "source": [
    "reff = []\n",
    "reff_hist = []\n",
    "for tstep in t_s_arr[0]:\n",
    "    tstep = np.atleast_2d(np.squeeze(tstep))\n",
    "    if len(tstep) > 0:\n",
    "        #print(tstep)\n",
    "        inds, cnts = np.unique(tstep[:,0], return_counts=True)\n",
    "        #print(inds, cnts)\n",
    "        r0.append(sum(cnts) / len(inds))\n",
    "        hist[inds] += cnts\n",
    "        reff_hist.append()\n",
    "    else:\n",
    "        r0.append(0)\n",
    "    "
   ]
  },
  {
   "cell_type": "code",
   "execution_count": null,
   "metadata": {},
   "outputs": [],
   "source": [
    "plt.plot(r0)\n",
    "plt.xlabel(\"Time [days]\")\n",
    "plt.ylabel(\"Current R0\")"
   ]
  },
  {
   "cell_type": "code",
   "execution_count": null,
   "metadata": {},
   "outputs": [],
   "source": [
    "# R_eff_steph\n",
    "r_eff_arr_steph = []\n",
    "for t_s in t_s_arr:\n",
    "    try:\n",
    "        edges_inf = np.unique(np.array(np.squeeze(np.hstack([i for i in t_s])).tolist()), axis=0)\n",
    "        unique, counts = np.unique(edges_inf[:, 0], return_counts=True)\n",
    "        counter_dic = dict(zip(unique, counts))\n",
    "        day_to_day_infector = np.array([[i, np.unique(t_s[i][0][:, 0])] for i in range(len(t_s))])\n",
    "        tmp = np.nan_to_num(np.array([\n",
    "            np.average([counter_dic[day_inf[1][j]] if len(day_inf[1]) > 0 else 0 for j in range(len(day_inf[1]))])\n",
    "            for day_inf in day_to_day_infector\n",
    "        ]))\n",
    "        extension = max_len - len(tmp)\n",
    "        tmp_ext = np.concatenate((tmp, np.zeros(extension)))\n",
    "        r_eff_arr_steph.append(tmp_ext)\n",
    "    except:\n",
    "        r_eff_arr_steph.append(np.zeros(max_len))\n",
    "r_eff_steph = np.average(r_eff_arr_steph, axis=0)"
   ]
  },
  {
   "cell_type": "code",
   "execution_count": null,
   "metadata": {},
   "outputs": [],
   "source": [
    "def Unique(array, orderby='first'):\n",
    "    array = np.asarray(array)\n",
    "    order = array.argsort(kind='mergesort')\n",
    "    array = array[order]\n",
    "    diff = array[1:] != array[:-1]\n",
    "    if orderby == 'first':\n",
    "        diff = np.concatenate([[True], diff])\n",
    "    elif orderby == 'last':\n",
    "        diff = np.concatenate([diff, [True]])\n",
    "    else:\n",
    "        raise ValueError\n",
    "    uniq = array[diff]\n",
    "    index = order[diff]\n",
    "    return uniq[index.argsort()]"
   ]
  },
  {
   "cell_type": "code",
   "execution_count": null,
   "metadata": {},
   "outputs": [],
   "source": [
    "# R_eff_tina\n",
    "r_eff_arr_tina = []\n",
    "for id_t_s, t_s in enumerate(t_s_arr):\n",
    "    try:\n",
    "        lower_id = 0\n",
    "        edges_inf = np.unique(np.array(np.squeeze(np.hstack([i for i in t_s])).tolist()), axis=0)\n",
    "        unique, counts = np.unique(edges_inf[:, 0], return_counts=True)\n",
    "        counter_dic = dict(zip(unique, counts))\n",
    "        sorted_infectors = Unique(np.hstack(np.array([day[0, :,0] for day in t_s])))\n",
    "        r_eff_tina_tmp = []\n",
    "        for i in range(max_len):\n",
    "            newly_recovered = np.diff(stats_arr[id_t_s]['is_recovered'])\n",
    "            newly_recovered = np.insert(newly_recovered, 0, 0)\n",
    "            today_recovered = newly_recovered[i]\n",
    "            upper_id = int(today_recovered + lower_id)\n",
    "            todays_recovered_infectors = sorted_infectors[lower_id:upper_id]\n",
    "            these_infected = np.sum(np.array([counter_dic[infec] for infec in todays_recovered_infectors]))\n",
    "            lower_id = upper_id\n",
    "            r_eff_tina_tmp.append(these_infected / len(todays_recovered_infectors))\n",
    "        r_eff_tina_tmp = np.nan_to_num(np.array(r_eff_tina_tmp))\n",
    "        r_eff_arr_tina.append(r_eff_tina_tmp)\n",
    "    except:\n",
    "        r_eff_arr_tina.append(np.zeros(max_len))\n",
    "r_eff_tina = np.average(r_eff_arr_tina, axis=0)"
   ]
  },
  {
   "cell_type": "code",
   "execution_count": null,
   "metadata": {},
   "outputs": [],
   "source": [
    "# Fetching representative result\n",
    "maxima_id = np.array([np.argmax(stats_arr[i]['is_infected']) for i in range(len(stats_arr))])\n",
    "average_max_id = np.argmax(stats['is_infected'])\n",
    "nearest_id = (np.abs(maxima_id - average_max_id)).argmin()\n",
    "run_id = nearest_id"
   ]
  },
  {
   "cell_type": "code",
   "execution_count": null,
   "metadata": {},
   "outputs": [],
   "source": [
    "# Plotting standards\n",
    "std_size = 15.\n",
    "fontsize = 15.\n",
    "lw=3.\n",
    "h_length=1.\n",
    "figure, (ax1, ax2, ax3) = plt.subplots(3, 1, figsize=(std_size, std_size * 6. / 8.), sharex=True)\n",
    "colors = ['#fdcc8a',\n",
    "          '#fc8d59',\n",
    "          '#d7301f']\n",
    "# ---------------------------------------------------------------------------------\n",
    "# Infections per time step\n",
    "time_steps = np.arange(max_len)\n",
    "\n",
    "ax1.plot(time_steps,\n",
    "         (config['population']['population size'] - stats_arr[run_id]['is_recovered'] -\n",
    "          stats_arr[run_id]['is_infected']) /\n",
    "         config['population']['population size'],\n",
    "         lw=lw, label='Susceptible', color='purple')\n",
    "ax1.plot(time_steps, stats_arr[run_id]['is_quarantined'] / config['population']['population size'],\n",
    "         lw=lw, label='Inf(quarant.)', color='orange')\n",
    "ax1.plot(time_steps, (stats_arr[run_id]['is_infectious']) / config['population']['population size'],\n",
    "         lw=lw, label='Inf(free)', color='b')\n",
    "ax1.plot(time_steps, (stats_arr[run_id]['is_latent']) / config['population']['population size'],\n",
    "         lw=lw, label='Exposed', color=\"g\")\n",
    "ax1.plot(time_steps, stats_arr[run_id]['is_recovered'] / config['population']['population size'],\n",
    "         lw=lw, label='Recovered', color='y')\n",
    "\n",
    "# ax1.set_xlim(0, 200)\n",
    "ax1.set_ylim(0., 1.)\n",
    "ax1.set_xscale('linear')\n",
    "ax1.set_yscale('linear')\n",
    "# ax1.set_xlabel(r't [Days]', fontsize=fontsize)\n",
    "ax1.set_ylabel(r'$Fraction$', fontsize=fontsize)\n",
    "ax1.tick_params(axis = 'both', which = 'major', labelsize=fontsize, direction='in')\n",
    "ax1.tick_params(axis = 'both', which = 'minor', labelsize=fontsize, direction='in')\n",
    "h, l = ax1.get_legend_handles_labels()\n",
    "lgd1 = ax1.legend(h,l, loc=9, bbox_to_anchor=(0.2, +1.1),\n",
    "                  ncol=1, fontsize=fontsize, handlelength=h_length,\n",
    "                  fancybox=True, frameon=True)\n",
    "ax1.add_artist(lgd1)\n",
    "ax1.grid(True)\n",
    "# ---------------------------------------------------------------------------------\n",
    "# The effective R value\n",
    "ax2.scatter(time_steps, r_eff_arr_steph[run_id], s=lw * 5, label=r'$R_{eff}^{Steph}$')\n",
    "ax2.scatter(time_steps, r_eff_arr_tina[run_id], s=lw * 5, label=r'$R_{eff}^{Tina}$')\n",
    "ax2.set_ylim(0., 10)\n",
    "ax2.set_xscale('linear')\n",
    "ax2.set_yscale('linear')\n",
    "# ax1.set_xlabel(r't [Days]', fontsize=fontsize)\n",
    "ax2.set_ylabel(r'$R_{eff}$', fontsize=fontsize)\n",
    "ax2.tick_params(axis = 'both', which = 'major', labelsize=fontsize, direction='in')\n",
    "ax2.tick_params(axis = 'both', which = 'minor', labelsize=fontsize, direction='in')\n",
    "h, l = ax2.get_legend_handles_labels()\n",
    "lgd1 = ax2.legend(h,l, loc=9, bbox_to_anchor=(0.9, +0.8),\n",
    "                  ncol=1, fontsize=fontsize, handlelength=h_length,\n",
    "                  fancybox=True, frameon=True)\n",
    "ax2.add_artist(lgd1)\n",
    "ax2.grid(True)\n",
    "# ---------------------------------------------------------------------------------\n",
    "# The number of infected people\n",
    "ax3.plot(time_steps, stats_arr[run_id]['is_infected'], lw=lw)\n",
    "ax3.set_xlim(0, 150)\n",
    "ax3.set_ylim(0., 7000)\n",
    "ax3.set_xscale('linear')\n",
    "ax3.set_yscale('linear')\n",
    "# ax1.set_xlabel(r't [Days]', fontsize=fontsize)\n",
    "ax3.set_ylabel(r'$Infected$', fontsize=fontsize)\n",
    "ax3.tick_params(axis = 'both', which = 'major', labelsize=fontsize, direction='in')\n",
    "ax3.tick_params(axis = 'both', which = 'minor', labelsize=fontsize, direction='in')\n",
    "ax3.grid(True)\n",
    "plt.show()"
   ]
  },
  {
   "cell_type": "code",
   "execution_count": 86,
   "metadata": {},
   "outputs": [],
   "source": [
    "figure.savefig(PICS + \"Contagion_Benchmark.png\",\n",
    "               bbox_inches='tight')"
   ]
  },
  {
   "cell_type": "code",
   "execution_count": 82,
   "metadata": {},
   "outputs": [
    {
     "data": {
      "image/png": "[encoded data removed]",
      "text/plain": [
       "<Figure size 720x540 with 1 Axes>"
      ]
     },
     "metadata": {
      "needs_background": "light"
     },
     "output_type": "display_data"
    }
   ],
   "source": [
    "# Plotting standards\n",
    "std_size = 10.\n",
    "fontsize = 15.\n",
    "lw=3.\n",
    "h_length=1.\n",
    "figure, (ax1) = plt.subplots(1, 1, figsize=(std_size, std_size * 6. / 8.), sharex=True)\n",
    "colors = ['#fdcc8a',\n",
    "          '#fc8d59',\n",
    "          '#d7301f']\n",
    "# ---------------------------------------------------------------------------------\n",
    "# Infections per time step\n",
    "ax1.scatter(time_steps[:-1],\n",
    "            stats_arr[run_id]['is_infected'][:-1] / np.diff(stats_arr[run_id]['is_infected']),\n",
    "            lw=lw, label='Doubling Time', color='purple')\n",
    "ax1.set_xlim(0, 40)\n",
    "ax1.set_ylim(0., 7.5)\n",
    "ax1.set_xscale('linear')\n",
    "ax1.set_yscale('linear')\n",
    "# ax1.set_xlabel(r't [Days]', fontsize=fontsize)\n",
    "ax1.set_ylabel(r'$Doubling Time$', fontsize=fontsize)\n",
    "ax1.tick_params(axis = 'both', which = 'major', labelsize=fontsize, direction='in')\n",
    "ax1.tick_params(axis = 'both', which = 'minor', labelsize=fontsize, direction='in')\n",
    "# h, l = ax1.get_legend_handles_labels()\n",
    "# lgd1 = ax1.legend(h,l, loc=9, bbox_to_anchor=(0.8, +1.1),\n",
    "#                   ncol=1, fontsize=fontsize, handlelength=h_length,\n",
    "#                   fancybox=True, frameon=True)\n",
    "# ax1.add_artist(lgd1)\n",
    "ax1.grid(True)\n",
    "plt.show()"
   ]
  },
  {
   "cell_type": "code",
   "execution_count": 87,
   "metadata": {},
   "outputs": [],
   "source": [
    "results = pd.DataFrame(\n",
    "    {\"susceptible\": config['population']['population size'] - stats_arr[run_id]['is_recovered'] -\n",
    "          stats_arr[run_id]['is_infected'],\n",
    "    \"infectious\": stats_arr[run_id]['is_infectious'],\n",
    "    \"exposed\": stats_arr[run_id]['is_latent'],\n",
    "    \"recovered\": stats_arr[run_id]['is_recovered']\n",
    "    })\n",
    "results.to_csv(\"results.csv\", index=False, sep=\";\")    \n",
    "        "
   ]
  },
  {
   "cell_type": "code",
   "execution_count": null,
   "metadata": {},
   "outputs": [],
   "source": [
    "np.savetxt(\"Result.csv\", )"
   ]
  },
  {
   "cell_type": "code",
   "execution_count": 57,
   "metadata": {},
   "outputs": [],
   "source": [
    "np.savetxt('Exposed.csv', stats_arr[run_id]['is_latent'], delimiter=\",\")\n",
    "np.savetxt('Susceptible.csv', config['population']['population size'] - stats_arr[run_id]['is_recovered'] -\n",
    "          stats_arr[run_id]['is_infected'], delimiter=\",\")\n",
    "np.savetxt('Infectious.csv', stats_arr[run_id]['is_infectious'], delimiter=\",\")\n",
    "np.savetxt('Recovered.csv', stats_arr[run_id]['is_recovered'], delimiter=\",\")"
   ]
  },
  {
   "cell_type": "code",
   "execution_count": null,
   "metadata": {},
   "outputs": [],
   "source": []
  }
 ],
 "metadata": {
  "kernelspec": {
   "display_name": "Python 3",
   "language": "python",
   "name": "python3"
  },
  "language_info": {
   "codemirror_mode": {
    "name": "ipython",
    "version": 3
   },
   "file_extension": ".py",
   "mimetype": "text/x-python",
   "name": "python",
   "nbconvert_exporter": "python",
   "pygments_lexer": "ipython3",
   "version": "3.8.1"
  }
 },
 "nbformat": 4,
 "nbformat_minor": 4
}
