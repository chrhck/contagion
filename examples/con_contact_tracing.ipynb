{
 "cells": [
  {
   "cell_type": "code",
   "execution_count": null,
   "metadata": {},
   "outputs": [],
   "source": [
    "\"\"\"\n",
    "Name: con_contact_tracing.ipynb\n",
    "Authors: Stephan Meighen-Berger\n",
    "Checks the efficiency of contact tracing\n",
    "\"\"\""
   ]
  },
  {
   "cell_type": "code",
   "execution_count": null,
   "metadata": {},
   "outputs": [],
   "source": [
    "# General imports\n",
    "import numpy as np\n",
    "import matplotlib.pyplot as plt\n",
    "import sys\n",
    "from scipy.signal import savgol_filter\n",
    "from tqdm import tqdm"
   ]
  },
  {
   "cell_type": "code",
   "execution_count": null,
   "metadata": {},
   "outputs": [],
   "source": [
    "# Latex text rendering\n",
    "from matplotlib import rc\n",
    "rc('font',**{'family':'sans-serif','sans-serif':['Helvetica']})\n",
    "rc('text', usetex=True)"
   ]
  },
  {
   "cell_type": "code",
   "execution_count": null,
   "metadata": {},
   "outputs": [],
   "source": [
    "# Adding path to module\n",
    "sys.path.append(\"../core/\")"
   ]
  },
  {
   "cell_type": "code",
   "execution_count": null,
   "metadata": {},
   "outputs": [],
   "source": [
    "# picture path\n",
    "PICS = '../../plots/contagion/test/'"
   ]
  },
  {
   "cell_type": "code",
   "execution_count": null,
   "metadata": {},
   "outputs": [],
   "source": [
    "# Module imports\n",
    "from contagion import CONTAGION\n",
    "from con_config import config"
   ]
  },
  {
   "cell_type": "code",
   "execution_count": null,
   "metadata": {},
   "outputs": [],
   "source": [
    "config['simulation length'] = 50\n",
    "config['population size'] = 1000"
   ]
  },
  {
   "cell_type": "code",
   "execution_count": null,
   "metadata": {},
   "outputs": [],
   "source": [
    "# Creating a fourth_day object\n",
    "infected=10\n",
    "mean_interactions_arr = 1\n",
    "tracking_fractions = [0.1, 0.2, 0.4, 0.6]\n",
    "results = []\n",
    "results_infected = []\n",
    "for tracked_fraction in tqdm(tracking_fractions):\n",
    "    config['measures'] = 'contact tracing'\n",
    "    config['tracked'] = tracked_fraction\n",
    "    contagion = CONTAGION(infected, config=config)\n",
    "    # Storing the solutions\n",
    "    contagion.sim()\n",
    "    results.append(contagion.mc_run.new_infections)\n",
    "    results_infected.append(contagion.mc_run.infections)"
   ]
  },
  {
   "cell_type": "code",
   "execution_count": null,
   "metadata": {},
   "outputs": [],
   "source": [
    "# Plotting standards\n",
    "std_size = 10.\n",
    "fontsize = 20.\n",
    "lw=3.\n",
    "h_length=1."
   ]
  },
  {
   "cell_type": "code",
   "execution_count": null,
   "metadata": {
    "keep_output": true
   },
   "outputs": [],
   "source": [
    "# Infections per time step\n",
    "figure, (ax1, ax2, ax3) = plt.subplots(3, 1 ,figsize=(std_size, std_size * 6. / 8.))\n",
    "colors = [\n",
    "    '#7b3294',\n",
    "    '#a1dab4',\n",
    "    '#41b6c4',\n",
    "    '#225ea8']\n",
    "high_x = 60\n",
    "#  New infections\n",
    "for i, tracked_fraction in enumerate(tracking_fractions):\n",
    "    ax1.plot(contagion.t, results[i], color=colors[i],\n",
    "            lw=lw, label='Tracked: %.1f Percent' %(tracked_fraction*100.))\n",
    "ax1.set_xlim(1e0, high_x)\n",
    "ax1.set_ylim(0., 500)\n",
    "ax1.set_xscale('linear')\n",
    "ax1.set_yscale('linear')\n",
    "# ax1.set_xlabel(r't [Days]', fontsize=fontsize)\n",
    "ax1.set_ylabel(r'New infections', fontsize=fontsize)\n",
    "ax1.tick_params(axis = 'both', which = 'major', labelsize=fontsize, direction='in')\n",
    "ax1.tick_params(axis = 'both', which = 'minor', labelsize=fontsize, direction='in')\n",
    "h, l = ax1.get_legend_handles_labels()\n",
    "lgd1 = ax1.legend(h,l, loc=9, bbox_to_anchor=(0.5, +1.6),\n",
    "                 ncol=2, fontsize=fontsize, handlelength=h_length,\n",
    "                 fancybox=True, frameon=False)\n",
    "ax1.add_artist(lgd1)\n",
    "ax1.grid(True)\n",
    "# Infection total\n",
    "for i, tracked_fraction in enumerate(tracking_fractions):\n",
    "    ax2.plot(contagion.t, results_infected[i], color=colors[i],\n",
    "            lw=lw)\n",
    "ax2.set_xlim(1e0, high_x)\n",
    "ax2.set_ylim(0., 1000)\n",
    "ax2.set_xscale('linear')\n",
    "ax2.set_yscale('linear')\n",
    "ax2.set_xlabel(r't [Days]', fontsize=fontsize)\n",
    "ax2.set_ylabel(r'Infected', fontsize=fontsize)\n",
    "ax2.tick_params(axis = 'both', which = 'major', labelsize=fontsize, direction='in')\n",
    "ax2.tick_params(axis = 'both', which = 'minor', labelsize=fontsize, direction='in')\n",
    "# Healthy\n",
    "for i, tracked_fraction in enumerate(tracking_fractions):\n",
    "    ax3.plot(contagion.t,\n",
    "             config['population size'] - np.cumsum(results[i]),\n",
    "             lw=lw, color=colors[i],)\n",
    "ax3.set_xlim(0., high_x)\n",
    "ax3.set_ylim(1e1, 1000)\n",
    "ax3.set_xscale('linear')\n",
    "ax3.set_yscale('log')\n",
    "ax3.set_xlabel(r't [Days]', fontsize=fontsize)\n",
    "ax3.set_ylabel(r'Susceptible', fontsize=fontsize)\n",
    "ax3.tick_params(axis = 'both', which = 'major', labelsize=fontsize, direction='in')\n",
    "ax3.tick_params(axis = 'both', which = 'minor', labelsize=fontsize, direction='in')\n",
    "ax3.grid(True)\n",
    "plt.show()"
   ]
  },
  {
   "cell_type": "code",
   "execution_count": null,
   "metadata": {},
   "outputs": [],
   "source": [
    "figure.savefig(PICS + \"Contagion_Contact_Tracing_2.png\",\n",
    "               bbox_inches='tight')"
   ]
  },
  {
   "cell_type": "code",
   "execution_count": null,
   "metadata": {},
   "outputs": [],
   "source": [
    "contagion.R"
   ]
  },
  {
   "cell_type": "code",
   "execution_count": null,
   "metadata": {},
   "outputs": [],
   "source": [
    "a = [2,3,4]\n",
    "print(2 in a)"
   ]
  },
  {
   "cell_type": "code",
   "execution_count": null,
   "metadata": {},
   "outputs": [],
   "source": []
  },
  {
   "cell_type": "code",
   "execution_count": null,
   "metadata": {},
   "outputs": [],
   "source": []
  }
 ],
 "metadata": {
  "kernelspec": {
   "display_name": "Python 3",
   "language": "python",
   "name": "python3"
  },
  "language_info": {
   "codemirror_mode": {
    "name": "ipython",
    "version": 3
   },
   "file_extension": ".py",
   "mimetype": "text/x-python",
   "name": "python",
   "nbconvert_exporter": "python",
   "pygments_lexer": "ipython3",
   "version": "3.7.6"
  }
 },
 "nbformat": 4,
 "nbformat_minor": 2
}
