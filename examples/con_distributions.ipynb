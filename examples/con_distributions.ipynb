{
 "cells": [
  {
   "cell_type": "code",
   "execution_count": 1,
   "metadata": {},
   "outputs": [],
   "source": [
    "\"\"\"\n",
    "Name: con_distributions.ipynb\n",
    "Authors: Stephan Meighen-Berger\n",
    "Plots and stores the standard distributions\n",
    "\"\"\"\n",
    "%load_ext autoreload\n",
    "%autoreload 2"
   ]
  },
  {
   "cell_type": "code",
   "execution_count": 2,
   "metadata": {},
   "outputs": [],
   "source": [
    " # General imports\n",
    "import numpy as np\n",
    "import matplotlib.pyplot as plt\n",
    "import sys\n",
    "import pandas as pd\n",
    "import csv\n",
    "from scipy.stats import gamma"
   ]
  },
  {
   "cell_type": "code",
   "execution_count": 3,
   "metadata": {},
   "outputs": [],
   "source": [
    "# Adding path to module\n",
    "sys.path.append(\"../\")"
   ]
  },
  {
   "cell_type": "code",
   "execution_count": 4,
   "metadata": {},
   "outputs": [],
   "source": [
    "# picture path\n",
    "PICS = '../pics/'"
   ]
  },
  {
   "cell_type": "code",
   "execution_count": 5,
   "metadata": {},
   "outputs": [],
   "source": [
    "# Module imports\n",
    "from contagion import Contagion, config"
   ]
  },
  {
   "cell_type": "code",
   "execution_count": 6,
   "metadata": {},
   "outputs": [],
   "source": [
    "# Options\n",
    "# General\n",
    "config['general']['trace spread'] = True\n",
    "# Population\n",
    "config['population']['population size'] = 100\n",
    "config['population']['social circle pdf'][\"mean\"] = 40\n",
    "config['population']['social circle interactions pdf'][\"mean\"] = 18\n",
    "config[\"population\"]['population class'] = 'HomogeneousPopulation'\n",
    "# HomogeneousPopulation AccuratePopulation\n",
    "# Infection\n",
    "config['infection']['infected'] = 1\n",
    "config['infection']['infection probability pdf']['mean'] = 3.\n",
    "config['infection']['infection probability pdf']['sd'] = 2.42\n",
    "config['infection']['infection probability pdf']['max_val'] = 0.15\n",
    "config['infection'][\"latency duration pdf\"]['class'] = \"Gamma_Benchmark\"\n",
    "config['infection'][\"latency duration pdf\"]['shape'] = 3.93\n",
    "config['infection'][\"latency duration pdf\"]['loc'] = -4.\n",
    "config['infection'][\"latency duration pdf\"]['scale'] = 2.154\n",
    "config['infection'][\"incubation duration pdf\"]['mean'] = 3.0 # 7.46522\n",
    "config['infection'][\"incubation duration pdf\"]['sd'] = 0.01 # 4.270138625384426\n",
    "config['infection'][\"infectious duration pdf\"]['mean'] = 2.\n",
    "config['infection'][\"infectious duration pdf\"]['sd'] = 0.2\n",
    "config['infection'][\"hospitalization probability pdf\"]['mean'] = 0.5\n",
    "config['infection'][\"hospitalization probability pdf\"]['sd'] = 0.01"
   ]
  },
  {
   "cell_type": "code",
   "execution_count": 7,
   "metadata": {},
   "outputs": [],
   "source": [
    "# Importing data\n",
    "infec_prob = []\n",
    "with open(\"../data/benchmarks/Infec_Prob.txt\", \"r\") as csvfile:\n",
    "    csvreader = csv.reader(csvfile)\n",
    "    for row in csvreader:\n",
    "        infec_prob.append([float(row[0]), float(row[1])])\n",
    "infec_prob = np.array(infec_prob)\n",
    "incuba = []\n",
    "with open(\"../data/benchmarks/Latent.txt\", \"r\") as csvfile:\n",
    "    csvreader = csv.reader(csvfile)\n",
    "    for row in csvreader:\n",
    "        incuba.append([float(row[0]), float(row[1])])\n",
    "incuba = np.array(incuba)"
   ]
  },
  {
   "cell_type": "code",
   "execution_count": 8,
   "metadata": {},
   "outputs": [],
   "source": [
    "# Creating a contagion object\n",
    "contagion = Contagion()"
   ]
  },
  {
   "cell_type": "code",
   "execution_count": 9,
   "metadata": {},
   "outputs": [],
   "source": [
    "# Infection probability\n",
    "infect_prob = contagion.infection.pdf_infection_prob\n",
    "# The latent distribution\n",
    "latent_distr = contagion.infection.latent_duration\n",
    "# The incubation distribution\n",
    "incuba_distr = contagion.infection.incubation_duration\n",
    "# The infectious distribution\n",
    "infect_distr = contagion.infection.infectious_duration"
   ]
  },
  {
   "cell_type": "code",
   "execution_count": 10,
   "metadata": {},
   "outputs": [],
   "source": [
    "benchi = np.array([0.0418147,\n",
    "0.0855887,\n",
    "0.104606,\n",
    "0.114837,\n",
    "0.108092,\n",
    "0.103005,\n",
    "0.0927453,\n",
    "0.0758805,\n",
    "0.0635615,\n",
    "0.0543948,\n",
    "0.0414095,\n",
    "0.030878,\n",
    "0.0225029,\n",
    "0.0176491,\n",
    "0.0129959,\n",
    "0.00811712,\n",
    "0.00729323,\n",
    "0.00482511,\n",
    "0.00355347,\n",
    "0.00224957,\n",
    "0.000773728,\n",
    "0.00120003,\n",
    "0.000601788,\n",
    "0.000257909,\n",
    "0.000429849,\n",
    "8.60E-05,\n",
    "8.60E-05,\n",
    "0.000171939,\n",
    "0,\n",
    "0.000394041,\n",
    "0])"
   ]
  },
  {
   "cell_type": "code",
   "execution_count": 14,
   "metadata": {},
   "outputs": [
    {
     "data": {
      "image/png": "[encoded data removed]",
      "text/plain": [
       "<Figure size 720x540 with 1 Axes>"
      ]
     },
     "metadata": {
      "needs_background": "light"
     },
     "output_type": "display_data"
    }
   ],
   "source": [
    "# Plotting standards\n",
    "std_size = 10.\n",
    "fontsize = 15.\n",
    "lw=3.\n",
    "h_length=1.\n",
    "figure, (ax1) = plt.subplots(1, 1, figsize=(std_size, std_size * 6. / 8.), sharex=True)\n",
    "colors = ['#fdcc8a',\n",
    "          '#fc8d59',\n",
    "          '#d7301f']\n",
    "# ---------------------------------------------------------------------------------\n",
    "# The range\n",
    "x = np.linspace(0., 100., 1000)\n",
    "# ---------------------------------------------------------------------------------\n",
    "# Infection probability\n",
    "# ax1.plot(x, infect_prob.pdf(x),\n",
    "#          lw=lw, label='Infection Prob.')\n",
    "# ax1.scatter(2. + infec_prob[:, 0], infec_prob[:, 1],\n",
    "#             lw=lw, label='Benchmark Infec Prob.')\n",
    "# Latent\n",
    "ax1.plot(x, latent_distr.pdf(x),\n",
    "         lw=lw, label='Latent')\n",
    "# Incubation period\n",
    "# ax1.plot(x, incuba_distr.pdf(x),\n",
    "#          lw=lw, label='Incubation')\n",
    "# ax1.scatter(incuba[:, 0], incuba[:, 1],\n",
    "#             lw=lw, label='Benchmark Incubation')\n",
    "# REsults infectiouness * probabilty to still be infectious\n",
    "# ax1.scatter(range(len(benchi)), benchi, lw=lw, label='Benchi')\n",
    "# ax1.plot(x, (infect_prob.pdf(x) * incuba_distr.pdf(x)) / max((infect_prob.pdf(x) * incuba_distr.pdf(x))) * max(benchi))\n",
    "ax1.set_xlim(0, 30)\n",
    "ax1.set_ylim(0., 0.5)\n",
    "ax1.set_xscale('linear')\n",
    "ax1.set_yscale('linear')\n",
    "ax1.set_xlabel(r'x', fontsize=fontsize)\n",
    "ax1.set_ylabel(r'$PDF$', fontsize=fontsize)\n",
    "ax1.tick_params(axis = 'both', which = 'major', labelsize=fontsize, direction='in')\n",
    "ax1.tick_params(axis = 'both', which = 'minor', labelsize=fontsize, direction='in')\n",
    "h, l = ax1.get_legend_handles_labels()\n",
    "lgd1 = ax1.legend(h,l, loc=9, bbox_to_anchor=(0.8, +0.6),\n",
    "                  ncol=1, fontsize=fontsize, handlelength=h_length,\n",
    "                  fancybox=True, frameon=True)\n",
    "ax1.add_artist(lgd1)\n",
    "ax1.grid(True)\n",
    "plt.show()"
   ]
  },
  {
   "cell_type": "code",
   "execution_count": 15,
   "metadata": {},
   "outputs": [],
   "source": [
    "figure.savefig(PICS + \"Contagion_Distributions.png\",\n",
    "               bbox_inches='tight')"
   ]
  },
  {
   "cell_type": "code",
   "execution_count": null,
   "metadata": {},
   "outputs": [],
   "source": []
  }
 ],
 "metadata": {
  "kernelspec": {
   "display_name": "Python 3",
   "language": "python",
   "name": "python3"
  },
  "language_info": {
   "codemirror_mode": {
    "name": "ipython",
    "version": 3
   },
   "file_extension": ".py",
   "mimetype": "text/x-python",
   "name": "python",
   "nbconvert_exporter": "python",
   "pygments_lexer": "ipython3",
   "version": "3.7.7"
  }
 },
 "nbformat": 4,
 "nbformat_minor": 2
}
