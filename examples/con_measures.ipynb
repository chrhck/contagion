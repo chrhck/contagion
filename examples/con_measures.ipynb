{
 "cells": [
  {
   "cell_type": "code",
   "execution_count": 1,
   "metadata": {},
   "outputs": [],
   "source": [
    "\"\"\"\n",
    "Name: con_measures.ipynb\n",
    "Authors: Stephan Meighen-Berger, Andrea Turcati\n",
    "Checks the effect different measures have\n",
    "\"\"\"\n",
    "%load_ext autoreload\n",
    "%autoreload 2"
   ]
  },
  {
   "cell_type": "code",
   "execution_count": 2,
   "metadata": {},
   "outputs": [],
   "source": [
    " # General imports\n",
    "import numpy as np\n",
    "import matplotlib.pyplot as plt\n",
    "import sys\n",
    "import pandas as pd\n",
    "from tqdm import tqdm"
   ]
  },
  {
   "cell_type": "code",
   "execution_count": 3,
   "metadata": {},
   "outputs": [],
   "source": [
    "# Adding path to module\n",
    "sys.path.append(\"../\")"
   ]
  },
  {
   "cell_type": "code",
   "execution_count": 4,
   "metadata": {},
   "outputs": [],
   "source": [
    "# picture path\n",
    "PICS = '../pics/'"
   ]
  },
  {
   "cell_type": "code",
   "execution_count": 5,
   "metadata": {},
   "outputs": [],
   "source": [
    "def Unique(array, orderby='first'):\n",
    "    array = np.asarray(array)\n",
    "    order = array.argsort(kind='mergesort')\n",
    "    array = array[order]\n",
    "    diff = array[1:] != array[:-1]\n",
    "    if orderby == 'first':\n",
    "        diff = np.concatenate([[True], diff])\n",
    "    elif orderby == 'last':\n",
    "        diff = np.concatenate([diff, [True]])\n",
    "    else:\n",
    "        raise ValueError\n",
    "    uniq = array[diff]\n",
    "    index = order[diff]\n",
    "    return uniq[index.argsort()]"
   ]
  },
  {
   "cell_type": "code",
   "execution_count": 6,
   "metadata": {},
   "outputs": [],
   "source": [
    "# Module imports\n",
    "from contagion import Contagion, config\n",
    "# Options\n",
    "# General\n",
    "config['general']['trace spread'] = True\n",
    "# Population\n",
    "config['population']['population size'] = 9999\n",
    "config['population']['social circle pdf'][\"mean\"] = 40\n",
    "config['population']['social circle interactions pdf'][\"mean\"] = 20\n",
    "config[\"population\"]['population class'] = 'HomogeneousPopulation'\n",
    "# HomogeneousPopulation AccuratePopulation\n",
    "# Infection\n",
    "config['infection']['infected'] = 1\n",
    "config['infection']['infection probability pdf']['mean'] = 4.\n",
    "config['infection']['infection probability pdf']['sd'] = 2.42\n",
    "config['infection']['infection probability pdf']['max_val'] = 0.15\n",
    "config['infection'][\"latency duration pdf\"]['mean'] = 2.\n",
    "config['infection'][\"latency duration pdf\"]['sd'] = 1.0\n",
    "config['infection'][\"incubation duration pdf\"]['mean'] = 3.\n",
    "config['infection'][\"incubation duration pdf\"]['sd'] = 0.01\n",
    "config['infection'][\"infectious duration pdf\"]['mean'] = 2.\n",
    "config['infection'][\"infectious duration pdf\"]['sd'] = 0.2\n",
    "config['infection'][\"hospitalization probability pdf\"]['mean'] = 0.5\n",
    "config['infection'][\"hospitalization probability pdf\"]['sd'] = 0.01\n",
    "# Measures\n",
    "config['measures']['type'] = 'contact_tracing'\n",
    "config['measures'][\"backtrack length\"] = 14."
   ]
  },
  {
   "cell_type": "code",
   "execution_count": null,
   "metadata": {},
   "outputs": [
    {
     "name": "stderr",
     "output_type": "stream",
     "text": [
      "100%|██████████████████████████████████████████████████████████████████████████████████| 60/60 [04:03<00:00,  4.37s/it]\n",
      "C:\\Users\\steph\\Anaconda3\\lib\\site-packages\\ipykernel_launcher.py:42: RuntimeWarning: invalid value encountered in double_scalars\n",
      "C:\\Users\\steph\\Anaconda3\\lib\\site-packages\\numpy\\core\\fromnumeric.py:61: FutureWarning: \n",
      "The current behaviour of 'Series.argmax' is deprecated, use 'idxmax'\n",
      "instead.\n",
      "The behavior of 'argmax' will be corrected to return the positional\n",
      "maximum in the future. For now, use 'series.values.argmax' or\n",
      "'np.argmax(np.array(values))' to get the position of the maximum\n",
      "row.\n",
      "  return bound(*args, **kwds)\n",
      "100%|██████████████████████████████████████████████████████████████████████████████████| 60/60 [32:42<00:00, 40.22s/it]\n",
      "  2%|█▍                                                                                 | 1/60 [00:01<01:22,  1.40s/it]"
     ]
    }
   ],
   "source": [
    "# Creating a contagion object\n",
    "fractions = [0., 0.2, 0.5, 0.7]\n",
    "results = []\n",
    "results_r_eff = []\n",
    "number_of_runs = 60\n",
    "run_ids = []\n",
    "for fraction in fractions:\n",
    "    stats_arr = []\n",
    "    t_s_arr = []\n",
    "    for seed in tqdm(range(number_of_runs)):\n",
    "        config['general'][\"random state seed\"] = seed\n",
    "        config[\"measures\"][\"tracked fraction\"] = fraction\n",
    "        contagion = Contagion()\n",
    "        contagion.sim()\n",
    "        stats_arr.append(pd.DataFrame(contagion.statistics))\n",
    "        t_s_arr.append(contagion.trace_infection)\n",
    "    # Averaging\n",
    "    stats = {}\n",
    "    for key in stats_arr[0].keys():\n",
    "        stats[key] = np.average(np.array([\n",
    "            stats_arr[i][key]\n",
    "            for i in range(len(stats_arr))\n",
    "        ]), axis=0)\n",
    "    # R_eff_tina\n",
    "    r_eff_arr_tina = []\n",
    "    for id_t_s, t_s in enumerate(t_s_arr):\n",
    "        try:\n",
    "            lower_id = 0\n",
    "            edges_inf = np.unique(np.array(np.squeeze(np.hstack([i for i in t_s])).tolist()), axis=0)\n",
    "            unique, counts = np.unique(edges_inf[:, 0], return_counts=True)\n",
    "            counter_dic = dict(zip(unique, counts / 2))\n",
    "            sorted_infectors = Unique(np.hstack(np.array([day[0, :,0] for day in t_s])))\n",
    "            r_eff_tina_tmp = []\n",
    "            for i in range(config['general'][\"simulation length\"]):\n",
    "                newly_recovered = np.diff(stats_arr[id_t_s]['is_recovered'])\n",
    "                newly_recovered = np.insert(newly_recovered, 0, 0)\n",
    "                today_recovered = newly_recovered[i]\n",
    "                upper_id = int(today_recovered + lower_id)\n",
    "                todays_recovered_infectors = sorted_infectors[lower_id:upper_id]\n",
    "                these_infected = np.sum(np.array([counter_dic[infec] for infec in todays_recovered_infectors]))\n",
    "                lower_id = upper_id\n",
    "                r_eff_tina_tmp.append(these_infected / len(todays_recovered_infectors))\n",
    "            r_eff_tina_tmp = np.nan_to_num(np.array(r_eff_tina_tmp))\n",
    "            r_eff_arr_tina.append(r_eff_tina_tmp)\n",
    "        except:\n",
    "            r_eff_arr_tina.append(range(config['general'][\"simulation length\"]))\n",
    "    # Fetching representative result\n",
    "    maxima_id = np.array([np.argmax(stats_arr[i]['is_infected']) for i in range(len(stats_arr))])\n",
    "    average_max_id = np.argmax(stats['is_infected'])\n",
    "    nearest_id = (np.abs(maxima_id - average_max_id)).argmin()\n",
    "    run_id = nearest_id\n",
    "    results.append(stats_arr[run_id]['is_infected'])\n",
    "    results_r_eff.append(r_eff_arr_tina[run_id])"
   ]
  },
  {
   "cell_type": "code",
   "execution_count": null,
   "metadata": {},
   "outputs": [],
   "source": [
    "# Plotting standards\n",
    "std_size = 10.\n",
    "fontsize = 15.\n",
    "lw=3.\n",
    "h_length=1."
   ]
  },
  {
   "cell_type": "code",
   "execution_count": null,
   "metadata": {},
   "outputs": [],
   "source": [
    " # Infections per time step\n",
    "figure, (ax1, ax2) = plt.subplots(2, 1, figsize=(std_size, std_size * 6. / 8.), sharex=True)\n",
    "colors = ['#fdcc8a',\n",
    "          '#fc8d59',\n",
    "          '#d7301f']\n",
    "for id_frac, fraction in enumerate(fractions):\n",
    "    ax1.plot(contagion.t, results[id_frac],\n",
    "             lw=lw, label='%.1f' % fraction)\n",
    "ax1.set_ylim(1., 1e4)\n",
    "ax1.set_xscale('linear')\n",
    "ax1.set_yscale('log')\n",
    "ax1.set_ylabel(r'Infected', fontsize=fontsize)\n",
    "ax1.tick_params(axis = 'both', which = 'major', labelsize=fontsize, direction='in')\n",
    "ax1.tick_params(axis = 'both', which = 'minor', labelsize=fontsize, direction='in')\n",
    "h, l = ax1.get_legend_handles_labels()\n",
    "lgd1 = ax1.legend(h,l, loc=9, bbox_to_anchor=(0.5, +1.2),\n",
    "                  ncol=4, fontsize=fontsize, handlelength=h_length,\n",
    "                  fancybox=True, frameon=False)\n",
    "ax1.add_artist(lgd1)\n",
    "ax1.grid(True)\n",
    "for id_frac, fraction in enumerate(fractions):\n",
    "    ax2.plot(contagion.t, results_r_eff[id_frac],\n",
    "             lw=lw/2, label='%.1f' % fraction)\n",
    "ax2.set_xlim(0, 200)\n",
    "ax2.set_ylim(0., 4.)\n",
    "ax2.set_xscale('linear')\n",
    "ax2.set_yscale('linear')\n",
    "ax2.set_xlabel(r't [Days]', fontsize=fontsize)\n",
    "ax2.set_ylabel(r'$R_{eff}$', fontsize=fontsize)\n",
    "ax2.tick_params(axis = 'both', which = 'major', labelsize=fontsize, direction='in')\n",
    "ax2.tick_params(axis = 'both', which = 'minor', labelsize=fontsize, direction='in')\n",
    "ax2.grid(True)\n",
    "plt.show()"
   ]
  },
  {
   "cell_type": "code",
   "execution_count": null,
   "metadata": {},
   "outputs": [],
   "source": [
    "figure.savefig(PICS + \"Contagion_Measures.png\",\n",
    "               bbox_inches='tight')"
   ]
  },
  {
   "cell_type": "code",
   "execution_count": null,
   "metadata": {},
   "outputs": [],
   "source": []
  }
 ],
 "metadata": {
  "kernelspec": {
   "display_name": "Python 3",
   "language": "python",
   "name": "python3"
  },
  "language_info": {
   "codemirror_mode": {
    "name": "ipython",
    "version": 3
   },
   "file_extension": ".py",
   "mimetype": "text/x-python",
   "name": "python",
   "nbconvert_exporter": "python",
   "pygments_lexer": "ipython3",
   "version": "3.7.7"
  }
 },
 "nbformat": 4,
 "nbformat_minor": 4
}
