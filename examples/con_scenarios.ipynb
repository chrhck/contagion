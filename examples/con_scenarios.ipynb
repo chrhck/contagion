{
 "cells": [
  {
   "cell_type": "code",
   "execution_count": 2,
   "metadata": {},
   "outputs": [],
   "source": [
    "\"\"\"\n",
    "Name: con_example.ipynb\n",
    "Authors: Christian Haack, Stephan Meighen-Berger\n",
    "Example of the realistic simulations that can be done\n",
    "\"\"\"\n",
    "%load_ext autoreload\n",
    "%autoreload 2"
   ]
  },
  {
   "cell_type": "code",
   "execution_count": 3,
   "metadata": {},
   "outputs": [],
   "source": [
    " # General imports\n",
    "import numpy as np\n",
    "import matplotlib.pyplot as plt\n",
    "import sys\n",
    "import pandas as pd"
   ]
  },
  {
   "cell_type": "code",
   "execution_count": 4,
   "metadata": {},
   "outputs": [],
   "source": [
    "# Adding path to module\n",
    "sys.path.append(\"../\")"
   ]
  },
  {
   "cell_type": "code",
   "execution_count": 5,
   "metadata": {},
   "outputs": [],
   "source": [
    "# picture path\n",
    "PICS = '../pics/'"
   ]
  },
  {
   "cell_type": "code",
   "execution_count": 6,
   "metadata": {},
   "outputs": [],
   "source": [
    "# Module imports\n",
    "from contagion import Contagion, config\n",
    "from contagion.config import _baseconfig"
   ]
  },
  {
   "cell_type": "code",
   "execution_count": 7,
   "metadata": {},
   "outputs": [],
   "source": [
    "my_config = dict(_baseconfig)\n",
    "my_config[\"population\"][\"population size\"] = 100000\n",
    "my_config[\"population\"][\"population class\"] = \"HomogeneousPopulation\"\n",
    "my_config[\"population\"][\"population storage\"] = \"../populations/{}_{}.pkl\".format(\n",
    "    my_config[\"population\"][\"population class\"],\n",
    "    my_config[\"population\"][\"population size\"])\n",
    "my_config[\"population\"][\"social circle interactions pdf\"][\"mean\"] = 20\n",
    "my_config[\"population\"][\"social circle interactions pdf\"][\"sd\"] = 15\n",
    "my_config[\"population\"][\"social circle pdf\"][\"mean\"] = 40\n",
    "my_config[\"population\"][\"social circle pdf\"][\"sd\"] = 20\n",
    "my_config[\"population\"][\"re-use population\"] = False\n",
    "my_config[\"population\"][\"store population\"] = True\n",
    "my_config[\"population\"][\"random interactions pdf\"][\"mean\"] = 10\n",
    "my_config[\"population\"][\"random interactions pdf\"][\"sd\"] = 5\n",
    "my_config[\"population\"][\"random interactions intensity pdf\"][\"mean\"] = 0.05\n",
    "my_config[\"population\"][\"random interactions intensity pdf\"][\"sd\"] = 2\n",
    "my_config[\"scenario\"][\"sim_length\"] = 150\n",
    "my_config[\"infection\"][\"infected\"] = 1\n",
    "my_config['infection']['infection probability pdf']['mean'] = 2.\n",
    "my_config['infection']['infection probability pdf']['sd'] = 1.42\n",
    "my_config['infection']['infection probability pdf']['max_val'] = 0.15\n",
    "contagion = Contagion(my_config)\n"
   ]
  },
  {
   "cell_type": "code",
   "execution_count": 8,
   "metadata": {},
   "outputs": [],
   "source": [
    "my_config[\"population\"][\"re-use population\"] = True"
   ]
  },
  {
   "cell_type": "code",
   "execution_count": 9,
   "metadata": {},
   "outputs": [],
   "source": [
    "results = []\n",
    "t_durs = [None, 14, 28, 42, 56, 63]\n",
    "t_start = 14\n",
    "for t_dur in t_durs:\n",
    "    if t_dur is None:\n",
    "        my_config[\"scenario\"][\"class\"] = \"StandardScenario\"\n",
    "    else:    \n",
    "        my_config[\"scenario\"][\"class\"] = \"SocialDistancing\"\n",
    "        my_config[\"scenario\"][\"t_start\"] = t_start\n",
    "        my_config[\"scenario\"][\"t_stop\"] = t_start + t_dur\n",
    "        my_config[\"scenario\"][\"contact_rate_scaling\"] = 0.05\n",
    "        \n",
    "        \n",
    "    contagion = Contagion(my_config)\n",
    "    contagion.sim()\n",
    "    stats = pd.DataFrame(contagion.statistics)\n",
    "    results.append(stats)\n",
    "        \n",
    "        "
   ]
  },
  {
   "cell_type": "code",
   "execution_count": 10,
   "metadata": {},
   "outputs": [],
   "source": [
    "# Plotting standards\n",
    "std_size = 10.\n",
    "fontsize = 15.\n",
    "lw=3.\n",
    "h_length=1."
   ]
  },
  {
   "cell_type": "code",
   "execution_count": 11,
   "metadata": {},
   "outputs": [
    {
     "data": {
      "image/png": "[encoded data removed]",
      "text/plain": [
       "<Figure size 1080x504 with 6 Axes>"
      ]
     },
     "metadata": {
      "needs_background": "light"
     },
     "output_type": "display_data"
    }
   ],
   "source": [
    "fig, axs = plt.subplots(2, 3, figsize=(15, 7))\n",
    "for ts, res, ax in zip(t_durs, results, axs.ravel()):\n",
    "     # Infections per time step\n",
    "\n",
    "    if ts is not None:\n",
    "        ax.axvline(t_start, ls=\"--\", lw=2, color=\"k\")\n",
    "        ax.axvline(ts+t_start, ls=\"--\", lw=2, color=\"k\")\n",
    "    ax.plot(contagion.t, res['is_latent'],\n",
    "            lw=lw, label='Latent', color=\"lightblue\")\n",
    "    ax.plot(contagion.t, res['is_infected'],\n",
    "            lw=lw, label='Infected', color=\"k\")\n",
    "    ax.plot(contagion.t, res['is_dead'],\n",
    "            lw=lw, label='Total Deaths', color=\"m\")\n",
    "    ax.plot(contagion.t, res['is_removed'],\n",
    "            lw=lw, label='Removed', color='g')\n",
    "    ax.plot(contagion.t, res['is_recovered'],\n",
    "            lw=lw, label='Recovered', color='y')\n",
    "    ax.plot(contagion.t, res['is_hospitalized'],\n",
    "            lw=lw, label='Hospitalized', color='lightgreen')\n",
    "   \n",
    "    ax.set_xlim(0, 150)\n",
    "    ax.set_ylim(1., config[\"population\"]['population size'] * 1.01)\n",
    "    ax.set_xscale('linear')\n",
    "    ax.set_yscale('log')\n",
    "    ax.set_xlabel(r't [Days]', fontsize=fontsize)\n",
    "    ax.set_ylabel(r'Count', fontsize=fontsize)\n",
    "    ax.tick_params(axis = 'both', which = 'major', labelsize=fontsize, direction='in')\n",
    "    ax.tick_params(axis = 'both', which = 'minor', labelsize=fontsize, direction='in')\n",
    "    h, l = ax.get_legend_handles_labels()\n",
    "    if ts is None:\n",
    "        ax.set_title(\"No distancing\")\n",
    "    else:\n",
    "        ax.set_title(\"$t_1 =\"+str(t_start)+\", t_2=\"+str(t_start+ts)+\"$\")\n",
    "plt.subplots_adjust(hspace=0.4)  \n",
    "plt.figlegend(h, l, ncol=5, loc=\"upper center\")\n",
    "\n",
    "plot_name = \"Contagion_SocialDistancing_{}.png\".format(my_config[\"population\"][\"population class\"])\n",
    "\n",
    "plt.savefig(PICS + plot_name, bbox_inches='tight')"
   ]
  },
  {
   "cell_type": "code",
   "execution_count": 30,
   "metadata": {},
   "outputs": [],
   "source": [
    "# Creating a contagion object\n"
   ]
  },
  {
   "cell_type": "code",
   "execution_count": null,
   "metadata": {},
   "outputs": [],
   "source": []
  },
  {
   "cell_type": "code",
   "execution_count": 40,
   "metadata": {},
   "outputs": [
    {
     "data": {
      "image/png": "[encoded data removed]",
      "text/plain": [
       "<Figure size 720x540 with 1 Axes>"
      ]
     },
     "metadata": {
      "needs_background": "light"
     },
     "output_type": "display_data"
    }
   ],
   "source": [
    " # Infections per time step\n",
    "figure, ax = plt.subplots(figsize=(std_size, std_size * 6. / 8.))\n",
    "\n",
    "ax.plot(contagion.t, stats['is_infected'],\n",
    "        lw=lw, label='Infected', color=\"k\")\n",
    "ax.plot(contagion.t, stats['is_dead'],\n",
    "        lw=lw, label='Total Deaths', color=\"m\")\n",
    "ax.plot(contagion.t, stats['is_removed'],\n",
    "        lw=lw, label='Removed', color='g')\n",
    "ax.plot(contagion.t, stats['is_recovered'],\n",
    "        lw=lw, label='Recovered', color='y')\n",
    "ax.plot(contagion.t, stats['is_hospitalized'],\n",
    "        lw=lw, label='Hospitalized', color='lightgreen')\n",
    "\n",
    "ax.set_xlim(0, 200)\n",
    "ax.set_ylim(0., config[\"population\"]['population size'] * 1.01)\n",
    "ax.set_xscale('linear')\n",
    "ax.set_yscale('linear')\n",
    "ax.set_xlabel(r't [Days]', fontsize=fontsize)\n",
    "ax.set_ylabel(r'Count', fontsize=fontsize)\n",
    "ax.tick_params(axis = 'both', which = 'major', labelsize=fontsize, direction='in')\n",
    "ax.tick_params(axis = 'both', which = 'minor', labelsize=fontsize, direction='in')\n",
    "h, l = ax.get_legend_handles_labels()\n",
    "lgd1 = ax.legend(h,l, loc=9, bbox_to_anchor=(0.5, +1.2),\n",
    "                 ncol=4, fontsize=fontsize, handlelength=h_length,\n",
    "                 fancybox=True, frameon=False)\n",
    "ax.add_artist(lgd1)\n",
    "plt.grid(True)\n",
    "plt.show()"
   ]
  },
  {
   "cell_type": "code",
   "execution_count": null,
   "metadata": {},
   "outputs": [],
   "source": [
    " # Infections per time step\n",
    "figure, ax = plt.subplots(figsize=(std_size, std_size * 6. / 8.))\n",
    "colors = ['#fdcc8a',\n",
    "          '#fc8d59',\n",
    "          '#d7301f']\n",
    "ax.plot(contagion.t, stats['is_infectious'],\n",
    "        lw=lw, label='Infectious', color='r')\n",
    "ax.plot(contagion.t, stats['can_infect'],\n",
    "        lw=lw, label='Can infect', color='lightgrey')\n",
    "ax.plot(contagion.t, stats['is_latent'],\n",
    "        lw=lw, label='Latent', color='lightblue')\n",
    "ax.plot(contagion.t, stats['is_incubation'],\n",
    "        lw=lw, label='Incubation', color='b')\n",
    "ax.plot(contagion.t, stats['is_infected'],\n",
    "        lw=lw, label='Infected', color=\"k\")\n",
    "ax.plot(contagion.t, stats['is_dead'],\n",
    "        lw=lw, label='Total Deaths', color=\"m\")\n",
    "ax.plot(contagion.t, stats['is_removed'],\n",
    "        lw=lw, label='Removed', color='g')\n",
    "ax.plot(contagion.t, stats['is_recovered'],\n",
    "        lw=lw, label='Recovered', color='y')\n",
    "ax.plot(contagion.t, stats['is_hospitalized'],\n",
    "        lw=lw, label='Hospitalized', color='lightgreen')\n",
    "ax.plot(contagion.t, stats['is_symptomatic'],\n",
    "        lw=lw, label='Symptomatic', color='lightcoral')\n",
    "ax.set_xlim(0, 200)\n",
    "ax.set_ylim(0., config[\"population\"]['population size'] * 1.01)\n",
    "ax.set_xscale('linear')\n",
    "ax.set_yscale('linear')\n",
    "ax.set_xlabel(r't [Days]', fontsize=fontsize)\n",
    "ax.set_ylabel(r'Count', fontsize=fontsize)\n",
    "ax.tick_params(axis = 'both', which = 'major', labelsize=fontsize, direction='in')\n",
    "ax.tick_params(axis = 'both', which = 'minor', labelsize=fontsize, direction='in')\n",
    "h, l = ax.get_legend_handles_labels()\n",
    "lgd1 = ax.legend(h,l, loc=9, bbox_to_anchor=(0.5, +1.2),\n",
    "                 ncol=4, fontsize=fontsize, handlelength=h_length,\n",
    "                 fancybox=True, frameon=False)\n",
    "ax.add_artist(lgd1)\n",
    "plt.grid(True)\n",
    "plt.show()"
   ]
  },
  {
   "cell_type": "code",
   "execution_count": 12,
   "metadata": {},
   "outputs": [],
   "source": [
    "figure.savefig(PICS + \"Contagion_Example.png\",\n",
    "               bbox_inches='tight')"
   ]
  },
  {
   "cell_type": "code",
   "execution_count": null,
   "metadata": {},
   "outputs": [],
   "source": []
  }
 ],
 "metadata": {
  "kernelspec": {
   "display_name": "Python 3",
   "language": "python",
   "name": "python3"
  },
  "language_info": {
   "codemirror_mode": {
    "name": "ipython",
    "version": 3
   },
   "file_extension": ".py",
   "mimetype": "text/x-python",
   "name": "python",
   "nbconvert_exporter": "python",
   "pygments_lexer": "ipython3",
   "version": "3.7.3"
  }
 },
 "nbformat": 4,
 "nbformat_minor": 4
}
