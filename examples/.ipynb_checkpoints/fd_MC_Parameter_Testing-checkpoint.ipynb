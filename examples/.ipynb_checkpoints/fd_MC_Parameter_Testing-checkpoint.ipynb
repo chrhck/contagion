{
 "cells": [
  {
   "cell_type": "code",
   "execution_count": 1,
   "metadata": {},
   "outputs": [
    {
     "data": {
      "text/plain": [
       "'\\nName: fd_Parameter_Testing.ipynb\\nAuthors: Stephan Meighen-Berger, Martina Karl\\nExample for the MC method runs\\n'"
      ]
     },
     "execution_count": 1,
     "metadata": {},
     "output_type": "execute_result"
    }
   ],
   "source": [
    "\"\"\"\n",
    "Name: fd_Parameter_Testing.ipynb\n",
    "Authors: Stephan Meighen-Berger, Martina Karl\n",
    "Example for the MC method runs\n",
    "\"\"\""
   ]
  },
  {
   "cell_type": "code",
   "execution_count": 2,
   "metadata": {},
   "outputs": [],
   "source": [
    "# General imports\n",
    "import numpy as np\n",
    "import matplotlib.pyplot as plt\n",
    "import sys\n",
    "from tqdm import tqdm"
   ]
  },
  {
   "cell_type": "code",
   "execution_count": 3,
   "metadata": {},
   "outputs": [],
   "source": [
    "# Latex text rendering\n",
    "from matplotlib import rc\n",
    "rc('font',**{'family':'sans-serif','sans-serif':['Helvetica']})\n",
    "rc('text', usetex=True)"
   ]
  },
  {
   "cell_type": "code",
   "execution_count": 4,
   "metadata": {},
   "outputs": [],
   "source": [
    "# Adding path to module\n",
    "sys.path.append(\"../core/\")"
   ]
  },
  {
   "cell_type": "code",
   "execution_count": 5,
   "metadata": {},
   "outputs": [],
   "source": [
    "# Module imports\n",
    "from fourth_day import FD\n",
    "from fd_config import config"
   ]
  },
  {
   "cell_type": "code",
   "execution_count": 6,
   "metadata": {},
   "outputs": [],
   "source": [
    "# Creating a fourth_day object\n",
    "fd = FD(org_filter='generous')"
   ]
  },
  {
   "cell_type": "code",
   "execution_count": 7,
   "metadata": {},
   "outputs": [],
   "source": [
    "# Plotting standards\n",
    "std_size = 6.\n",
    "fontsize = 20.\n",
    "lw=3.\n",
    "h_length=1.5"
   ]
  },
  {
   "cell_type": "code",
   "execution_count": 8,
   "metadata": {},
   "outputs": [],
   "source": [
    "# Parameters:\n",
    "seconds = 100\n",
    "population = 100\n",
    "distance = 0."
   ]
  },
  {
   "cell_type": "code",
   "execution_count": 9,
   "metadata": {},
   "outputs": [
    {
     "name": "stderr",
     "output_type": "stream",
     "text": [
      "../core\\fd_roll_dice.py:303: RuntimeWarning: invalid value encountered in double_scalars\n",
      "  (np.linalg.norm(new_vec) * np.linalg.norm(current_vec))\n"
     ]
    }
   ],
   "source": [
    "# Regen testing\n",
    "regen_list = np.logspace(-4., 0., 4)\n",
    "results = []\n",
    "for regen in regen_list:\n",
    "    # Launching solver\n",
    "    results_tmp, _, _ = (\n",
    "        fd.solve(population, 5., [distance], 1., seconds=seconds, regen=regen)\n",
    "    )\n",
    "    results.append(results_tmp[0])"
   ]
  },
  {
   "cell_type": "code",
   "execution_count": 14,
   "metadata": {},
   "outputs": [
    {
     "data": {
      "image/png": "[encoded data removed]",
      "text/plain": [
       "<Figure size 432x324 with 1 Axes>"
      ]
     },
     "metadata": {
      "needs_background": "light"
     },
     "output_type": "display_data"
    }
   ],
   "source": [
    "# Energy distributions\n",
    "figure, ax = plt.subplots(figsize=(std_size, std_size * 6. / 8.))\n",
    "for i, regen in enumerate(regen_list):\n",
    "    ax.scatter(fd.t, results[i], s=lw*30)\n",
    "# ax.set_xlim(1e0, 1e3)\n",
    "ax.set_ylim(1e-2, 1e2)\n",
    "ax.set_xscale('linear')\n",
    "ax.set_yscale('log')\n",
    "ax.set_xlabel(r'$t\\;[s]$', fontsize=fontsize)\n",
    "ax.set_ylabel(r'$Unweighted\\;Photons$', fontsize=fontsize)\n",
    "ax.tick_params(axis = 'both', which = 'major', labelsize=fontsize, direction='in')\n",
    "ax.tick_params(axis = 'both', which = 'minor', labelsize=fontsize, direction='in')\n",
    "plt.grid(True)\n",
    "plt.show()"
   ]
  },
  {
   "cell_type": "code",
   "execution_count": 15,
   "metadata": {},
   "outputs": [],
   "source": [
    "# figure.savefig(\"C:\\\\Users\\\\steph\\\\Desktop\\\\Regeneration_Dependence.png\",\n",
    "#                bbox_inches='tight')"
   ]
  },
  {
   "cell_type": "code",
   "execution_count": null,
   "metadata": {},
   "outputs": [
    {
     "name": "stderr",
     "output_type": "stream",
     "text": [
      " 20%|████████████████▍                                                                 | 2/10 [04:50<19:33, 146.65s/it]"
     ]
    }
   ],
   "source": [
    "# Velocity testing\n",
    "velocities = np.logspace(-2, 2, 20)\n",
    "run_count = range(0, 10)\n",
    "results_vel_total = []\n",
    "for run in tqdm(run_count):\n",
    "    results_vel = []\n",
    "    for velocity in velocities:\n",
    "        # Launching solver\n",
    "        results_tmp, _, _ = (\n",
    "            fd.solve(population, velocity, [distance], 1., seconds=seconds, regen=1e-3)\n",
    "        )\n",
    "        results_vel.append(results_tmp[0])\n",
    "    results_vel_total.append(results_vel)"
   ]
  },
  {
   "cell_type": "code",
   "execution_count": null,
   "metadata": {},
   "outputs": [],
   "source": [
    "# Energy distributions\n",
    "figure, ax = plt.subplots(figsize=(std_size, std_size * 6. / 8.))\n",
    "for j in run_count:\n",
    "    for i, vel in enumerate(velocities):\n",
    "        ax.scatter([velocities[i]], [np.mean(results_vel_total[j][i])], s=lw*30)\n",
    "# ax.set_xlim(1e0, 1e3)\n",
    "ax.set_ylim(1e-3, 1e2)\n",
    "ax.set_xscale('linear')\n",
    "ax.set_yscale('log')\n",
    "ax.set_xlabel(r'$v\\;[m/s]$', fontsize=fontsize)\n",
    "ax.set_ylabel(r'$Unweighted\\;Photons$', fontsize=fontsize)\n",
    "ax.tick_params(axis = 'both', which = 'major', labelsize=fontsize, direction='in')\n",
    "ax.tick_params(axis = 'both', which = 'minor', labelsize=fontsize, direction='in')\n",
    "plt.grid(True)\n",
    "plt.show()"
   ]
  },
  {
   "cell_type": "code",
   "execution_count": null,
   "metadata": {},
   "outputs": [],
   "source": [
    "# figure.savefig(\"C:\\\\Users\\\\steph\\\\Desktop\\\\Velocity_Dependence.png\",\n",
    "#                bbox_inches='tight')"
   ]
  },
  {
   "cell_type": "code",
   "execution_count": null,
   "metadata": {},
   "outputs": [],
   "source": []
  }
 ],
 "metadata": {
  "kernelspec": {
   "display_name": "Python 3",
   "language": "python",
   "name": "python3"
  },
  "language_info": {
   "codemirror_mode": {
    "name": "ipython",
    "version": 3
   },
   "file_extension": ".py",
   "mimetype": "text/x-python",
   "name": "python",
   "nbconvert_exporter": "python",
   "pygments_lexer": "ipython3",
   "version": "3.7.4"
  }
 },
 "nbformat": 4,
 "nbformat_minor": 2
}
