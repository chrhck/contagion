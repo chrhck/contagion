{
 "cells": [
  {
   "cell_type": "code",
   "execution_count": 1,
   "metadata": {},
   "outputs": [
    {
     "data": {
      "text/plain": [
       "'\\nName: fd_MC.ipynb\\nAuthors: Stephan Meighen-Berger, Martina Karl\\nExample for the MC method runs\\n'"
      ]
     },
     "execution_count": 1,
     "metadata": {},
     "output_type": "execute_result"
    }
   ],
   "source": [
    "\"\"\"\n",
    "Name: fd_MC_Population.ipynb\n",
    "Authors: Stephan Meighen-Berger, Martina Karl\n",
    "The population development during the simulation\n",
    "\"\"\""
   ]
  },
  {
   "cell_type": "code",
   "execution_count": 2,
   "metadata": {},
   "outputs": [],
   "source": [
    "# General imports\n",
    "import numpy as np\n",
    "import matplotlib.pyplot as plt\n",
    "import sys"
   ]
  },
  {
   "cell_type": "code",
   "execution_count": 3,
   "metadata": {},
   "outputs": [],
   "source": [
    "# Latex text rendering\n",
    "from matplotlib import rc\n",
    "rc('font',**{'family':'sans-serif','sans-serif':['Helvetica']})\n",
    "rc('text', usetex=True)"
   ]
  },
  {
   "cell_type": "code",
   "execution_count": 4,
   "metadata": {},
   "outputs": [],
   "source": [
    "# Adding path to module\n",
    "sys.path.append(\"../core/\")"
   ]
  },
  {
   "cell_type": "code",
   "execution_count": 5,
   "metadata": {},
   "outputs": [],
   "source": [
    "# Module imports\n",
    "from fourth_day import FD\n",
    "from fd_config import config"
   ]
  },
  {
   "cell_type": "code",
   "execution_count": 6,
   "metadata": {},
   "outputs": [],
   "source": [
    "# Creating a fourth_day object\n",
    "fd = FD(org_filter='generous')"
   ]
  },
  {
   "cell_type": "code",
   "execution_count": null,
   "metadata": {},
   "outputs": [],
   "source": [
    "# Launching solver\n",
    "seconds = 100\n",
    "results, results_enc, results_shear = fd.solve(1000, 5., [0.], 1., seconds=seconds, regen=1e-5)"
   ]
  },
  {
   "cell_type": "code",
   "execution_count": null,
   "metadata": {},
   "outputs": [],
   "source": [
    "# Plotting standards\n",
    "std_size = 10.\n",
    "fontsize = 20.\n",
    "lw=3.\n",
    "h_length=1.5"
   ]
  },
  {
   "cell_type": "code",
   "execution_count": null,
   "metadata": {},
   "outputs": [],
   "source": [
    "# Energy distributions\n",
    "figure, ax = plt.subplots(figsize=(std_size, std_size * 6. / 8.))\n",
    "# ax.scatter(range(seconds), results[0], s=lw*30, color='k', label=r'$Total$ $incl.$ $Regen$')\n",
    "ax.scatter(fd.t, results_enc[0], s=lw*30, color='r', label=r'$Encounter$', alpha=0.5, marker=\"+\")\n",
    "ax.scatter(fd.t, results_shear[0], s=lw*30, color='b', label=r'$Shear$', alpha=0.5, marker=\"x\")\n",
    "ax.set_xlim(1e0, 1e2)\n",
    "ax.set_ylim(1e-2, 1e5)\n",
    "ax.set_xscale('linear')\n",
    "ax.set_yscale('log')\n",
    "ax.set_xlabel(r'$t\\;[s]$', fontsize=fontsize)\n",
    "ax.set_ylabel(r'$Unweighted\\;Photons$', fontsize=fontsize)\n",
    "ax.tick_params(axis = 'both', which = 'major', labelsize=fontsize, direction='in')\n",
    "ax.tick_params(axis = 'both', which = 'minor', labelsize=fontsize, direction='in')\n",
    "plt.grid(True)\n",
    "h, l = ax.get_legend_handles_labels()\n",
    "lgd1 = ax.legend(h[:2],l[:2], loc=9, bbox_to_anchor=(0.5, +1.1),\n",
    "                 ncol=2, fontsize=fontsize, handlelength=h_length,\n",
    "                 fancybox=True, frameon=False)\n",
    "lgd2 = ax.legend(h[2:],l[2:], loc=9, bbox_to_anchor=(0.5, +1.2),\n",
    "                 ncol=2, fontsize=fontsize, handlelength=h_length,\n",
    "                 fancybox=True, frameon=False)\n",
    "ax.add_artist(lgd1)\n",
    "plt.show()"
   ]
  },
  {
   "cell_type": "code",
   "execution_count": null,
   "metadata": {},
   "outputs": [],
   "source": [
    "# figure.savefig(\"C:\\\\Users\\\\steph\\\\Desktop\\\\MC_Example.png\",\n",
    "#                bbox_inches='tight')"
   ]
  },
  {
   "cell_type": "code",
   "execution_count": null,
   "metadata": {},
   "outputs": [],
   "source": [
    "from mpl_toolkits.mplot3d import Axes3D\n",
    "# Population distribution in the end\n",
    "figure = plt.figure()\n",
    "ax = figure.add_subplot(111, projection='3d')\n",
    "ax.scatter(fd.mc_run.population[:, 0],\n",
    "           fd.mc_run.population[:, 1],\n",
    "           fd.mc_run.population[:, 2],\n",
    "          )\n",
    "ax.set_xlabel('X')\n",
    "ax.set_ylabel('Y')\n",
    "ax.set_zlabel('Z')\n",
    "plt.show()"
   ]
  },
  {
   "cell_type": "code",
   "execution_count": null,
   "metadata": {},
   "outputs": [],
   "source": [
    "# figure.savefig(\"C:\\\\Users\\\\steph\\\\Desktop\\\\Distribution.png\",\n",
    "#                bbox_inches='tight')"
   ]
  },
  {
   "cell_type": "code",
   "execution_count": null,
   "metadata": {},
   "outputs": [],
   "source": []
  },
  {
   "cell_type": "code",
   "execution_count": null,
   "metadata": {},
   "outputs": [],
   "source": []
  }
 ],
 "metadata": {
  "kernelspec": {
   "display_name": "Python 3",
   "language": "python",
   "name": "python3"
  },
  "language_info": {
   "codemirror_mode": {
    "name": "ipython",
    "version": 3
   },
   "file_extension": ".py",
   "mimetype": "text/x-python",
   "name": "python",
   "nbconvert_exporter": "python",
   "pygments_lexer": "ipython3",
   "version": "3.7.4"
  }
 },
 "nbformat": 4,
 "nbformat_minor": 2
}
