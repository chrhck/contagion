{
 "cells": [
  {
   "cell_type": "code",
   "execution_count": 1,
   "metadata": {},
   "outputs": [
    {
     "name": "stderr",
     "output_type": "stream",
     "text": [
      "..\\core\\con_population.py:14: TqdmExperimentalWarning: Using `tqdm.autonotebook.tqdm` in notebook mode. Use `tqdm.tqdm` instead to force console mode (e.g. in jupyter console)\n",
      "  from tqdm.autonotebook import tqdm\n"
     ]
    }
   ],
   "source": [
    "\"\"\"\n",
    "Name: con_contact_tracing.ipynb\n",
    "Authors: Stephan Meighen-Berger\n",
    "Checks the efficiency of contact tracing\n",
    "\"\"\"\n",
    "\n",
    "import cProfile, pstats, io\n",
    "from pstats import SortKey\n",
    "%load_ext autoreload\n",
    "%autoreload 2\n",
    "# General imports\n",
    "import numpy as np\n",
    "import matplotlib.pyplot as plt\n",
    "import sys\n",
    "from scipy.signal import savgol_filter\n",
    "import scipy.sparse\n",
    "from tqdm import tqdm\n",
    "import scipy.stats\n",
    "# Latex text rendering\n",
    "from matplotlib import rc\n",
    "rc('font',**{'family':'sans-serif','sans-serif':['Helvetica']})\n",
    "rc('text', usetex=True)\n",
    "\n",
    "# Adding path to module\n",
    "sys.path.append(\"../\")\n",
    "\n",
    "# Module imports\n",
    "from core.contagion import CONTAGION, CON_population\n",
    "from core.con_config import config"
   ]
  },
  {
   "cell_type": "code",
   "execution_count": 14,
   "metadata": {},
   "outputs": [
    {
     "data": {
      "application/vnd.jupyter.widget-view+json": {
       "model_id": "87ab31a5429644edb4b72598f637bbe9",
       "version_major": 2,
       "version_minor": 0
      },
      "text/plain": [
       "HBox(children=(FloatProgress(value=0.0, max=10000.0), HTML(value='')))"
      ]
     },
     "metadata": {},
     "output_type": "display_data"
    },
    {
     "name": "stdout",
     "output_type": "stream",
     "text": [
      "\n",
      "Done constructing population\n"
     ]
    }
   ],
   "source": [
    "config[\"debug_level\"] = 0\n",
    "infected=10\n",
    "config[\"population size\"] = 10000\n",
    "config[\"average social circle\"] = 5\n",
    "#contagion = CONTAGION(infected, config=config, rstate=np.random.RandomState(1337))\n",
    "pr = cProfile.Profile()\n",
    "pr.enable()\n",
    "pop = CON_population(10000, rstate=np.random.RandomState(1337))\n",
    "pr.disable()"
   ]
  },
  {
   "cell_type": "code",
   "execution_count": 16,
   "metadata": {},
   "outputs": [
    {
     "data": {
      "text/plain": [
       "<pstats.Stats at 0x1a537a18370>"
      ]
     },
     "execution_count": 16,
     "metadata": {},
     "output_type": "execute_result"
    }
   ],
   "source": [
    "s = io.StringIO()\n",
    "sortby = SortKey.CUMULATIVE\n",
    "ps = pstats.Stats(pr, stream=s).sort_stats(sortby)\n",
    "ps.print_stats()\n",
    "#print(s.getvalue())"
   ]
  },
  {
   "cell_type": "code",
   "execution_count": 27,
   "metadata": {},
   "outputs": [
    {
     "name": "stderr",
     "output_type": "stream",
     "text": [
      "  0%|          | 0/4 [00:00<?, ?it/s]"
     ]
    },
    {
     "data": {
      "application/vnd.jupyter.widget-view+json": {
       "model_id": "64453e69639a4014a5257b8ea9ef0a03",
       "version_major": 2,
       "version_minor": 0
      },
      "text/plain": [
       "HBox(children=(FloatProgress(value=0.0, max=10000.0), HTML(value='')))"
      ]
     },
     "metadata": {},
     "output_type": "display_data"
    },
    {
     "name": "stdout",
     "output_type": "stream",
     "text": [
      "\n",
      "Done constructing population\n"
     ]
    },
    {
     "data": {
      "application/vnd.jupyter.widget-view+json": {
       "model_id": "4d3fda375f3241de8e92a1b80ef3366b",
       "version_major": 2,
       "version_minor": 0
      },
      "text/plain": [
       "HBox(children=(FloatProgress(value=0.0, max=1000.0), HTML(value='')))"
      ]
     },
     "metadata": {},
     "output_type": "display_data"
    },
    {
     "name": "stderr",
     "output_type": "stream",
     "text": [
      " 25%|██▌       | 1/4 [00:08<00:25,  8.48s/it]"
     ]
    },
    {
     "name": "stdout",
     "output_type": "stream",
     "text": [
      "\n"
     ]
    },
    {
     "data": {
      "application/vnd.jupyter.widget-view+json": {
       "model_id": "447a8eda5b5c47a681f1e8c13eb913e2",
       "version_major": 2,
       "version_minor": 0
      },
      "text/plain": [
       "HBox(children=(FloatProgress(value=0.0, max=10000.0), HTML(value='')))"
      ]
     },
     "metadata": {},
     "output_type": "display_data"
    },
    {
     "name": "stdout",
     "output_type": "stream",
     "text": [
      "\n",
      "Done constructing population\n"
     ]
    },
    {
     "data": {
      "application/vnd.jupyter.widget-view+json": {
       "model_id": "c9fed9ac79bb4a31bfea3eafe5bf6a15",
       "version_major": 2,
       "version_minor": 0
      },
      "text/plain": [
       "HBox(children=(FloatProgress(value=0.0, max=1000.0), HTML(value='')))"
      ]
     },
     "metadata": {},
     "output_type": "display_data"
    },
    {
     "name": "stderr",
     "output_type": "stream",
     "text": [
      " 50%|█████     | 2/4 [00:19<00:18,  9.11s/it]"
     ]
    },
    {
     "name": "stdout",
     "output_type": "stream",
     "text": [
      "\n"
     ]
    },
    {
     "data": {
      "application/vnd.jupyter.widget-view+json": {
       "model_id": "2caa32a78091429087006e12b84df4da",
       "version_major": 2,
       "version_minor": 0
      },
      "text/plain": [
       "HBox(children=(FloatProgress(value=0.0, max=10000.0), HTML(value='')))"
      ]
     },
     "metadata": {},
     "output_type": "display_data"
    },
    {
     "name": "stdout",
     "output_type": "stream",
     "text": [
      "\n",
      "Done constructing population\n"
     ]
    },
    {
     "data": {
      "application/vnd.jupyter.widget-view+json": {
       "model_id": "1eb61b702f5d4fccacde30e722b808ae",
       "version_major": 2,
       "version_minor": 0
      },
      "text/plain": [
       "HBox(children=(FloatProgress(value=0.0, max=1000.0), HTML(value='')))"
      ]
     },
     "metadata": {},
     "output_type": "display_data"
    },
    {
     "name": "stderr",
     "output_type": "stream",
     "text": [
      " 75%|███████▌  | 3/4 [00:31<00:10, 10.22s/it]"
     ]
    },
    {
     "name": "stdout",
     "output_type": "stream",
     "text": [
      "\n"
     ]
    },
    {
     "data": {
      "application/vnd.jupyter.widget-view+json": {
       "model_id": "d409ca3f25b447068b5b844bbe13290e",
       "version_major": 2,
       "version_minor": 0
      },
      "text/plain": [
       "HBox(children=(FloatProgress(value=0.0, max=10000.0), HTML(value='')))"
      ]
     },
     "metadata": {},
     "output_type": "display_data"
    },
    {
     "name": "stdout",
     "output_type": "stream",
     "text": [
      "\n",
      "Done constructing population\n"
     ]
    },
    {
     "data": {
      "application/vnd.jupyter.widget-view+json": {
       "model_id": "1a4873ccec6c481e94524b92f0305ebe",
       "version_major": 2,
       "version_minor": 0
      },
      "text/plain": [
       "HBox(children=(FloatProgress(value=0.0, max=1000.0), HTML(value='')))"
      ]
     },
     "metadata": {},
     "output_type": "display_data"
    },
    {
     "name": "stderr",
     "output_type": "stream",
     "text": [
      "100%|██████████| 4/4 [00:46<00:00, 11.75s/it]"
     ]
    },
    {
     "name": "stdout",
     "output_type": "stream",
     "text": [
      "\n"
     ]
    },
    {
     "name": "stderr",
     "output_type": "stream",
     "text": [
      "\n"
     ]
    }
   ],
   "source": [
    "pr = cProfile.Profile()\n",
    "config[\"population size\"] = 10000\n",
    "config[\"average social circle\"] = 10\n",
    "infected=10\n",
    "tracking_fractions = [0., 0.2, 0.4, 0.6]\n",
    "results = []\n",
    "results_infected = []\n",
    "for tracked_fraction in tqdm(tracking_fractions):\n",
    "    config['measures'] = 'contact tracing'\n",
    "    config['tracked'] = tracked_fraction\n",
    "    contagion = CONTAGION(infected, rstate=np.random.RandomState(1337))\n",
    "    # Storing the solutions\n",
    "    mc_run = contagion.sim()\n"
   ]
  },
  {
   "cell_type": "code",
   "execution_count": null,
   "metadata": {},
   "outputs": [],
   "source": [
    "csr = contagion.pop.tocsr()\n",
    "\n",
    "len(np.split(csr.indices, csr.indptr[1:-1])[0])"
   ]
  },
  {
   "cell_type": "code",
   "execution_count": null,
   "metadata": {},
   "outputs": [],
   "source": [
    "np.split()"
   ]
  },
  {
   "cell_type": "code",
   "execution_count": null,
   "metadata": {},
   "outputs": [],
   "source": [
    "s = io.StringIO()\n",
    "sortby = SortKey.CUMULATIVE\n",
    "ps = pstats.Stats(pr, stream=s).sort_stats(sortby)\n",
    "ps.print_stats()\n",
    "print(s.getvalue())"
   ]
  },
  {
   "cell_type": "code",
   "execution_count": 19,
   "metadata": {},
   "outputs": [],
   "source": [
    "# Plotting standards\n",
    "std_size = 10.\n",
    "fontsize = 20.\n",
    "lw=3.\n",
    "h_length=1."
   ]
  },
  {
   "cell_type": "code",
   "execution_count": 21,
   "metadata": {},
   "outputs": [
    {
     "data": {
      "image/png": "[encoded data removed]",
      "text/plain": [
       "<Figure size 720x540 with 3 Axes>"
      ]
     },
     "metadata": {
      "needs_background": "light"
     },
     "output_type": "display_data"
    }
   ],
   "source": [
    "\n",
    "stats = pd.DataFrame(mc_run.statistics)\n",
    "# Infections per time step\n",
    "figure, (ax1, ax2, ax3) = plt.subplots(3, 1 ,figsize=(std_size, std_size * 6. / 8.))\n",
    "colors = [\n",
    "    '#7b3294',\n",
    "    '#a1dab4',\n",
    "    '#41b6c4',\n",
    "    '#225ea8']\n",
    "high_x = 125\n",
    "#  New infections\n",
    "for i, tracked_fraction in enumerate(tracking_fractions):\n",
    "    ax1.plot(contagion.t, results[i], color=colors[i],\n",
    "            lw=lw, label='Tracked: %.1f Percent' %(tracked_fraction*100.))\n",
    "ax1.set_xlim(1e0, high_x)\n",
    "ax1.set_ylim(0., 1200)\n",
    "ax1.set_xscale('linear')\n",
    "ax1.set_yscale('linear')\n",
    "# ax1.set_xlabel(r't [Days]', fontsize=fontsize)\n",
    "ax1.set_ylabel(r'New infections', fontsize=fontsize)\n",
    "ax1.tick_params(axis = 'both', which = 'major', labelsize=fontsize, direction='in')\n",
    "ax1.tick_params(axis = 'both', which = 'minor', labelsize=fontsize, direction='in')\n",
    "h, l = ax1.get_legend_handles_labels()\n",
    "lgd1 = ax1.legend(h,l, loc=9, bbox_to_anchor=(0.5, +1.6),\n",
    "                 ncol=2, fontsize=fontsize, handlelength=h_length,\n",
    "                 fancybox=True, frameon=False)\n",
    "ax1.add_artist(lgd1)\n",
    "ax1.grid(True)\n",
    "# Infection total\n",
    "for i, tracked_fraction in enumerate(tracking_fractions):\n",
    "    ax2.plot(contagion.t, results_infected[i], color=colors[i],\n",
    "            lw=lw)\n",
    "ax2.set_xlim(1e0, high_x)\n",
    "ax2.set_ylim(0., 10000)\n",
    "ax2.set_xscale('linear')\n",
    "ax2.set_yscale('linear')\n",
    "ax2.set_xlabel(r't [Days]', fontsize=fontsize)\n",
    "ax2.set_ylabel(r'Infected', fontsize=fontsize)\n",
    "ax2.tick_params(axis = 'both', which = 'major', labelsize=fontsize, direction='in')\n",
    "ax2.tick_params(axis = 'both', which = 'minor', labelsize=fontsize, direction='in')\n",
    "# Healthy\n",
    "for i, tracked_fraction in enumerate(tracking_fractions):\n",
    "    ax3.plot(contagion.t,\n",
    "             config['population size'] - np.cumsum(results[i]),\n",
    "             lw=lw, color=colors[i],)\n",
    "ax3.set_xlim(0., high_x)\n",
    "ax3.set_ylim(1, 1.5e4)\n",
    "ax3.set_xscale('linear')\n",
    "ax3.set_yscale('log')\n",
    "ax3.set_xlabel(r't [Days]', fontsize=fontsize)\n",
    "ax3.set_ylabel(r'Healthy', fontsize=fontsize)\n",
    "ax3.tick_params(axis = 'both', which = 'major', labelsize=fontsize, direction='in')\n",
    "ax3.tick_params(axis = 'both', which = 'minor', labelsize=fontsize, direction='in')\n",
    "ax3.grid(True)\n",
    "plt.show()"
   ]
  },
  {
   "cell_type": "code",
   "execution_count": null,
   "metadata": {},
   "outputs": [],
   "source": [
    "figure.savefig(\"C:\\\\Users\\\\steph\\\\OneDrive\\\\University TUM\\\\PhD\\\\Plots\\\\Corona\\\\Contagion_Contact_Tracing.png\",\n",
    "               bbox_inches='tight')"
   ]
  },
  {
   "cell_type": "code",
   "execution_count": null,
   "metadata": {},
   "outputs": [],
   "source": [
    "contagion.R"
   ]
  },
  {
   "cell_type": "code",
   "execution_count": 22,
   "metadata": {},
   "outputs": [
    {
     "data": {
      "text/plain": [
       "array([    5,    12,    17,    19,    30,    38,    55,    90,   131,\n",
       "         181,   243,   324,   439,   555,   715,   947,  1233,  1590,\n",
       "        2043,  2534,  3094,  3744,  4413,  5134,  5761,  6336,  6866,\n",
       "        7383,  7781,  8166,  8479,  8737,  8988,  9170,  9331,  9443,\n",
       "        9543,  9618,  9684,  9745,  9802,  9832,  9870,  9889,  9919,\n",
       "        9939,  9958,  9972,  9988,  9992, 10002, 10011, 10019, 10021,\n",
       "       10025, 10035, 10038, 10041, 10045, 10047, 10050, 10050, 10052,\n",
       "       10052, 10052, 10053, 10053, 10054, 10054, 10054, 10054, 10054,\n",
       "       10054, 10054, 10054, 10054, 10054, 10054, 10054, 10054, 10054,\n",
       "       10054, 10054, 10054, 10054, 10054, 10054, 10054, 10054, 10054,\n",
       "       10054, 10054, 10054, 10054, 10054, 10054, 10054, 10054, 10054,\n",
       "       10054, 10054, 10054, 10054, 10054, 10054, 10054, 10054, 10054,\n",
       "       10054, 10054, 10054, 10054, 10054, 10054, 10054, 10054, 10054,\n",
       "       10054, 10054, 10054, 10054, 10054, 10054, 10054, 10054, 10054,\n",
       "       10054, 10054, 10054, 10054, 10054, 10054, 10054, 10054, 10054,\n",
       "       10054, 10054, 10054, 10054, 10054, 10054, 10054, 10054, 10054,\n",
       "       10054, 10054, 10054, 10054, 10054, 10054, 10054, 10054, 10054,\n",
       "       10054, 10054, 10054, 10054, 10054, 10054, 10054, 10054, 10054,\n",
       "       10054, 10054, 10054, 10054, 10054, 10054, 10054, 10054, 10054,\n",
       "       10054, 10054, 10054, 10054, 10054, 10054, 10054, 10054, 10054,\n",
       "       10054, 10054, 10054, 10054, 10054, 10054, 10054, 10054, 10054,\n",
       "       10054, 10054, 10054, 10054, 10054, 10054, 10054, 10054, 10054,\n",
       "       10054, 10054, 10054, 10054, 10054, 10054, 10054, 10054, 10054,\n",
       "       10054, 10054, 10054, 10054, 10054, 10054, 10054, 10054, 10054,\n",
       "       10054, 10054, 10054, 10054, 10054, 10054, 10054, 10054, 10054,\n",
       "       10054, 10054, 10054, 10054, 10054, 10054, 10054, 10054, 10054,\n",
       "       10054, 10054, 10054, 10054, 10054, 10054, 10054, 10054, 10054,\n",
       "       10054, 10054, 10054, 10054, 10054, 10054, 10054, 10054, 10054,\n",
       "       10054, 10054, 10054, 10054, 10054, 10054, 10054, 10054, 10054,\n",
       "       10054, 10054, 10054, 10054, 10054, 10054, 10054, 10054, 10054,\n",
       "       10054, 10054, 10054, 10054, 10054, 10054, 10054, 10054, 10054,\n",
       "       10054, 10054, 10054, 10054, 10054, 10054, 10054, 10054, 10054,\n",
       "       10054, 10054, 10054, 10054, 10054, 10054, 10054, 10054, 10054,\n",
       "       10054, 10054, 10054, 10054, 10054, 10054, 10054, 10054, 10054,\n",
       "       10054, 10054, 10054, 10054, 10054, 10054, 10054, 10054, 10054,\n",
       "       10054, 10054, 10054, 10054, 10054, 10054, 10054, 10054, 10054,\n",
       "       10054, 10054, 10054, 10054, 10054, 10054, 10054, 10054, 10054,\n",
       "       10054, 10054, 10054, 10054, 10054, 10054, 10054, 10054, 10054,\n",
       "       10054, 10054, 10054, 10054, 10054, 10054, 10054, 10054, 10054,\n",
       "       10054, 10054, 10054, 10054, 10054, 10054, 10054, 10054, 10054,\n",
       "       10054, 10054, 10054, 10054, 10054, 10054, 10054, 10054, 10054,\n",
       "       10054, 10054, 10054, 10054, 10054, 10054, 10054, 10054, 10054,\n",
       "       10054, 10054, 10054, 10054, 10054, 10054, 10054, 10054, 10054,\n",
       "       10054, 10054, 10054, 10054, 10054, 10054, 10054, 10054, 10054,\n",
       "       10054, 10054, 10054, 10054, 10054, 10054, 10054, 10054, 10054,\n",
       "       10054, 10054, 10054, 10054, 10054, 10054, 10054, 10054, 10054,\n",
       "       10054, 10054, 10054, 10054, 10054, 10054, 10054, 10054, 10054,\n",
       "       10054, 10054, 10054, 10054, 10054, 10054, 10054, 10054, 10054,\n",
       "       10054, 10054, 10054, 10054, 10054, 10054, 10054, 10054, 10054,\n",
       "       10054, 10054, 10054, 10054, 10054, 10054, 10054, 10054, 10054,\n",
       "       10054, 10054, 10054, 10054, 10054, 10054, 10054, 10054, 10054,\n",
       "       10054, 10054, 10054, 10054, 10054, 10054, 10054, 10054, 10054,\n",
       "       10054, 10054, 10054, 10054, 10054, 10054, 10054, 10054, 10054,\n",
       "       10054, 10054, 10054, 10054, 10054, 10054, 10054, 10054, 10054,\n",
       "       10054, 10054, 10054, 10054, 10054, 10054, 10054, 10054, 10054,\n",
       "       10054, 10054, 10054, 10054, 10054, 10054, 10054, 10054, 10054,\n",
       "       10054, 10054, 10054, 10054, 10054, 10054, 10054, 10054, 10054,\n",
       "       10054, 10054, 10054, 10054, 10054, 10054, 10054, 10054, 10054,\n",
       "       10054, 10054, 10054, 10054, 10054, 10054, 10054, 10054, 10054,\n",
       "       10054, 10054, 10054, 10054, 10054, 10054, 10054, 10054, 10054,\n",
       "       10054, 10054, 10054, 10054, 10054, 10054, 10054, 10054, 10054,\n",
       "       10054, 10054, 10054, 10054, 10054, 10054, 10054, 10054, 10054,\n",
       "       10054, 10054, 10054, 10054, 10054, 10054, 10054, 10054, 10054,\n",
       "       10054, 10054, 10054, 10054, 10054, 10054, 10054, 10054, 10054,\n",
       "       10054, 10054, 10054, 10054, 10054, 10054, 10054, 10054, 10054,\n",
       "       10054, 10054, 10054, 10054, 10054, 10054, 10054, 10054, 10054,\n",
       "       10054, 10054, 10054, 10054, 10054, 10054, 10054, 10054, 10054,\n",
       "       10054, 10054, 10054, 10054, 10054, 10054, 10054, 10054, 10054,\n",
       "       10054, 10054, 10054, 10054, 10054, 10054, 10054, 10054, 10054,\n",
       "       10054, 10054, 10054, 10054, 10054, 10054, 10054, 10054, 10054,\n",
       "       10054, 10054, 10054, 10054, 10054, 10054, 10054, 10054, 10054,\n",
       "       10054, 10054, 10054, 10054, 10054, 10054, 10054, 10054, 10054,\n",
       "       10054, 10054, 10054, 10054, 10054, 10054, 10054, 10054, 10054,\n",
       "       10054, 10054, 10054, 10054, 10054, 10054, 10054, 10054, 10054,\n",
       "       10054, 10054, 10054, 10054, 10054, 10054, 10054, 10054, 10054,\n",
       "       10054, 10054, 10054, 10054, 10054, 10054, 10054, 10054, 10054,\n",
       "       10054, 10054, 10054, 10054, 10054, 10054, 10054, 10054, 10054,\n",
       "       10054, 10054, 10054, 10054, 10054, 10054, 10054, 10054, 10054,\n",
       "       10054, 10054, 10054, 10054, 10054, 10054, 10054, 10054, 10054,\n",
       "       10054, 10054, 10054, 10054, 10054, 10054, 10054, 10054, 10054,\n",
       "       10054, 10054, 10054, 10054, 10054, 10054, 10054, 10054, 10054,\n",
       "       10054, 10054, 10054, 10054, 10054, 10054, 10054, 10054, 10054,\n",
       "       10054, 10054, 10054, 10054, 10054, 10054, 10054, 10054, 10054,\n",
       "       10054, 10054, 10054, 10054, 10054, 10054, 10054, 10054, 10054,\n",
       "       10054, 10054, 10054, 10054, 10054, 10054, 10054, 10054, 10054,\n",
       "       10054, 10054, 10054, 10054, 10054, 10054, 10054, 10054, 10054,\n",
       "       10054, 10054, 10054, 10054, 10054, 10054, 10054, 10054, 10054,\n",
       "       10054, 10054, 10054, 10054, 10054, 10054, 10054, 10054, 10054,\n",
       "       10054, 10054, 10054, 10054, 10054, 10054, 10054, 10054, 10054,\n",
       "       10054, 10054, 10054, 10054, 10054, 10054, 10054, 10054, 10054,\n",
       "       10054, 10054, 10054, 10054, 10054, 10054, 10054, 10054, 10054,\n",
       "       10054, 10054, 10054, 10054, 10054, 10054, 10054, 10054, 10054,\n",
       "       10054, 10054, 10054, 10054, 10054, 10054, 10054, 10054, 10054,\n",
       "       10054, 10054, 10054, 10054, 10054, 10054, 10054, 10054, 10054,\n",
       "       10054, 10054, 10054, 10054, 10054, 10054, 10054, 10054, 10054,\n",
       "       10054, 10054, 10054, 10054, 10054, 10054, 10054, 10054, 10054,\n",
       "       10054, 10054, 10054, 10054, 10054, 10054, 10054, 10054, 10054,\n",
       "       10054, 10054, 10054, 10054, 10054, 10054, 10054, 10054, 10054,\n",
       "       10054, 10054, 10054, 10054, 10054, 10054, 10054, 10054, 10054,\n",
       "       10054, 10054, 10054, 10054, 10054, 10054, 10054, 10054, 10054,\n",
       "       10054, 10054, 10054, 10054, 10054, 10054, 10054, 10054, 10054,\n",
       "       10054, 10054, 10054, 10054, 10054, 10054, 10054, 10054, 10054,\n",
       "       10054, 10054, 10054, 10054, 10054, 10054, 10054, 10054, 10054,\n",
       "       10054, 10054, 10054, 10054, 10054, 10054, 10054, 10054, 10054,\n",
       "       10054, 10054, 10054, 10054, 10054, 10054, 10054, 10054, 10054,\n",
       "       10054, 10054, 10054, 10054, 10054, 10054, 10054, 10054, 10054,\n",
       "       10054, 10054, 10054, 10054, 10054, 10054, 10054, 10054, 10054,\n",
       "       10054, 10054, 10054, 10054, 10054, 10054, 10054, 10054, 10054,\n",
       "       10054, 10054, 10054, 10054, 10054, 10054, 10054, 10054, 10054,\n",
       "       10054, 10054, 10054, 10054, 10054, 10054, 10054, 10054, 10054,\n",
       "       10054, 10054, 10054, 10054, 10054, 10054, 10054, 10054, 10054,\n",
       "       10054], dtype=int32)"
      ]
     },
     "execution_count": 22,
     "metadata": {},
     "output_type": "execute_result"
    }
   ],
   "source": [
    "np.cumsum(results[i])"
   ]
  },
  {
   "cell_type": "code",
   "execution_count": null,
   "metadata": {},
   "outputs": [],
   "source": []
  }
 ],
 "metadata": {
  "kernelspec": {
   "display_name": "Python 3",
   "language": "python",
   "name": "python3"
  },
  "language_info": {
   "codemirror_mode": {
    "name": "ipython",
    "version": 3
   },
   "file_extension": ".py",
   "mimetype": "text/x-python",
   "name": "python",
   "nbconvert_exporter": "python",
   "pygments_lexer": "ipython3",
   "version": "3.8.1"
  }
 },
 "nbformat": 4,
 "nbformat_minor": 4
}
